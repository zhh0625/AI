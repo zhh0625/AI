{
 "cells": [
  {
   "cell_type": "code",
   "execution_count": null,
   "metadata": {},
   "outputs": [],
   "source": [
    "%matplotlib inline"
   ]
  },
  {
   "cell_type": "markdown",
   "metadata": {},
   "source": [
    "\n",
    "# Using geometric transformations\n",
    "\n",
    "\n",
    "In this example, we will see how to use geometric transformations in the context\n",
    "of image processing.\n",
    "\n"
   ]
  },
  {
   "cell_type": "code",
   "execution_count": 1,
   "metadata": {},
   "outputs": [],
   "source": [
    "import math\n",
    "import numpy as np\n",
    "import matplotlib.pyplot as plt\n",
    "\n",
    "from skimage import data\n",
    "from skimage import transform as tf"
   ]
  },
  {
   "cell_type": "markdown",
   "metadata": {},
   "source": [
    "Basics\n",
    "======\n",
    "\n",
    "Several different geometric transformation types are supported: similarity,\n",
    "affine, projective and polynomial.\n",
    "\n",
    "Geometric transformations can either be created using the explicit\n",
    "parameters (e.g. scale, shear, rotation and translation) or the\n",
    "transformation matrix:\n",
    "\n",
    "First we create a transformation using explicit parameters:\n",
    "\n"
   ]
  },
  {
   "cell_type": "markdown",
   "metadata": {},
   "source": [
    "Image warping\n",
    "=============\n",
    "\n",
    "Geometric transformations can also be used to warp images:\n",
    "\n"
   ]
  },
  {
   "cell_type": "code",
   "execution_count": null,
   "metadata": {},
   "outputs": [],
   "source": [
    "text = data.text()\n",
    "\n",
    "#调用transform.SimilarityTransform函数生成变换kenel\n",
    "\n",
    "#调用print函数显示生成的变换kernel\n",
    "\n",
    "#调用transform.warp函数将生成的kernel作用于text图像上\n",
    "\n",
    "\n",
    "fig, ax = plt.subplots(nrows=3)\n",
    "#此处为显示作用结果\n",
    "ax[0].imshow(text, cmap=plt.cm.gray)\n",
    "ax[1].imshow(rotated, cmap=plt.cm.gray)\n",
    "ax[2].imshow(back_rotated, cmap=plt.cm.gray)\n",
    "\n",
    "for a in ax:\n",
    "    a.axis('off')\n",
    "\n",
    "plt.tight_layout()"
   ]
  },
  {
   "cell_type": "code",
   "execution_count": null,
   "metadata": {},
   "outputs": [],
   "source": []
  }
 ],
 "metadata": {
  "kernelspec": {
   "display_name": "Python 3",
   "language": "python",
   "name": "python3"
  },
  "language_info": {
   "codemirror_mode": {
    "name": "ipython",
    "version": 3
   },
   "file_extension": ".py",
   "mimetype": "text/x-python",
   "name": "python",
   "nbconvert_exporter": "python",
   "pygments_lexer": "ipython3",
   "version": "3.6.5"
  }
 },
 "nbformat": 4,
 "nbformat_minor": 1
}
