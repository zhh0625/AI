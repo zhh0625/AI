{
 "cells": [
  {
   "cell_type": "code",
   "execution_count": null,
   "metadata": {},
   "outputs": [],
   "source": [
    "%matplotlib inline"
   ]
  },
  {
   "cell_type": "markdown",
   "metadata": {},
   "source": [
    "\n",
    "==============================\n",
    "Rescale, resize, and downscale\n",
    "==============================\n",
    "\n",
    "`Rescale` operation resizes an image by a given scaling factor. The scaling\n",
    "factor can either be a single floating point value, or multiple values - one\n",
    "along each axis.\n",
    "\n",
    "`Resize` serves the same purpose, but allows to specify an output image shape\n",
    "instead of a scaling factor.\n",
    "\n",
    "Note that when down-sampling an image, `resize` and `rescale` should perform\n",
    "Gaussian smoothing to avoid aliasing artifacts. See the `anti_aliasing` and\n",
    "`anti_aliasing_sigma` arguments to these functions.\n",
    "\n",
    "`Downscale` serves the purpose of down-sampling an n-dimensional image by\n",
    "integer factors using the local mean on the elements of each block of the size\n",
    "factors given as a parameter to the function.\n",
    "\n",
    "\n"
   ]
  },
  {
   "cell_type": "code",
   "execution_count": null,
   "metadata": {},
   "outputs": [],
   "source": [
    "import matplotlib.pyplot as plt\n",
    "\n",
    "from skimage import data, color\n",
    "from skimage.transform import rescale, resize, downscale_local_mean\n",
    "\n",
    "image = color.rgb2gray(data.astronaut())\n",
    "\n",
    "#尝试调用rescale函数缩放astronaut图片\n",
    "\n",
    "\n",
    "#尝试调用resize函数改变astronaut图片尺寸\n",
    "\n",
    "\n",
    "#尝试调用downscale_local_mean函数缩小astronaut图片\n",
    "\n",
    "fig, axes = plt.subplots(nrows=2, ncols=2)\n",
    "\n",
    "ax = axes.ravel()\n",
    "\n",
    "ax[0].imshow(image, cmap='gray')\n",
    "ax[0].set_title(\"Original image\")\n",
    "\n",
    "ax[1].imshow(image_rescaled, cmap='gray')\n",
    "ax[1].set_title(\"Rescaled image (aliasing)\")\n",
    "\n",
    "ax[2].imshow(image_resized, cmap='gray')\n",
    "ax[2].set_title(\"Resized image (no aliasing)\")\n",
    "\n",
    "ax[3].imshow(image_downscaled, cmap='gray')\n",
    "ax[3].set_title(\"Downscaled image (no aliasing)\")\n",
    "\n",
    "ax[0].set_xlim(0, 512)\n",
    "ax[0].set_ylim(512, 0)\n",
    "plt.tight_layout()\n",
    "plt.show()"
   ]
  }
 ],
 "metadata": {
  "kernelspec": {
   "display_name": "Python 3",
   "language": "python",
   "name": "python3"
  },
  "language_info": {
   "codemirror_mode": {
    "name": "ipython",
    "version": 3
   },
   "file_extension": ".py",
   "mimetype": "text/x-python",
   "name": "python",
   "nbconvert_exporter": "python",
   "pygments_lexer": "ipython3",
   "version": "3.6.5"
  }
 },
 "nbformat": 4,
 "nbformat_minor": 1
}
