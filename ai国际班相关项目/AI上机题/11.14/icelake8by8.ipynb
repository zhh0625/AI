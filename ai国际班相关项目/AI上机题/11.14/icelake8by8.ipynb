{
  "cells": [
    {
      "cell_type": "code",
      "execution_count": 1,
      "metadata": {
        "pycharm": {
          "is_executing": false
        }
      },
      "outputs": [],
      "source": [
        "\"\"\"\n",
        "Solving FrozenLake8x8 environment using Policy iteration.\n",
        "Author : Moustafa Alzantot (malzantot@ucla.edu)\n",
        "\"\"\"\n",
        "import numpy as np\n",
        "import gym\n",
        "from gym import wrappers\n",
        "\n",
        "\n",
        "def run_episode(env, policy, gamma \u003d 1.0, render \u003d False): #运行事件\n",
        "    \"\"\" Runs an episode and return the total reward \"\"\"\n",
        "    obs \u003d env.reset()\n",
        "    total_reward \u003d 0\n",
        "    step_idx \u003d 0\n",
        "    while True:\n",
        "        if render:\n",
        "            env.render()\n",
        "        obs, reward, done , _ \u003d env.step(int(policy[obs]))\n",
        "        total_reward +\u003d (gamma ** step_idx * reward)\n",
        "        step_idx +\u003d 1\n",
        "        if done:\n",
        "            break\n",
        "    return total_reward\n"
      ]
    },
    {
      "cell_type": "code",
      "execution_count": 3,
      "metadata": {
        "pycharm": {}
      },
      "outputs": [],
      "source": [
        "def evaluate_policy(env, policy, gamma \u003d 1.0, n \u003d 100): #评估政策\n",
        "    scores \u003d [run_episode(env, policy, gamma, False) for _ in range(n)]\n",
        "    return np.mean(scores)"
      ]
    },
    {
      "cell_type": "code",
      "execution_count": 4,
      "metadata": {
        "pycharm": {}
      },
      "outputs": [],
      "source": [
        "def extract_policy(v, gamma \u003d 1.0): #提取政策\n",
        "    \"\"\" Extract the policy given a value-function \"\"\"\n",
        "    policy \u003d np.zeros(env.nS)\n",
        "    for s in range(env.nS):\n",
        "        q_sa \u003d np.zeros(env.nA)\n",
        "        for a in range(env.nA):\n",
        "            q_sa[a] \u003d sum([p * (r + gamma * v[s_]) for p, s_, r, _ in  env.P[s][a]])\n",
        "        policy[s] \u003d np.argmax(q_sa)\n",
        "    return policy"
      ]
    },
    {
      "cell_type": "code",
      "execution_count": 5,
      "metadata": {
        "pycharm": {}
      },
      "outputs": [],
      "source": [
        "def compute_policy_v(env, policy, gamma\u003d1.0): #计算政策\n",
        "    \"\"\" Iteratively evaluate the value-function under policy.\n",
        "    Alternatively, we could formulate a set of linear equations in iterms of v[s] \n",
        "    and solve them to find the value function.\n",
        "    \"\"\"\n",
        "    v \u003d np.zeros(env.nS)\n",
        "    eps \u003d 1e-10\n",
        "    while True:\n",
        "        prev_v \u003d np.copy(v)\n",
        "        for s in range(env.nS):\n",
        "            policy_a \u003d policy[s]\n",
        "            v[s] \u003d sum([p * (r + gamma * prev_v[s_]) for p, s_, r, _ in env.P[s][policy_a]])\n",
        "        if (np.sum((np.fabs(prev_v - v))) \u003c\u003d eps):\n",
        "            # value converged\n",
        "            break\n",
        "    return v"
      ]
    },
    {
      "cell_type": "code",
      "execution_count": 6,
      "metadata": {
        "pycharm": {}
      },
      "outputs": [],
      "source": [
        "def policy_iteration(env, gamma \u003d 1.0): #策略迭代\n",
        "    \"\"\" Policy-Iteration algorithm \"\"\"\n",
        "    policy \u003d np.random.choice(env.nA, size\u003d(env.nS))  # initialize a random policy\n",
        "    max_iterations \u003d 200000\n",
        "    gamma \u003d 1.0\n",
        "    for i in range(max_iterations):\n",
        "        old_policy_v \u003d compute_policy_v(env, policy, gamma)\n",
        "        new_policy \u003d extract_policy(old_policy_v, gamma)\n",
        "        if (np.all(policy \u003d\u003d new_policy)):\n",
        "            print (\u0027Policy-Iteration converged at step %d.\u0027 %(i+1))\n",
        "            break\n",
        "        policy \u003d new_policy\n",
        "    return policy"
      ]
    },
    {
      "cell_type": "code",
      "execution_count": 7,
      "metadata": {
        "pycharm": {}
      },
      "outputs": [
        {
          "name": "stdout",
          "output_type": "stream",
          "text": [
            "Policy-Iteration converged at step 7.\n",
            "Average scores \u003d  0.87\n"
          ]
        }
      ],
      "source": [
        "if __name__ \u003d\u003d \u0027__main__\u0027:\n",
        "    env_name  \u003d \u0027FrozenLake8x8-v0\u0027\n",
        "    env \u003d gym.make(env_name)  #创建环境\n",
        "    optimal_policy \u003d policy_iteration(env, gamma \u003d 1.0)\n",
        "    scores \u003d evaluate_policy(env, optimal_policy, gamma \u003d 1.0)\n",
        "    print(\u0027Average scores \u003d \u0027, np.mean(scores))"
      ]
    },
    {
      "cell_type": "code",
      "execution_count": null,
      "metadata": {
        "pycharm": {}
      },
      "outputs": [],
      "source": []
    },
    {
      "cell_type": "code",
      "execution_count": null,
      "metadata": {
        "pycharm": {}
      },
      "outputs": [],
      "source": []
    }
  ],
  "metadata": {
    "kernelspec": {
      "display_name": "Python 3",
      "language": "python",
      "name": "python3"
    },
    "language_info": {
      "codemirror_mode": {
        "name": "ipython",
        "version": 3
      },
      "file_extension": ".py",
      "mimetype": "text/x-python",
      "name": "python",
      "nbconvert_exporter": "python",
      "pygments_lexer": "ipython3",
      "version": "3.6.5"
    }
  },
  "nbformat": 4,
  "nbformat_minor": 2
}