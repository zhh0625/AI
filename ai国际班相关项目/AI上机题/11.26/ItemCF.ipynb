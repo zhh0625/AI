{
 "cells": [
  {
   "cell_type": "code",
   "execution_count": 1,
   "metadata": {
    "pycharm": {
     "metadata": false,
     "name": "#%%\n"
    }
   },
   "outputs": [
    {
     "name": "stdout",
     "output_type": "stream",
     "text": [
      "{'苹果': {'⾹蕉': 0.5773502691896258, '⻄⽠': 0.6666666666666666, '菠萝': 0.4082482904638631}, '⾹蕉': {'苹果': 0.5773502691896258, '⻄⽠': 0.5773502691896258, '菠萝': 0.35355339059327373, '葡萄': 0.35355339059327373}, '⻄⽠': {'苹果': 0.6666666666666666, '⾹蕉': 0.5773502691896258}, '菠萝': {'苹果': 0.4082482904638631, '⾹蕉': 0.35355339059327373, '葡萄': 0.5}, '葡萄': {'⾹蕉': 0.35355339059327373, '菠萝': 0.5}}\n"
     ]
    }
   ],
   "source": [
    "import math\n",
    "def ItemSimilarity(train):\n",
    "    C = dict() ##同时被购买的次数\n",
    "    N = dict() ##购买⽤户数\n",
    "    for u,items in train.items():\n",
    "        for i in items.keys():\n",
    "            if i not in N.keys():\n",
    "                N[i] = 0\n",
    "            N[i] += 1\n",
    "            for j in items.keys():\n",
    "                if i == j:\n",
    "                    continue\n",
    "                if i not in C.keys():\n",
    "                    C[i] = dict()\n",
    "                if j not in C[i].keys():\n",
    "                    C[i][j] = 0\n",
    "##当⽤户同时购买了i和j，则加1\n",
    "                C[i][j] += 1\n",
    "    W = dict() ##相似分数\n",
    "    for i, related_items in C.items():\n",
    "        if i not in W.keys():\n",
    "            W[i] = dict()\n",
    "        for j,cij in related_items.items():\n",
    "            W[i][j] = cij / math.sqrt(N[i]*N[j])\n",
    "    return W\n",
    "if __name__ == '__main__':\n",
    "    Train_Data = {\n",
    "        'A':{ '苹果':1,'⾹蕉':1,'⻄⽠':1 },\n",
    "        'B':{'苹果':1,'⻄⽠':1},\n",
    "        'C':{'苹果':1,'⾹蕉':1,'菠萝':1},\n",
    "        'D':{'⾹蕉':1,'葡萄':1},\n",
    "        'E':{'葡萄':1,'菠萝':1},\n",
    "        'F':{'⾹蕉':1,'⻄⽠':1}\n",
    " }\n",
    "    W = ItemSimilarity(Train_Data)\n",
    "    print(W)\n"
   ]
  },
  {
   "cell_type": "code",
   "execution_count": null,
   "metadata": {},
   "outputs": [],
   "source": []
  }
 ],
 "metadata": {
  "kernelspec": {
   "display_name": "Python 3",
   "language": "python",
   "name": "python3"
  },
  "language_info": {
   "codemirror_mode": {
    "name": "ipython",
    "version": 3
   },
   "file_extension": ".py",
   "mimetype": "text/x-python",
   "name": "python",
   "nbconvert_exporter": "python",
   "pygments_lexer": "ipython3",
   "version": "3.6.5"
  },
  "stem_cell": {
   "cell_type": "raw",
   "metadata": {
    "pycharm": {
     "metadata": false
    }
   },
   "source": ""
  }
 },
 "nbformat": 4,
 "nbformat_minor": 1
}
