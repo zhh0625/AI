{
  "cells": [
    {
      "cell_type": "code",
      "execution_count": 5,
      "metadata": {
        "pycharm": {}
      },
      "outputs": [
        {
          "name": "stdout",
          "output_type": "stream",
          "text": [
            "Automatically created module for IPython interactive environment\n"
          ]
        }
      ],
      "source": [
        "### 导入依赖 ###\n",
        "print(__doc__)\n",
        "import seaborn as sns\n",
        "import pandas as pd\n",
        "import matplotlib.pyplot as plt\n",
        "from itertools import cycle\n",
        "from sklearn.metrics import confusion_matrix\n",
        "from sklearn.metrics import roc_curve, auc"
      ]
    },
    {
      "cell_type": "code",
      "execution_count": 6,
      "metadata": {
        "pycharm": {}
      },
      "outputs": [],
      "source": [
        "### 利用一个3分类问题，理解Confusion matrix 和 ROC curve #注意 pd.read_csv中sep参数的选择\n",
        "y_pred \u003d pd.read_csv(\u0027y_predicted_label.csv\u0027,sep\u003d\u0027\\t\u0027)\n",
        "y_test \u003d pd.read_csv(\u0027y_true.csv\u0027,sep\u003d\u0027\\t\u0027)\n",
        "y_score \u003d pd.read_csv(\u0027y_predicted_score.csv\u0027,sep\u003d\u0027\\t\u0027)\n"
      ]
    },
    {
      "cell_type": "code",
      "execution_count": 7,
      "metadata": {
        "pycharm": {}
      },
      "outputs": [
        {
          "data": {
            "text/html": [
              "\u003cdiv\u003e\n",
              "\u003cstyle scoped\u003e\n",
              "    .dataframe tbody tr th:only-of-type {\n",
              "        vertical-align: middle;\n",
              "    }\n",
              "\n",
              "    .dataframe tbody tr th {\n",
              "        vertical-align: top;\n",
              "    }\n",
              "\n",
              "    .dataframe thead th {\n",
              "        text-align: right;\n",
              "    }\n",
              "\u003c/style\u003e\n",
              "\u003ctable border\u003d\"1\" class\u003d\"dataframe\"\u003e\n",
              "  \u003cthead\u003e\n",
              "    \u003ctr style\u003d\"text-align: right;\"\u003e\n",
              "      \u003cth\u003e\u003c/th\u003e\n",
              "      \u003cth\u003eclass1\u003c/th\u003e\n",
              "      \u003cth\u003eclass2\u003c/th\u003e\n",
              "      \u003cth\u003eclass3\u003c/th\u003e\n",
              "    \u003c/tr\u003e\n",
              "  \u003c/thead\u003e\n",
              "  \u003ctbody\u003e\n",
              "    \u003ctr\u003e\n",
              "      \u003cth\u003e0\u003c/th\u003e\n",
              "      \u003ctd\u003e0\u003c/td\u003e\n",
              "      \u003ctd\u003e0\u003c/td\u003e\n",
              "      \u003ctd\u003e1\u003c/td\u003e\n",
              "    \u003c/tr\u003e\n",
              "    \u003ctr\u003e\n",
              "      \u003cth\u003e1\u003c/th\u003e\n",
              "      \u003ctd\u003e0\u003c/td\u003e\n",
              "      \u003ctd\u003e0\u003c/td\u003e\n",
              "      \u003ctd\u003e0\u003c/td\u003e\n",
              "    \u003c/tr\u003e\n",
              "    \u003ctr\u003e\n",
              "      \u003cth\u003e2\u003c/th\u003e\n",
              "      \u003ctd\u003e1\u003c/td\u003e\n",
              "      \u003ctd\u003e0\u003c/td\u003e\n",
              "      \u003ctd\u003e0\u003c/td\u003e\n",
              "    \u003c/tr\u003e\n",
              "    \u003ctr\u003e\n",
              "      \u003cth\u003e3\u003c/th\u003e\n",
              "      \u003ctd\u003e0\u003c/td\u003e\n",
              "      \u003ctd\u003e0\u003c/td\u003e\n",
              "      \u003ctd\u003e1\u003c/td\u003e\n",
              "    \u003c/tr\u003e\n",
              "    \u003ctr\u003e\n",
              "      \u003cth\u003e4\u003c/th\u003e\n",
              "      \u003ctd\u003e0\u003c/td\u003e\n",
              "      \u003ctd\u003e0\u003c/td\u003e\n",
              "      \u003ctd\u003e0\u003c/td\u003e\n",
              "    \u003c/tr\u003e\n",
              "    \u003ctr\u003e\n",
              "      \u003cth\u003e...\u003c/th\u003e\n",
              "      \u003ctd\u003e...\u003c/td\u003e\n",
              "      \u003ctd\u003e...\u003c/td\u003e\n",
              "      \u003ctd\u003e...\u003c/td\u003e\n",
              "    \u003c/tr\u003e\n",
              "    \u003ctr\u003e\n",
              "      \u003cth\u003e70\u003c/th\u003e\n",
              "      \u003ctd\u003e0\u003c/td\u003e\n",
              "      \u003ctd\u003e0\u003c/td\u003e\n",
              "      \u003ctd\u003e1\u003c/td\u003e\n",
              "    \u003c/tr\u003e\n",
              "    \u003ctr\u003e\n",
              "      \u003cth\u003e71\u003c/th\u003e\n",
              "      \u003ctd\u003e0\u003c/td\u003e\n",
              "      \u003ctd\u003e0\u003c/td\u003e\n",
              "      \u003ctd\u003e0\u003c/td\u003e\n",
              "    \u003c/tr\u003e\n",
              "    \u003ctr\u003e\n",
              "      \u003cth\u003e72\u003c/th\u003e\n",
              "      \u003ctd\u003e1\u003c/td\u003e\n",
              "      \u003ctd\u003e0\u003c/td\u003e\n",
              "      \u003ctd\u003e0\u003c/td\u003e\n",
              "    \u003c/tr\u003e\n",
              "    \u003ctr\u003e\n",
              "      \u003cth\u003e73\u003c/th\u003e\n",
              "      \u003ctd\u003e1\u003c/td\u003e\n",
              "      \u003ctd\u003e0\u003c/td\u003e\n",
              "      \u003ctd\u003e0\u003c/td\u003e\n",
              "    \u003c/tr\u003e\n",
              "    \u003ctr\u003e\n",
              "      \u003cth\u003e74\u003c/th\u003e\n",
              "      \u003ctd\u003e0\u003c/td\u003e\n",
              "      \u003ctd\u003e0\u003c/td\u003e\n",
              "      \u003ctd\u003e0\u003c/td\u003e\n",
              "    \u003c/tr\u003e\n",
              "  \u003c/tbody\u003e\n",
              "\u003c/table\u003e\n",
              "\u003cp\u003e75 rows × 3 columns\u003c/p\u003e\n",
              "\u003c/div\u003e"
            ],
            "text/plain": [
              "    class1  class2  class3\n",
              "0        0       0       1\n",
              "1        0       0       0\n",
              "2        1       0       0\n",
              "3        0       0       1\n",
              "4        0       0       0\n",
              "..     ...     ...     ...\n",
              "70       0       0       1\n",
              "71       0       0       0\n",
              "72       1       0       0\n",
              "73       1       0       0\n",
              "74       0       0       0\n",
              "\n",
              "[75 rows x 3 columns]"
            ]
          },
          "execution_count": 7,
          "metadata": {},
          "output_type": "execute_result"
        }
      ],
      "source": [
        "y_test"
      ]
    },
    {
      "cell_type": "code",
      "execution_count": 8,
      "metadata": {
        "pycharm": {}
      },
      "outputs": [
        {
          "data": {
            "text/html": [
              "\u003cdiv\u003e\n",
              "\u003cstyle scoped\u003e\n",
              "    .dataframe tbody tr th:only-of-type {\n",
              "        vertical-align: middle;\n",
              "    }\n",
              "\n",
              "    .dataframe tbody tr th {\n",
              "        vertical-align: top;\n",
              "    }\n",
              "\n",
              "    .dataframe thead th {\n",
              "        text-align: right;\n",
              "    }\n",
              "\u003c/style\u003e\n",
              "\u003ctable border\u003d\"1\" class\u003d\"dataframe\"\u003e\n",
              "  \u003cthead\u003e\n",
              "    \u003ctr style\u003d\"text-align: right;\"\u003e\n",
              "      \u003cth\u003e\u003c/th\u003e\n",
              "      \u003cth\u003eclass1\u003c/th\u003e\n",
              "      \u003cth\u003eclass2\u003c/th\u003e\n",
              "      \u003cth\u003eclass3\u003c/th\u003e\n",
              "    \u003c/tr\u003e\n",
              "  \u003c/thead\u003e\n",
              "  \u003ctbody\u003e\n",
              "    \u003ctr\u003e\n",
              "      \u003cth\u003e0\u003c/th\u003e\n",
              "      \u003ctd\u003e0\u003c/td\u003e\n",
              "      \u003ctd\u003e0\u003c/td\u003e\n",
              "      \u003ctd\u003e1\u003c/td\u003e\n",
              "    \u003c/tr\u003e\n",
              "    \u003ctr\u003e\n",
              "      \u003cth\u003e1\u003c/th\u003e\n",
              "      \u003ctd\u003e0\u003c/td\u003e\n",
              "      \u003ctd\u003e0\u003c/td\u003e\n",
              "      \u003ctd\u003e0\u003c/td\u003e\n",
              "    \u003c/tr\u003e\n",
              "    \u003ctr\u003e\n",
              "      \u003cth\u003e2\u003c/th\u003e\n",
              "      \u003ctd\u003e1\u003c/td\u003e\n",
              "      \u003ctd\u003e0\u003c/td\u003e\n",
              "      \u003ctd\u003e0\u003c/td\u003e\n",
              "    \u003c/tr\u003e\n",
              "    \u003ctr\u003e\n",
              "      \u003cth\u003e3\u003c/th\u003e\n",
              "      \u003ctd\u003e0\u003c/td\u003e\n",
              "      \u003ctd\u003e0\u003c/td\u003e\n",
              "      \u003ctd\u003e1\u003c/td\u003e\n",
              "    \u003c/tr\u003e\n",
              "    \u003ctr\u003e\n",
              "      \u003cth\u003e4\u003c/th\u003e\n",
              "      \u003ctd\u003e0\u003c/td\u003e\n",
              "      \u003ctd\u003e0\u003c/td\u003e\n",
              "      \u003ctd\u003e0\u003c/td\u003e\n",
              "    \u003c/tr\u003e\n",
              "    \u003ctr\u003e\n",
              "      \u003cth\u003e...\u003c/th\u003e\n",
              "      \u003ctd\u003e...\u003c/td\u003e\n",
              "      \u003ctd\u003e...\u003c/td\u003e\n",
              "      \u003ctd\u003e...\u003c/td\u003e\n",
              "    \u003c/tr\u003e\n",
              "    \u003ctr\u003e\n",
              "      \u003cth\u003e70\u003c/th\u003e\n",
              "      \u003ctd\u003e0\u003c/td\u003e\n",
              "      \u003ctd\u003e0\u003c/td\u003e\n",
              "      \u003ctd\u003e1\u003c/td\u003e\n",
              "    \u003c/tr\u003e\n",
              "    \u003ctr\u003e\n",
              "      \u003cth\u003e71\u003c/th\u003e\n",
              "      \u003ctd\u003e0\u003c/td\u003e\n",
              "      \u003ctd\u003e0\u003c/td\u003e\n",
              "      \u003ctd\u003e0\u003c/td\u003e\n",
              "    \u003c/tr\u003e\n",
              "    \u003ctr\u003e\n",
              "      \u003cth\u003e72\u003c/th\u003e\n",
              "      \u003ctd\u003e1\u003c/td\u003e\n",
              "      \u003ctd\u003e0\u003c/td\u003e\n",
              "      \u003ctd\u003e0\u003c/td\u003e\n",
              "    \u003c/tr\u003e\n",
              "    \u003ctr\u003e\n",
              "      \u003cth\u003e73\u003c/th\u003e\n",
              "      \u003ctd\u003e1\u003c/td\u003e\n",
              "      \u003ctd\u003e0\u003c/td\u003e\n",
              "      \u003ctd\u003e0\u003c/td\u003e\n",
              "    \u003c/tr\u003e\n",
              "    \u003ctr\u003e\n",
              "      \u003cth\u003e74\u003c/th\u003e\n",
              "      \u003ctd\u003e0\u003c/td\u003e\n",
              "      \u003ctd\u003e0\u003c/td\u003e\n",
              "      \u003ctd\u003e0\u003c/td\u003e\n",
              "    \u003c/tr\u003e\n",
              "  \u003c/tbody\u003e\n",
              "\u003c/table\u003e\n",
              "\u003cp\u003e75 rows × 3 columns\u003c/p\u003e\n",
              "\u003c/div\u003e"
            ],
            "text/plain": [
              "    class1  class2  class3\n",
              "0        0       0       1\n",
              "1        0       0       0\n",
              "2        1       0       0\n",
              "3        0       0       1\n",
              "4        0       0       0\n",
              "..     ...     ...     ...\n",
              "70       0       0       1\n",
              "71       0       0       0\n",
              "72       1       0       0\n",
              "73       1       0       0\n",
              "74       0       0       0\n",
              "\n",
              "[75 rows x 3 columns]"
            ]
          },
          "execution_count": 8,
          "metadata": {},
          "output_type": "execute_result"
        }
      ],
      "source": [
        "y_pred"
      ]
    },
    {
      "cell_type": "code",
      "execution_count": 9,
      "metadata": {
        "pycharm": {}
      },
      "outputs": [
        {
          "data": {
            "text/html": [
              "\u003cdiv\u003e\n",
              "\u003cstyle scoped\u003e\n",
              "    .dataframe tbody tr th:only-of-type {\n",
              "        vertical-align: middle;\n",
              "    }\n",
              "\n",
              "    .dataframe tbody tr th {\n",
              "        vertical-align: top;\n",
              "    }\n",
              "\n",
              "    .dataframe thead th {\n",
              "        text-align: right;\n",
              "    }\n",
              "\u003c/style\u003e\n",
              "\u003ctable border\u003d\"1\" class\u003d\"dataframe\"\u003e\n",
              "  \u003cthead\u003e\n",
              "    \u003ctr style\u003d\"text-align: right;\"\u003e\n",
              "      \u003cth\u003e\u003c/th\u003e\n",
              "      \u003cth\u003eclass1\u003c/th\u003e\n",
              "      \u003cth\u003eclass2\u003c/th\u003e\n",
              "      \u003cth\u003eclass3\u003c/th\u003e\n",
              "    \u003c/tr\u003e\n",
              "  \u003c/thead\u003e\n",
              "  \u003ctbody\u003e\n",
              "    \u003ctr\u003e\n",
              "      \u003cth\u003e0\u003c/th\u003e\n",
              "      \u003ctd\u003e-0.763011\u003c/td\u003e\n",
              "      \u003ctd\u003e-0.364825\u003c/td\u003e\n",
              "      \u003ctd\u003e0.123864\u003c/td\u003e\n",
              "    \u003c/tr\u003e\n",
              "    \u003ctr\u003e\n",
              "      \u003cth\u003e1\u003c/th\u003e\n",
              "      \u003ctd\u003e-0.202245\u003c/td\u003e\n",
              "      \u003ctd\u003e-0.631444\u003c/td\u003e\n",
              "      \u003ctd\u003e-0.166123\u003c/td\u003e\n",
              "    \u003c/tr\u003e\n",
              "    \u003ctr\u003e\n",
              "      \u003cth\u003e2\u003c/th\u003e\n",
              "      \u003ctd\u003e0.118015\u003c/td\u003e\n",
              "      \u003ctd\u003e-0.802631\u003c/td\u003e\n",
              "      \u003ctd\u003e-0.320559\u003c/td\u003e\n",
              "    \u003c/tr\u003e\n",
              "    \u003ctr\u003e\n",
              "      \u003cth\u003e3\u003c/th\u003e\n",
              "      \u003ctd\u003e-0.907809\u003c/td\u003e\n",
              "      \u003ctd\u003e-0.123955\u003c/td\u003e\n",
              "      \u003ctd\u003e0.021998\u003c/td\u003e\n",
              "    \u003c/tr\u003e\n",
              "    \u003ctr\u003e\n",
              "      \u003cth\u003e4\u003c/th\u003e\n",
              "      \u003ctd\u003e-0.011162\u003c/td\u003e\n",
              "      \u003ctd\u003e-0.279135\u003c/td\u003e\n",
              "      \u003ctd\u003e-0.718892\u003c/td\u003e\n",
              "    \u003c/tr\u003e\n",
              "    \u003ctr\u003e\n",
              "      \u003cth\u003e...\u003c/th\u003e\n",
              "      \u003ctd\u003e...\u003c/td\u003e\n",
              "      \u003ctd\u003e...\u003c/td\u003e\n",
              "      \u003ctd\u003e...\u003c/td\u003e\n",
              "    \u003c/tr\u003e\n",
              "    \u003ctr\u003e\n",
              "      \u003cth\u003e70\u003c/th\u003e\n",
              "      \u003ctd\u003e-0.414670\u003c/td\u003e\n",
              "      \u003ctd\u003e-0.637059\u003c/td\u003e\n",
              "      \u003ctd\u003e0.048387\u003c/td\u003e\n",
              "    \u003c/tr\u003e\n",
              "    \u003ctr\u003e\n",
              "      \u003cth\u003e71\u003c/th\u003e\n",
              "      \u003ctd\u003e-0.304362\u003c/td\u003e\n",
              "      \u003ctd\u003e-0.084254\u003c/td\u003e\n",
              "      \u003ctd\u003e-0.618647\u003c/td\u003e\n",
              "    \u003c/tr\u003e\n",
              "    \u003ctr\u003e\n",
              "      \u003cth\u003e72\u003c/th\u003e\n",
              "      \u003ctd\u003e0.188697\u003c/td\u003e\n",
              "      \u003ctd\u003e-0.887959\u003c/td\u003e\n",
              "      \u003ctd\u003e-0.297131\u003c/td\u003e\n",
              "    \u003c/tr\u003e\n",
              "    \u003ctr\u003e\n",
              "      \u003cth\u003e73\u003c/th\u003e\n",
              "      \u003ctd\u003e0.249662\u003c/td\u003e\n",
              "      \u003ctd\u003e-0.805075\u003c/td\u003e\n",
              "      \u003ctd\u003e-0.443245\u003c/td\u003e\n",
              "    \u003c/tr\u003e\n",
              "    \u003ctr\u003e\n",
              "      \u003cth\u003e74\u003c/th\u003e\n",
              "      \u003ctd\u003e-0.399805\u003c/td\u003e\n",
              "      \u003ctd\u003e-0.290168\u003c/td\u003e\n",
              "      \u003ctd\u003e-0.304134\u003c/td\u003e\n",
              "    \u003c/tr\u003e\n",
              "  \u003c/tbody\u003e\n",
              "\u003c/table\u003e\n",
              "\u003cp\u003e75 rows × 3 columns\u003c/p\u003e\n",
              "\u003c/div\u003e"
            ],
            "text/plain": [
              "      class1    class2    class3\n",
              "0  -0.763011 -0.364825  0.123864\n",
              "1  -0.202245 -0.631444 -0.166123\n",
              "2   0.118015 -0.802631 -0.320559\n",
              "3  -0.907809 -0.123955  0.021998\n",
              "4  -0.011162 -0.279135 -0.718892\n",
              "..       ...       ...       ...\n",
              "70 -0.414670 -0.637059  0.048387\n",
              "71 -0.304362 -0.084254 -0.618647\n",
              "72  0.188697 -0.887959 -0.297131\n",
              "73  0.249662 -0.805075 -0.443245\n",
              "74 -0.399805 -0.290168 -0.304134\n",
              "\n",
              "[75 rows x 3 columns]"
            ]
          },
          "execution_count": 9,
          "metadata": {},
          "output_type": "execute_result"
        }
      ],
      "source": [
        "y_score"
      ]
    },
    {
      "cell_type": "code",
      "execution_count": 14,
      "metadata": {
        "pycharm": {}
      },
      "outputs": [],
      "source": [
        "###定义初始变量，请将fpr tpr rpc auc 定义成 dict型 ###\n",
        "n_classes \u003d 3\n",
        "fpr \u003d dict()\n",
        "tpr \u003d dict()\n",
        "roc_auc \u003d dict()"
      ]
    },
    {
      "cell_type": "code",
      "execution_count": 22,
      "metadata": {
        "pycharm": {
          "is_executing": false
        }
      },
      "outputs": [
        {
          "name": "stdout",
          "text": [
            "(array([0.        , 0.        , 0.        , 0.01851852, 0.01851852,\n       0.03703704, 0.03703704, 0.05555556, 0.05555556, 0.07407407,\n       0.07407407, 0.09259259, 0.09259259, 0.12962963, 0.12962963,\n       0.14814815, 0.14814815, 0.2037037 , 0.2037037 , 0.27777778,\n       0.27777778, 1.        ]), array([0.        , 0.04761905, 0.14285714, 0.14285714, 0.19047619,\n       0.19047619, 0.33333333, 0.33333333, 0.38095238, 0.38095238,\n       0.61904762, 0.61904762, 0.66666667, 0.66666667, 0.76190476,\n       0.76190476, 0.9047619 , 0.9047619 , 0.95238095, 0.95238095,\n       1.        , 1.        ]), array([ 1.37991331,  0.37991331,  0.24966175,  0.19599366,  0.18869727,\n        0.17642852,  0.12163662,  0.12127427,  0.11801481,  0.06910059,\n       -0.01116192, -0.02392675, -0.03259341, -0.04953425, -0.06196433,\n       -0.07856729, -0.11107635, -0.1906155 , -0.19299299, -0.23036784,\n       -0.25045747, -1.11907501]))\n(array([0.        , 0.        , 0.        , 0.02222222, 0.02222222,\n       0.11111111, 0.11111111, 0.17777778, 0.17777778, 0.2       ,\n       0.2       , 0.24444444, 0.24444444, 0.26666667, 0.26666667,\n       0.37777778, 0.37777778, 0.42222222, 0.42222222, 0.48888889,\n       0.48888889, 0.55555556, 0.55555556, 0.62222222, 0.62222222,\n       0.64444444, 0.64444444, 0.66666667, 0.66666667, 0.73333333,\n       0.73333333, 0.75555556, 0.75555556, 0.88888889, 0.88888889,\n       1.        ]), array([0.        , 0.03333333, 0.13333333, 0.13333333, 0.16666667,\n       0.16666667, 0.2       , 0.2       , 0.26666667, 0.26666667,\n       0.33333333, 0.33333333, 0.4       , 0.4       , 0.43333333,\n       0.43333333, 0.5       , 0.5       , 0.56666667, 0.56666667,\n       0.6       , 0.6       , 0.63333333, 0.63333333, 0.7       ,\n       0.7       , 0.73333333, 0.73333333, 0.9       , 0.9       ,\n       0.93333333, 0.93333333, 0.96666667, 0.96666667, 1.        ,\n       1.        ]), array([ 1.18264917,  0.18264917, -0.04226738, -0.06436533, -0.08425378,\n       -0.13384038, -0.13784913, -0.21918849, -0.24059516, -0.24506467,\n       -0.2653183 , -0.2863326 , -0.29572764, -0.30270719, -0.31125083,\n       -0.36698232, -0.39894364, -0.43228203, -0.46354017, -0.47617037,\n       -0.48759987, -0.5611945 , -0.56572577, -0.60044961, -0.62483455,\n       -0.62804881, -0.63144366, -0.63705856, -0.70826295, -0.71470221,\n       -0.73611276, -0.7579771 , -0.78971942, -0.83392076, -0.84787471,\n       -1.0107504 ]))\n(array([0.        , 0.        , 0.        , 0.01960784, 0.01960784,\n       0.07843137, 0.07843137, 0.09803922, 0.09803922, 0.11764706,\n       0.11764706, 0.1372549 , 0.1372549 , 0.15686275, 0.15686275,\n       0.17647059, 0.17647059, 0.31372549, 0.31372549, 0.33333333,\n       0.33333333, 0.35294118, 0.35294118, 0.41176471, 0.41176471,\n       0.45098039, 0.45098039, 0.47058824, 0.47058824, 0.50980392,\n       0.50980392, 0.56862745, 0.56862745, 1.        ]), array([0.        , 0.04166667, 0.125     , 0.125     , 0.25      ,\n       0.25      , 0.29166667, 0.29166667, 0.33333333, 0.33333333,\n       0.41666667, 0.41666667, 0.5       , 0.5       , 0.54166667,\n       0.54166667, 0.58333333, 0.58333333, 0.70833333, 0.70833333,\n       0.75      , 0.75      , 0.79166667, 0.79166667, 0.83333333,\n       0.83333333, 0.875     , 0.875     , 0.91666667, 0.91666667,\n       0.95833333, 0.95833333, 1.        , 1.        ]), array([ 1.58423201,  0.58423201,  0.21326435,  0.12967625,  0.04838688,\n        0.02530178,  0.02199789,  0.02046723,  0.00856393,  0.00767521,\n       -0.01186087, -0.05831557, -0.07455313, -0.10238744, -0.10551977,\n       -0.11058011, -0.12051204, -0.2039252 , -0.21662877, -0.21682409,\n       -0.22759345, -0.2292247 , -0.23302033, -0.27802284, -0.27995197,\n       -0.29713077, -0.30065047, -0.30413406, -0.30613086, -0.32055874,\n       -0.32086131, -0.35901924, -0.3755452 , -0.86493066]))\nhahhahahahhahaha \n0.7867647058823529\n"
          ],
          "output_type": "stream"
        }
      ],
      "source": "# 利用一个简单循环 和 roc_curve 函数roc_curve(y_true, y_score, pos_label\u003dNone, sample_weight\u003dNone, drop_intermediate\u003dTrue)\n# 其中 y_true是 样本的真实标签\n# y score 是 样本的预测得分\n# 提示 利用pandas包 操作时 可以利用 pandas.iloc\nfor i in range(n_classes):\n    fpr[i], tpr[i], _ \u003d roc_curve(y_test.iloc[:, i], y_score.iloc[:, i]) #\n    print(roc_curve(y_test.iloc[:, i], y_score.iloc[:, i]))\n\n    roc_auc[i] \u003d auc(fpr[i], tpr[i])\n# print(fpr)\n#print(\"hahhahahahhahaha \")\n#print(roc_auc[i])\n\n# print(tpr)"
    },
    {
      "cell_type": "code",
      "execution_count": 10,
      "metadata": {
        "pycharm": {
          "is_executing": false
        }
      },
      "outputs": [
        {
          "data": {
            "text/plain": "\u003cFigure size 432x288 with 1 Axes\u003e",
            "image/png": "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\u003d\u003d\n"
          },
          "metadata": {
            "needs_background": "light"
          },
          "output_type": "display_data"
        }
      ],
      "source": [
        "##利用循环 打印出上述fpr tpr 生成roc曲线\n",
        "colors \u003d cycle([\u0027aqua\u0027, \u0027darkorange\u0027, \u0027cornflowerblue\u0027])\n",
        "for i, color in zip(range(n_classes), colors):\n",
        "    plt.plot(fpr[i], tpr[i], color\u003dcolor,\n",
        "             label\u003d\u0027ROC curve of class {0} (area \u003d {1:0.2f})\u0027\n",
        "             \u0027\u0027.format(i, roc_auc[i]))\n",
        "########################################\n",
        "lw \u003d 2\n",
        "plt.plot([0, 1], [0, 1], color\u003d\u0027navy\u0027, lw\u003dlw, linestyle\u003d\u0027--\u0027)\n",
        "plt.xlim([0.0, 1.0])\n",
        "plt.ylim([0.0, 1.05])\n",
        "plt.xlabel(\u0027False Positive Rate\u0027)\n",
        "plt.ylabel(\u0027True Positive Rate\u0027)\n",
        "plt.title(\u0027Receiver operating characteristic example\u0027)\n",
        "plt.legend(loc\u003d\"lower right\")\n",
        "plt.show()"
      ]
    },
    {
      "cell_type": "code",
      "execution_count": 20,
      "metadata": {
        "pycharm": {}
      },
      "outputs": [],
      "source": [
        "#将 one-hot标签 转化为 list形式的3值标签 pred_class已经给出 请对true_class作出\n",
        "pred_class\u003d []\n",
        "for i in range(len(y_pred)):\n",
        "    if y_pred.iloc[i,0] \u003d\u003d 1:\n",
        "        pred_class.append(\u0027label_1\u0027)\n",
        "    if y_pred.iloc[i,1] \u003d\u003d 1:\n",
        "        pred_class.append(\u0027label_2\u0027)\n",
        "    if y_pred.iloc[i,2] \u003d\u003d 1:\n",
        "        pred_class.append(\u0027label_3\u0027)\n",
        "    if y_pred.iloc[i,0] \u003d\u003d y_pred.iloc[i,1] \u003d\u003d y_pred.iloc[i,2] \u003d\u003d 0:\n",
        "        pred_class.append(\u0027no_class\u0027)\n",
        "pred_class\n",
        "\n",
        "true_class\u003d []\n",
        "for i in range(len(y_test)):\n",
        "    if y_test.iloc[i,0] \u003d\u003d 1:\n",
        "        true_class.append(\u0027label_1\u0027)\n",
        "    if y_test.iloc[i,1] \u003d\u003d 1:\n",
        "        true_class.append(\u0027label_2\u0027)\n",
        "    if y_test.iloc[i,2] \u003d\u003d 1:\n",
        "        true_class.append(\u0027label_3\u0027)\n"
      ]
    },
    {
      "cell_type": "code",
      "execution_count": 21,
      "metadata": {
        "pycharm": {}
      },
      "outputs": [
        {
          "data": {
            "text/plain": [
              "Text(0.5, 15.0, \u0027Predicted label\u0027)"
            ]
          },
          "execution_count": 21,
          "metadata": {},
          "output_type": "execute_result"
        },
        {
          "data": {
            "image/png": "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\u003d\u003d\n",
            "text/plain": [
              "\u003cFigure size 396x288 with 2 Axes\u003e"
            ]
          },
          "metadata": {
            "needs_background": "light"
          },
          "output_type": "display_data"
        }
      ],
      "source": [
        "##利用confusion_matrix函数 生成混淆矩阵 confusion_matrix(y_true, y_pred, labels\u003dNone, sample_weight\u003dNone)[source]¶\n",
        "cm \u003d confusion_matrix(true_class, pred_class)\n",
        "cm_df \u003d pd.DataFrame(cm,\n",
        "                     index \u003d [\u0027label_1\u0027,\u0027label_2\u0027,\u0027label_3\u0027,\u0027noclass\u0027],\n",
        "                     columns \u003d [\u0027label_1\u0027,\u0027label_2\u0027,\u0027label_3\u0027,\u0027noclass\u0027])\n",
        "plt.figure(figsize\u003d(5.5,4))\n",
        "sns.heatmap(cm_df, annot\u003dTrue)\n",
        "plt.title(\u0027example of confusion matrix\u0027)\n",
        "plt.ylabel(\u0027True label\u0027)\n",
        "plt.xlabel(\u0027Predicted label\u0027)"
      ]
    },
    {
      "cell_type": "code",
      "execution_count": null,
      "metadata": {
        "pycharm": {}
      },
      "outputs": [],
      "source": [
        "### 问题\n",
        "### 上图中应该如何计算 TP TN FP FN"
      ]
    }
  ],
  "metadata": {
    "kernelspec": {
      "display_name": "Python 3",
      "language": "python",
      "name": "python3"
    },
    "language_info": {
      "codemirror_mode": {
        "name": "ipython",
        "version": 3
      },
      "file_extension": ".py",
      "mimetype": "text/x-python",
      "name": "python",
      "nbconvert_exporter": "python",
      "pygments_lexer": "ipython3",
      "version": "3.7.3"
    }
  },
  "nbformat": 4,
  "nbformat_minor": 2
}