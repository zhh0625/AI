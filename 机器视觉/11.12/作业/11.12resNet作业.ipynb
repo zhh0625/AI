{
  "cells": [
    {
      "attachments": {
        "image.png": {
          "image/png": "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\u003d\u003d"
        }
      },
      "cell_type": "markdown",
      "metadata": {
        "pycharm": {}
      },
      "source": [
        "# 实验一\n",
        "实现ResNet网络子模块，并在Kaggle猫/狗数据集上进行训练和测试\n",
        "\n",
        "![image.png](attachment:image.png)\n"
      ]
    },
    {
      "cell_type": "markdown",
      "metadata": {
        "pycharm": {}
      },
      "source": [
        "## 1.加载keras模块"
      ]
    },
    {
      "cell_type": "code",
      "execution_count": 1,
      "metadata": {
        "pycharm": {
          "is_executing": false
        }
      },
      "outputs": [
        {
          "name": "stderr",
          "text": [
            "Using TensorFlow backend.\n"
          ],
          "output_type": "stream"
        }
      ],
      "source": [
        "from keras.preprocessing.image import ImageDataGenerator\n",
        "from keras.models import Model\n",
        "from keras import layers\n",
        "from keras.layers import Conv2D, AveragePooling2D,Input,BatchNormalization\n",
        "from keras.layers import Activation, Dropout,Flatten,Dense,Concatenate\n",
        "from keras.utils import to_categorical\n",
        "from keras.preprocessing.image import img_to_array\n",
        "from keras.applications.vgg16 import preprocess_input\n",
        "from keras import backend as K\n",
        "import numpy as np"
      ]
    },
    {
      "cell_type": "markdown",
      "metadata": {
        "pycharm": {}
      },
      "source": [
        "### 定义Inception网络结构\n",
        "\n"
      ]
    },
    {
      "cell_type": "code",
      "execution_count": 2,
      "metadata": {
        "pycharm": {
          "is_executing": false
        },
        "scrolled": false
      },
      "outputs": [],
      "source": "img_width, img_height \u003d 50, 50\n\n#声明Input layer并设置input_shape    \nif K.image_data_format() \u003d\u003d \u0027channels_first\u0027:\n    input_shape \u003d (3, img_width, img_height)\n    bn_axis \u003d 1\nelse:\n    input_shape \u003d (img_width, img_height, 3)\n    bn_axis \u003d 3#axis表示需要归一化的坐标轴，\u003d3表示在通道数坐标轴进行归一化。    \n    \ninput_img \u003d Input (shape \u003d input_shape)    \n    \n#根据上图设置以函数形式定义ResNet module的结构\nx \u003d layers.Conv2D(64, (1, 1), padding\u003d\u0027same\u0027, kernel_initializer\u003d\u0027he_normal\u0027)(input_img)\nx \u003d layers.BatchNormalization(axis\u003dbn_axis)(x)\nx \u003d layers.Activation(\u0027relu\u0027)(x)\n\nx \u003d layers.Conv2D(64, (3,3), padding\u003d\u0027same\u0027, kernel_initializer\u003d\u0027he_normal\u0027)(x)\nx \u003d layers.BatchNormalization(axis\u003dbn_axis)(x)\nx \u003d layers.Activation(\u0027relu\u0027)(x)\n\nx \u003d layers.Conv2D(256, (1, 1), padding\u003d\u0027same\u0027, kernel_initializer\u003d\u0027he_normal\u0027)(x)\nx \u003d layers.BatchNormalization(axis\u003dbn_axis)(x)\nx \u003d layers.Activation(\u0027relu\u0027)(x)\n\nx \u003d layers.Conv2D(3, (1, 1), padding\u003d\u0027same\u0027, kernel_initializer\u003d\u0027he_normal\u0027)(x)\nx \u003d layers.BatchNormalization(axis\u003dbn_axis)(x)\nx \u003d layers.Activation(\u0027relu\u0027)(x)\n#定义叠加输入tensor和feature map的add layer\nx \u003d layers.add([x,input_img])\nx \u003d layers.Activation(\u0027relu\u0027)(x)\n\n#定义fully connected layer\nout \u003d Flatten()(x)\nout \u003d Dense(48, activation\u003d\u0027relu\u0027)(out)\n\n#定义output layer\nout \u003d Dense(2, activation\u003d\u0027softmax\u0027)(out)\n\n\n#调用Model函数声明model\nmodel \u003d Model(input_img, out)\n\n\n#编译整个网络，声明loss函数和优化器、metrics\nmodel.compile(loss\u003d\u0027categorical_crossentropy\u0027,\n              optimizer\u003d\u0027rmsprop\u0027,\n              metrics\u003d[\u0027accuracy\u0027])"
    },
    {
      "cell_type": "markdown",
      "metadata": {
        "pycharm": {}
      },
      "source": [
        "### 查看model架构\n",
        "\n"
      ]
    },
    {
      "cell_type": "code",
      "execution_count": 3,
      "metadata": {
        "pycharm": {
          "is_executing": false
        },
        "scrolled": true
      },
      "outputs": [],
      "source": [
        "model.summary()"
      ]
    },
    {
      "cell_type": "markdown",
      "metadata": {
        "pycharm": {}
      },
      "source": [
        "### 定义ImageDataGenerator\n"
      ]
    },
    {
      "cell_type": "code",
      "execution_count": 4,
      "metadata": {
        "pycharm": {
          "is_executing": false
        }
      },
      "outputs": [
        {
          "name": "stdout",
          "output_type": "stream",
          "text": [
            "Found 10835 images belonging to 2 classes.\n",
            "Found 4000 images belonging to 2 classes.\n"
          ]
        }
      ],
      "source": "train_data_dir \u003d r\u0027H:\\AI_kejian\\11.06\\dogs-vs-cats\\train\u0027\nvalidation_data_dir \u003d r\u0027H:\\AI_kejian\\11.06\\dogs-vs-cats\\validation\u0027\nnb_train_samples \u003d 10835\nnb_validation_samples \u003d 4000\nepochs \u003d 1\nbatch_size \u003d 5#一次训练取5个样本\n\n\n# this is the augmentation configuration we will use for training\ntrain_datagen \u003d ImageDataGenerator(\n    rescale\u003d1. / 255,\n    #缩放，值将在执行其他处理前乘到整个图像上，变为【0-1】的值\n    shear_range\u003d0.2,# 随机错切变换角度\n    zoom_range\u003d0.2,# 随机缩放范围\n    horizontal_flip\u003dTrue)# 一半图像水平翻转\n\n# this is the augmentation configuration we will use for testing:\n# only rescaling\ntest_datagen \u003d ImageDataGenerator(rescale\u003d1. / 255)\n\n\n#调用flow_from_directory函数读取training数据和validation数据，注意class_mode的设置\ntrain_generator \u003d train_datagen.flow_from_directory(\n    train_data_dir,# 目标目录\n    target_size\u003d(img_width, img_height),# 所有图像调整为150*150\n    batch_size\u003dbatch_size,\n    class_mode\u003d\u0027categorical\u0027) # 返回2D的one-hot编码标签\n\nvalidation_generator \u003d test_datagen.flow_from_directory(\n    validation_data_dir,\n    target_size\u003d(img_width, img_height),\n    batch_size\u003dbatch_size,\n    class_mode\u003d\u0027categorical\u0027)\n"
    },
    {
      "cell_type": "markdown",
      "metadata": {
        "pycharm": {}
      },
      "source": [
        "### 训练模型\n",
        "\n"
      ]
    },
    {
      "cell_type": "code",
      "execution_count": 5,
      "metadata": {
        "pycharm": {
          "is_executing": true
        },
        "scrolled": false
      },
      "outputs": [
        {
          "name": "stdout",
          "output_type": "stream",
          "text": [
            "Epoch 1/1\n",
            "2167/2167 [\u003d\u003d\u003d\u003d\u003d\u003d\u003d\u003d\u003d\u003d\u003d\u003d\u003d\u003d\u003d\u003d\u003d\u003d\u003d\u003d\u003d\u003d\u003d\u003d\u003d\u003d\u003d\u003d\u003d\u003d] - 208s 96ms/step - loss: 0.6969 - accuracy: 0.5894 - val_loss: 0.8070 - val_accuracy: 0.6420\n"
          ]
        },
        {
          "data": {
            "text/plain": [
              "\u003ckeras.callbacks.callbacks.History at 0x1f6d1793208\u003e"
            ]
          },
          "execution_count": 5,
          "metadata": {},
          "output_type": "execute_result"
        }
      ],
      "source": "#调用fit_generator函数\nmodel.fit_generator(\n    train_generator,#生成器函数\n    steps_per_epoch\u003dnb_train_samples // batch_size,\n    #整数，当生成器返回steps_per_epoch次数据时计一个epoch结束，执行下一个epoch\n    epochs\u003depochs,\n    validation_data\u003dvalidation_generator,#生成验证集的生成器\n    validation_steps\u003dnb_validation_samples // batch_size)\n    #当validation_data为生成器时，本参数指定验证集的生成器返回次数"
    },
    {
      "cell_type": "markdown",
      "metadata": {
        "pycharm": {}
      },
      "source": [
        "### 使用训练后模型预测图像\n",
        "\n",
        "\n",
        "\n"
      ]
    },
    {
      "cell_type": "code",
      "execution_count": 6,
      "metadata": {
        "pycharm": {}
      },
      "outputs": [
        {
          "ename": "error",
          "evalue": "OpenCV(4.1.1) C:\\projects\\opencv-python\\opencv\\modules\\imgproc\\src\\resize.cpp:3720: error: (-215:Assertion failed) !ssize.empty() in function \u0027cv::resize\u0027\n",
          "output_type": "error",
          "traceback": [
            "\u001b[1;31m---------------------------------------------------------------------------\u001b[0m",
            "\u001b[1;31merror\u001b[0m                                     Traceback (most recent call last)",
            "\u001b[1;32m\u003cipython-input-6-f2c269e64204\u003e\u001b[0m in \u001b[0;36m\u003cmodule\u003e\u001b[1;34m\u001b[0m\n\u001b[0;32m      1\u001b[0m \u001b[1;32mimport\u001b[0m \u001b[0mcv2\u001b[0m\u001b[1;33m\u001b[0m\u001b[0m\n\u001b[1;32m----\u003e 2\u001b[1;33m \u001b[0mimg\u001b[0m \u001b[1;33m\u003d\u001b[0m \u001b[0mcv2\u001b[0m\u001b[1;33m.\u001b[0m\u001b[0mresize\u001b[0m\u001b[1;33m(\u001b[0m\u001b[0mcv2\u001b[0m\u001b[1;33m.\u001b[0m\u001b[0mimread\u001b[0m\u001b[1;33m(\u001b[0m\u001b[1;34mr\u0027H:\\AI课件\\11.06\\dogs-vs-cats\\test\\7.jpg\u0027\u001b[0m\u001b[1;33m)\u001b[0m\u001b[1;33m,\u001b[0m \u001b[1;33m(\u001b[0m\u001b[0mimg_width\u001b[0m\u001b[1;33m,\u001b[0m \u001b[0mimg_height\u001b[0m\u001b[1;33m)\u001b[0m\u001b[1;33m)\u001b[0m\u001b[1;33m.\u001b[0m\u001b[0mastype\u001b[0m\u001b[1;33m(\u001b[0m\u001b[0mnp\u001b[0m\u001b[1;33m.\u001b[0m\u001b[0mfloat32\u001b[0m\u001b[1;33m)\u001b[0m\u001b[1;33m\u001b[0m\u001b[0m\n\u001b[0m\u001b[0;32m      3\u001b[0m \u001b[1;31m# img[:,:,0] -\u003d 103.939\u001b[0m\u001b[1;33m\u001b[0m\u001b[1;33m\u001b[0m\u001b[0m\n\u001b[0;32m      4\u001b[0m \u001b[1;31m# img[:,:,1] -\u003d 116.779\u001b[0m\u001b[1;33m\u001b[0m\u001b[1;33m\u001b[0m\u001b[0m\n\u001b[0;32m      5\u001b[0m \u001b[1;31m# img[:,:,2] -\u003d 123.68\u001b[0m\u001b[1;33m\u001b[0m\u001b[1;33m\u001b[0m\u001b[0m\n",
            "\u001b[1;31merror\u001b[0m: OpenCV(4.1.1) C:\\projects\\opencv-python\\opencv\\modules\\imgproc\\src\\resize.cpp:3720: error: (-215:Assertion failed) !ssize.empty() in function \u0027cv::resize\u0027\n"
          ]
        }
      ],
      "source": "import cv2\nimg \u003d cv2.resize(cv2.imread(r\u0027H:\\AI_kejian\\11.06\\dogs-vs-cats\\test\\7.jpg\u0027), (img_width, img_height)).astype(np.float32)\n# img[:,:,0] -\u003d 103.939\n# img[:,:,1] -\u003d 116.779\n# img[:,:,2] -\u003d 123.68\n#img \u003d img.transpose((2,0,1))\nx \u003d img_to_array(img)#转数组\n\nx \u003d np.expand_dims(x, axis\u003d0)\n\n#x \u003d preprocess_input(x)\n\nscore \u003d model.predict(x)#输出预测数值\n\n\nprint(score)"
    }
  ],
  "metadata": {
    "kernelspec": {
      "display_name": "Python 3",
      "language": "python",
      "name": "python3"
    },
    "language_info": {
      "codemirror_mode": {
        "name": "ipython",
        "version": 3
      },
      "file_extension": ".py",
      "mimetype": "text/x-python",
      "name": "python",
      "nbconvert_exporter": "python",
      "pygments_lexer": "ipython3",
      "version": "3.6.5"
    },
    "pycharm": {
      "stem_cell": {
        "cell_type": "raw",
        "source": [],
        "metadata": {
          "collapsed": false
        }
      }
    },
    "ssap_exp_config": {
      "error_alert": "Error Occurs!",
      "initial": [],
      "max_iteration": 1000,
      "recv_id": "",
      "running": [],
      "summary": [],
      "version": "1.1.1"
    }
  },
  "nbformat": 4,
  "nbformat_minor": 1
}