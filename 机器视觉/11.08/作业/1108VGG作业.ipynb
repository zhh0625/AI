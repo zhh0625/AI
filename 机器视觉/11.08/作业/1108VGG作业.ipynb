{
 "cells": [
  {
   "cell_type": "raw",
   "metadata": {
    "pycharm": {}
   },
   "source": [
    "# 实验一\n",
    "加载预定义VGG16网络参数，并在Kaggle猫/狗数据集上进行微调和测试"
   ]
  },
  {
   "cell_type": "markdown",
   "metadata": {
    "pycharm": {}
   },
   "source": [
    "## 1.加载keras模块"
   ]
  },
  {
   "cell_type": "code",
   "execution_count": 15,
   "metadata": {
    "pycharm": {
     "is_executing": false
    }
   },
   "outputs": [],
   "source": [
    "from keras.preprocessing.image import ImageDataGenerator\n",
    "from keras.models import Sequential\n",
    "from keras.layers import Convolution2D, MaxPooling2D,ZeroPadding2D\n",
    "from keras.layers import Activation, Dropout, Flatten, Dense, Input\n",
    "from keras.utils import to_categorical\n",
    "from keras.preprocessing.image import img_to_array\n",
    "from keras.applications.vgg16 import preprocess_input, VGG16\n",
    "from keras import backend as K\n",
    "import numpy as np"
   ]
  },
  {
   "cell_type": "markdown",
   "metadata": {
    "pycharm": {}
   },
   "source": [
    "### 加载预训练权值\n",
    "\n"
   ]
  },
  {
   "cell_type": "markdown",
   "metadata": {
    "pycharm": {}
   },
   "source": [
    "### 定义新加入的layers"
   ]
  },
  {
   "cell_type": "code",
   "execution_count": 14,
   "metadata": {
    "pycharm": {
     "is_executing": false
    }
   },
   "outputs": [],
   "source": [
    "img_width, img_height = 150, 150\n",
    "if K.image_data_format() == 'channels_first':#返回默认的图像的维度顺序\n",
    "    input_shape = (3, img_width, img_height)\n",
    "else:\n",
    "    input_shape = (img_width, img_height, 3)\n",
    "    \n",
    "# 定义网络输入层shape\n",
    "input_tensor = Input(shape=input_shape)\n",
    "vgg16_weight=r'H:\\AI_kejian\\11.7\\zuoye\\vgg16_weights.h5'\n",
    "#声明VGG网络，并指定加载imagenet预训练模型\n",
    "model = VGG16(weights=None, #模型初始化的权重检查点\n",
    "                           include_top=False,#不包含全连接层\n",
    "                           input_tensor=input_tensor)\n",
    "#向VGG网络追加一些全连接层和输出层\n",
    "top_model = Sequential()\n",
    "top_model.add(Flatten(input_shape=model.output_shape[1:]))\n",
    "top_model.add(Dense(256, activation='relu'))\n",
    "top_model.add(Dropout(0.5))\n",
    "top_model.add(Dense(256, activation='relu'))\n",
    "top_model.add(Dropout(0.5))\n",
    "#指定输出层为2个神经元做2分类，激活函数选用softmax\n",
    "top_model.add(Dense(2, activation='softmax'))\n",
    "\n",
    "#把上述网络每一层layer拷贝至一个新的网络，形成一个整体网络\n",
    "new_model = Sequential()\n",
    "for l in model.layers:\n",
    "    new_model.add(l)\n",
    "new_model.add(top_model)"
   ]
  },
  {
   "cell_type": "markdown",
   "metadata": {
    "pycharm": {}
   },
   "source": [
    "### 设置不需微调的layers的trainable属性\n",
    "并调用compile函数重新编译网络"
   ]
  },
  {
   "cell_type": "code",
   "execution_count": null,
   "metadata": {
    "pycharm": {
     "is_executing": true
    }
   },
   "outputs": [],
   "source": [
    "from keras.optimizers import SGD\n",
    "#在新的整体网络上设置对所有原VGG层均不参与微调\n",
    "for layer in new_model.layers[:]:\n",
    "    layer.trainable = False  #冻结卷积基\n",
    "new_model.compile(loss='categorical_crossentropy',\n",
    "              optimizer=SGD(lr=1e-4, momentum=0.9),\n",
    "              #优化器，随机梯度下降（学习率，动量参数）\n",
    "              metrics=['accuracy'])\n",
    "              #列表，包含评估模型在训练和测试时的性能的指标\n",
    "#compile the model with a SGD/momentum optimizer\n",
    "# and a very slow learning rate.\n",
    "#注意此处应选用何种loss function"
   ]
  },
  {
   "cell_type": "markdown",
   "metadata": {
    "pycharm": {}
   },
   "source": [
    "### 定义ImageDataGenerator\n"
   ]
  },
  {
   "cell_type": "code",
   "execution_count": null,
   "metadata": {
    "pycharm": {
     "is_executing": true
    }
   },
   "outputs": [],
   "source": [
    "train_data_dir = r'H:\\AI_kejian\\11.06\\dogs-vs-cats\\train'\n",
    "validation_data_dir = r'H:\\AI_kejian\\11.06\\dogs-vs-cats\\validation'\n",
    "nb_train_samples = 10835 #用于训练的样本数\n",
    "nb_validation_samples = 4000\n",
    "epochs = 1\n",
    "batch_size = 20  #要设置成能被上面两个数整除的数字\n",
    "\n",
    "\n",
    "# this is the augmentation configuration we will use for training\n",
    "train_datagen = ImageDataGenerator(\n",
    "    rescale=1. / 255,#缩放\n",
    "    shear_range=0.2,\n",
    "    zoom_range=0.2,\n",
    "    horizontal_flip=True)#布尔值，进行随机水平翻转\n",
    "\n",
    "# this is the augmentation configuration we will use for testing:\n",
    "# only rescaling\n",
    "test_datagen = ImageDataGenerator(rescale=1. / 255)\n",
    "#此处调用flow_from_directory函数生成train_generator和validation_generator,注意设置class_mode\n",
    "train_generator = train_datagen.flow_from_directory(\n",
    "    train_data_dir,#目标目录\n",
    "    target_size=(img_width, img_height),#所有图像调整为150*150\n",
    "    batch_size=batch_size,\n",
    "    class_mode='categorical')\n",
    "    #决定返回的标签数组的形式，这里是返回2D的one-hot编码标签\n",
    "\n",
    "validation_generator = test_datagen.flow_from_directory(\n",
    "    validation_data_dir,\n",
    "    target_size=(img_width, img_height),\n",
    "    batch_size=batch_size,\n",
    "    class_mode='categorical')\n",
    "\n"
   ]
  },
  {
   "cell_type": "markdown",
   "metadata": {
    "pycharm": {}
   },
   "source": [
    "### 训练模型\n",
    "\n"
   ]
  },
  {
   "cell_type": "code",
   "execution_count": null,
   "metadata": {
    "scrolled": false,
    "pycharm": {
     "is_executing": true
    }
   },
   "outputs": [],
   "source": [
    "#利用python的生成器，逐个生成数据的batch并进行训练\n",
    "new_model.fit_generator(\n",
    "    train_generator,\n",
    "    steps_per_epoch=nb_train_samples // batch_size,\n",
    "    #当生成器返回这个参数次数据时计一个epoch结束，执行下一个epoch\n",
    "    epochs=epochs,#数据迭代的轮数\n",
    "    validation_data=validation_generator,#生成验证集的生成器\n",
    "    validation_steps=nb_validation_samples // batch_size)\n",
    "    #当前一个参数为生成器时，本参数指定验证集的生成器返回次数"
   ]
  },
  {
   "cell_type": "markdown",
   "metadata": {
    "pycharm": {}
   },
   "source": [
    "### 使用训练后模型预测图像\n",
    "\n",
    "\n",
    "\n"
   ]
  },
  {
   "cell_type": "code",
   "execution_count": 16,
   "metadata": {
    "pycharm": {}
   },
   "outputs": [
    {
     "name": "stdout",
     "output_type": "stream",
     "text": [
      "[[0. 1.]]\n"
     ]
    }
   ],
   "source": [
    "import cv2\n",
    "img = cv2.resize(cv2.imread(r'H:\\AI_kejian\\11.06\\dogs-vs-cats\\test\\1.jpg'), (img_width, img_height)).astype(np.float32)\n",
    "#使用imread读取rgb图片时，得到的array的shape是（高，宽，（B，G，R））\n",
    "# img[:,:,0] -= 103.939\n",
    "# img[:,:,1] -= 116.779\n",
    "# img[:,:,2] -= 123.68\n",
    "#img = img.transpose((2,0,1))\n",
    "x = img_to_array(img)\n",
    "\n",
    "x = np.expand_dims(x, axis=0)#扩展数组的形状，在x数组\n",
    "\n",
    "#x = preprocess_input(x)\n",
    "\n",
    "score = new_model.predict(x)\n",
    "\n",
    "\n",
    "print(score)"
   ]
  },
  {
   "cell_type": "markdown",
   "metadata": {
    "pycharm": {}
   },
   "source": [
    "###此处尝试只锁定VGG头四层"
   ]
  },
  {
   "cell_type": "code",
   "execution_count": null,
   "metadata": {
    "pycharm": {}
   },
   "outputs": [],
   "source": [
    "#在新的整体网络上设置原VGG前四层不参与微调\n",
    "from keras.optimizers import SGD\n",
    "for layer in new_model.layers[:4]:\n",
    "    layer.trainable = False\n",
    "\n",
    "new_model.compile(loss='categorical_crossentropy',\n",
    "              optimizer=SGD(lr=1e-4, momentum=0.9),\n",
    "              metrics=['accuracy'])\n",
    "\n",
    "#编译网络后进行训练\n",
    "train_data_dir = r'H:\\AI_kejian\\11.06\\dogs-vs-cats\\train'\n",
    "validation_data_dir = r'H:\\AI_kejian\\11.06\\dogs-vs-cats\\validation'\n",
    "nb_train_samples = 10835 #用于训练的样本数\n",
    "nb_validation_samples = 4000\n",
    "epochs = 1\n",
    "batch_size = 20  #要设置成能被上面两个数整除的数字\n",
    "\n",
    "\n",
    "# this is the augmentation configuration we will use for training\n",
    "train_datagen = ImageDataGenerator(\n",
    "    rescale=1. / 255,#缩放\n",
    "    shear_range=0.2,\n",
    "    zoom_range=0.2,\n",
    "    horizontal_flip=True)#布尔值，进行随机水平翻转\n",
    "\n",
    "# this is the augmentation configuration we will use for testing:\n",
    "# only rescaling\n",
    "test_datagen = ImageDataGenerator(rescale=1. / 255)\n",
    "#此处调用flow_from_directory函数生成train_generator和validation_generator,注意设置class_mode\n",
    "train_generator = train_datagen.flow_from_directory(\n",
    "    train_data_dir,#目标目录\n",
    "    target_size=(img_width, img_height),#所有图像调整为150*150\n",
    "    batch_size=batch_size,\n",
    "    class_mode='categorical')\n",
    "    #决定返回的标签数组的形式，这里是返回2D的one-hot编码标签\n",
    "\n",
    "validation_generator = test_datagen.flow_from_directory(\n",
    "    validation_data_dir,\n",
    "    target_size=(img_width, img_height),\n",
    "    batch_size=batch_size,\n",
    "    class_mode='categorical')\n",
    "new_model.fit_generator(\n",
    "    train_generator,\n",
    "    steps_per_epoch=nb_train_samples // batch_size,\n",
    "    #当生成器返回这个参数次数据时计一个epoch结束，执行下一个epoch\n",
    "    epochs=epochs,#数据迭代的轮数\n",
    "    validation_data=validation_generator,#生成验证集的生成器\n",
    "    validation_steps=nb_validation_samples // batch_size)\n",
    "    #当前一个参数为生成器时，本参数指定验证集的生成器返回次数"
   ]
  },
  {
   "cell_type": "markdown",
   "source": [],
   "metadata": {
    "collapsed": false,
    "pycharm": {
     "name": "#%% md\n"
    }
   }
  },
  {
   "cell_type": "code",
   "execution_count": null,
   "metadata": {
    "pycharm": {}
   },
   "outputs": [],
   "source": [
    "#使用训练后模型预测图像\n",
    "import cv2\n",
    "img = cv2.resize(cv2.imread(r'H:\\AI_kejian\\11.06\\dogs-vs-cats\\test\\2.jpg'), (img_width, img_height)).astype(np.float32)\n",
    "#使用imread读取rgb图片时，得到的array的shape是（高，宽，（B，G，R））\n",
    "# img[:,:,0] -= 103.939\n",
    "# img[:,:,1] -= 116.779\n",
    "# img[:,:,2] -= 123.68\n",
    "#img = img.transpose((2,0,1))\n",
    "x = img_to_array(img)\n",
    "\n",
    "x = np.expand_dims(x, axis=0)#扩展数组的形状，在x数组\n",
    "\n",
    "#x = preprocess_input(x)\n",
    "\n",
    "score = new_model.predict(x)\n",
    "\n",
    "\n",
    "print(score)"
   ]
  },
  {
   "cell_type": "markdown",
   "source": [],
   "metadata": {
    "collapsed": false,
    "pycharm": {
     "name": "#%% md\n"
    }
   }
  }
 ],
 "metadata": {
  "kernelspec": {
   "display_name": "Python 3",
   "language": "python",
   "name": "python3"
  },
  "language_info": {
   "codemirror_mode": {
    "name": "ipython",
    "version": 3
   },
   "file_extension": ".py",
   "mimetype": "text/x-python",
   "name": "python",
   "nbconvert_exporter": "python",
   "pygments_lexer": "ipython3",
   "version": "3.6.8"
  },
  "ssap_exp_config": {
   "error_alert": "Error Occurs!",
   "initial": [],
   "max_iteration": 1000,
   "recv_id": "",
   "running": [],
   "summary": [],
   "version": "1.1.1"
  },
  "pycharm": {
   "stem_cell": {
    "cell_type": "raw",
    "source": [],
    "metadata": {
     "collapsed": false
    }
   }
  }
 },
 "nbformat": 4,
 "nbformat_minor": 1
}