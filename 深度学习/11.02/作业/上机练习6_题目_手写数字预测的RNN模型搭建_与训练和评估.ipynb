{
  "cells": [
    {
      "cell_type": "markdown",
      "metadata": {
        "_cell_guid": "d4c08f48-fe23-4ddb-ac46-d97f05397514",
        "_uuid": "f2156d1dd26a1243e18512002e10872c5bd7271e",
        "pycharm": {}
      },
      "source": [
        "* **1. Introduction**\n",
        "* **2. Data preparation**\n",
        "    * 2.1 Load data\n",
        "    * 2.2 Check for null and missing values\n",
        "    * 2.3 Normalization\n",
        "    * 2.4 Reshape\n",
        "    * 2.5 Label encoding\n",
        "    * 2.6 Split training and valdiation set\n",
        "* **3. CNN**\n",
        "\n",
        "* **4. Evaluate the model**\n",
        "\n",
        "* **5. Prediction and submition**\n",
        "\n",
        "* **6. RNN**\n",
        "\n"
      ]
    },
    {
      "cell_type": "code",
      "execution_count": null,
      "metadata": {
        "pycharm": {}
      },
      "outputs": [],
      "source": []
    },
    {
      "cell_type": "markdown",
      "metadata": {
        "_cell_guid": "eb88b372-a6e5-40c8-a1c6-c03799165490",
        "_uuid": "e9aff3cf1bb8daa73bec67b970d12195677679f3",
        "pycharm": {}
      },
      "source": [
        "# 1. Introduction\n"
      ]
    },
    {
      "cell_type": "code",
      "execution_count": 1,
      "metadata": {
        "_cell_guid": "f67b9393-8ea1-4e23-b856-2ce149cfe421",
        "_execution_state": "idle",
        "_uuid": "72334cb006d02a4bcfc2a2fe622524eba824c6f8",
        "pycharm": {
          "is_executing": false
        }
      },
      "outputs": [
        {
          "name": "stderr",
          "text": [
            "Using TensorFlow backend.\n"
          ],
          "output_type": "stream"
        }
      ],
      "source": [
        "import pandas as pd\n",
        "import numpy as np\n",
        "import matplotlib.pyplot as plt\n",
        "import matplotlib.image as mpimg\n",
        "import seaborn as sns\n",
        "%matplotlib inline\n",
        "\n",
        "\n",
        "from sklearn.model_selection import train_test_split\n",
        "from sklearn.metrics import confusion_matrix\n",
        "import itertools\n",
        "\n",
        "from keras.utils.np_utils import to_categorical # convert to one-hot-encoding\n",
        "from keras.models import Sequential\n",
        "from keras.layers import Dense, Dropout, Flatten, Conv2D, MaxPool2D\n",
        "from keras.optimizers import RMSprop\n",
        "from keras.preprocessing.image import ImageDataGenerator\n",
        "from keras.callbacks import ReduceLROnPlateau\n",
        "import keras\n",
        "from keras.models import Sequential\n",
        "from keras.layers import Dense, Dropout, Flatten, Conv2D, MaxPool2D\n",
        "from keras.layers.normalization import BatchNormalization\n",
        "from keras.preprocessing.image import ImageDataGenerator\n",
        "from keras.callbacks import ReduceLROnPlateau\n",
        "from sklearn.model_selection import train_test_split\n",
        "\n",
        "sns.set(style\u003d\u0027white\u0027, context\u003d\u0027notebook\u0027, palette\u003d\u0027deep\u0027)"
      ]
    },
    {
      "cell_type": "markdown",
      "metadata": {
        "_cell_guid": "6d2fb3e6-ab71-4974-b5a2-4af1ebdb99f4",
        "_execution_state": "idle",
        "_uuid": "86061d98eccaa02efe0dab0fa3884e71fcf4c310",
        "pycharm": {}
      },
      "source": [
        "# 2. Data preparation\n",
        "## 2.1 Load data"
      ]
    },
    {
      "cell_type": "code",
      "execution_count": 2,
      "metadata": {
        "_cell_guid": "5e51d00e-62fd-4141-bf73-50ac4f2da7d0",
        "_execution_state": "idle",
        "_uuid": "84bbd5ab8d7895bd430d5ecfe2f7ddf77baa7b74",
        "pycharm": {
          "is_executing": false
        }
      },
      "outputs": [
        {
          "traceback": [
            "\u001b[1;31m---------------------------------------------------------------------------\u001b[0m",
            "\u001b[1;31mFileNotFoundError\u001b[0m                         Traceback (most recent call last)",
            "\u001b[1;32m\u003cipython-input-2-2a534c05bda7\u003e\u001b[0m in \u001b[0;36m\u003cmodule\u003e\u001b[1;34m\u001b[0m\n\u001b[0;32m      1\u001b[0m \u001b[1;31m# \u003e\u003e\u003e\u003e\u003e填写\u003c\u003c\u003c\u003c 利用pandas的load_csv函数，读取我们的train 和 test数据集合 变量已经给出 \u003e\u003e\u003e\u003e\u003e填写\u003c\u003c\u003c\u003c ######\u001b[0m\u001b[1;33m\u001b[0m\u001b[1;33m\u001b[0m\u001b[0m\n\u001b[1;32m----\u003e 2\u001b[1;33m \u001b[0mtrain\u001b[0m \u001b[1;33m\u003d\u001b[0m \u001b[0mpd\u001b[0m\u001b[1;33m.\u001b[0m\u001b[0mread_csv\u001b[0m\u001b[1;33m(\u001b[0m\u001b[1;34m\"subset_train.csv\"\u001b[0m\u001b[1;33m)\u001b[0m\u001b[1;33m\u001b[0m\u001b[0m\n\u001b[0m\u001b[0;32m      3\u001b[0m \u001b[0mtest\u001b[0m \u001b[1;33m\u003d\u001b[0m \u001b[0mpd\u001b[0m\u001b[1;33m.\u001b[0m\u001b[0mread_csv\u001b[0m\u001b[1;33m(\u001b[0m\u001b[1;34m\"Small_test.csv\"\u001b[0m\u001b[1;33m)\u001b[0m\u001b[1;33m\u001b[0m\u001b[0m\n\u001b[0;32m      4\u001b[0m \u001b[1;31m#####train validation test(完全独立的，与训练过程无关的)\u001b[0m\u001b[1;33m\u001b[0m\u001b[1;33m\u001b[0m\u001b[0m\n",
            "\u001b[1;32mc:\\program files\\python36\\lib\\site-packages\\pandas\\io\\parsers.py\u001b[0m in \u001b[0;36mparser_f\u001b[1;34m(filepath_or_buffer, sep, delimiter, header, names, index_col, usecols, squeeze, prefix, mangle_dupe_cols, dtype, engine, converters, true_values, false_values, skipinitialspace, skiprows, skipfooter, nrows, na_values, keep_default_na, na_filter, verbose, skip_blank_lines, parse_dates, infer_datetime_format, keep_date_col, date_parser, dayfirst, cache_dates, iterator, chunksize, compression, thousands, decimal, lineterminator, quotechar, quoting, doublequote, escapechar, comment, encoding, dialect, error_bad_lines, warn_bad_lines, delim_whitespace, low_memory, memory_map, float_precision)\u001b[0m\n\u001b[0;32m    683\u001b[0m         )\n\u001b[0;32m    684\u001b[0m \u001b[1;33m\u001b[0m\u001b[0m\n\u001b[1;32m--\u003e 685\u001b[1;33m         \u001b[1;32mreturn\u001b[0m \u001b[0m_read\u001b[0m\u001b[1;33m(\u001b[0m\u001b[0mfilepath_or_buffer\u001b[0m\u001b[1;33m,\u001b[0m \u001b[0mkwds\u001b[0m\u001b[1;33m)\u001b[0m\u001b[1;33m\u001b[0m\u001b[0m\n\u001b[0m\u001b[0;32m    686\u001b[0m \u001b[1;33m\u001b[0m\u001b[0m\n\u001b[0;32m    687\u001b[0m     \u001b[0mparser_f\u001b[0m\u001b[1;33m.\u001b[0m\u001b[0m__name__\u001b[0m \u001b[1;33m\u003d\u001b[0m \u001b[0mname\u001b[0m\u001b[1;33m\u001b[0m\u001b[0m\n",
            "\u001b[1;32mc:\\program files\\python36\\lib\\site-packages\\pandas\\io\\parsers.py\u001b[0m in \u001b[0;36m_read\u001b[1;34m(filepath_or_buffer, kwds)\u001b[0m\n\u001b[0;32m    455\u001b[0m \u001b[1;33m\u001b[0m\u001b[0m\n\u001b[0;32m    456\u001b[0m     \u001b[1;31m# Create the parser.\u001b[0m\u001b[1;33m\u001b[0m\u001b[1;33m\u001b[0m\u001b[0m\n\u001b[1;32m--\u003e 457\u001b[1;33m     \u001b[0mparser\u001b[0m \u001b[1;33m\u003d\u001b[0m \u001b[0mTextFileReader\u001b[0m\u001b[1;33m(\u001b[0m\u001b[0mfp_or_buf\u001b[0m\u001b[1;33m,\u001b[0m \u001b[1;33m**\u001b[0m\u001b[0mkwds\u001b[0m\u001b[1;33m)\u001b[0m\u001b[1;33m\u001b[0m\u001b[0m\n\u001b[0m\u001b[0;32m    458\u001b[0m \u001b[1;33m\u001b[0m\u001b[0m\n\u001b[0;32m    459\u001b[0m     \u001b[1;32mif\u001b[0m \u001b[0mchunksize\u001b[0m \u001b[1;32mor\u001b[0m \u001b[0miterator\u001b[0m\u001b[1;33m:\u001b[0m\u001b[1;33m\u001b[0m\u001b[0m\n",
            "\u001b[1;32mc:\\program files\\python36\\lib\\site-packages\\pandas\\io\\parsers.py\u001b[0m in \u001b[0;36m__init__\u001b[1;34m(self, f, engine, **kwds)\u001b[0m\n\u001b[0;32m    893\u001b[0m             \u001b[0mself\u001b[0m\u001b[1;33m.\u001b[0m\u001b[0moptions\u001b[0m\u001b[1;33m[\u001b[0m\u001b[1;34m\"has_index_names\"\u001b[0m\u001b[1;33m]\u001b[0m \u001b[1;33m\u003d\u001b[0m \u001b[0mkwds\u001b[0m\u001b[1;33m[\u001b[0m\u001b[1;34m\"has_index_names\"\u001b[0m\u001b[1;33m]\u001b[0m\u001b[1;33m\u001b[0m\u001b[0m\n\u001b[0;32m    894\u001b[0m \u001b[1;33m\u001b[0m\u001b[0m\n\u001b[1;32m--\u003e 895\u001b[1;33m         \u001b[0mself\u001b[0m\u001b[1;33m.\u001b[0m\u001b[0m_make_engine\u001b[0m\u001b[1;33m(\u001b[0m\u001b[0mself\u001b[0m\u001b[1;33m.\u001b[0m\u001b[0mengine\u001b[0m\u001b[1;33m)\u001b[0m\u001b[1;33m\u001b[0m\u001b[0m\n\u001b[0m\u001b[0;32m    896\u001b[0m \u001b[1;33m\u001b[0m\u001b[0m\n\u001b[0;32m    897\u001b[0m     \u001b[1;32mdef\u001b[0m \u001b[0mclose\u001b[0m\u001b[1;33m(\u001b[0m\u001b[0mself\u001b[0m\u001b[1;33m)\u001b[0m\u001b[1;33m:\u001b[0m\u001b[1;33m\u001b[0m\u001b[0m\n",
            "\u001b[1;32mc:\\program files\\python36\\lib\\site-packages\\pandas\\io\\parsers.py\u001b[0m in \u001b[0;36m_make_engine\u001b[1;34m(self, engine)\u001b[0m\n\u001b[0;32m   1133\u001b[0m     \u001b[1;32mdef\u001b[0m \u001b[0m_make_engine\u001b[0m\u001b[1;33m(\u001b[0m\u001b[0mself\u001b[0m\u001b[1;33m,\u001b[0m \u001b[0mengine\u001b[0m\u001b[1;33m\u003d\u001b[0m\u001b[1;34m\"c\"\u001b[0m\u001b[1;33m)\u001b[0m\u001b[1;33m:\u001b[0m\u001b[1;33m\u001b[0m\u001b[0m\n\u001b[0;32m   1134\u001b[0m         \u001b[1;32mif\u001b[0m \u001b[0mengine\u001b[0m \u001b[1;33m\u003d\u003d\u001b[0m \u001b[1;34m\"c\"\u001b[0m\u001b[1;33m:\u001b[0m\u001b[1;33m\u001b[0m\u001b[0m\n\u001b[1;32m-\u003e 1135\u001b[1;33m             \u001b[0mself\u001b[0m\u001b[1;33m.\u001b[0m\u001b[0m_engine\u001b[0m \u001b[1;33m\u003d\u001b[0m \u001b[0mCParserWrapper\u001b[0m\u001b[1;33m(\u001b[0m\u001b[0mself\u001b[0m\u001b[1;33m.\u001b[0m\u001b[0mf\u001b[0m\u001b[1;33m,\u001b[0m \u001b[1;33m**\u001b[0m\u001b[0mself\u001b[0m\u001b[1;33m.\u001b[0m\u001b[0moptions\u001b[0m\u001b[1;33m)\u001b[0m\u001b[1;33m\u001b[0m\u001b[0m\n\u001b[0m\u001b[0;32m   1136\u001b[0m         \u001b[1;32melse\u001b[0m\u001b[1;33m:\u001b[0m\u001b[1;33m\u001b[0m\u001b[0m\n\u001b[0;32m   1137\u001b[0m             \u001b[1;32mif\u001b[0m \u001b[0mengine\u001b[0m \u001b[1;33m\u003d\u003d\u001b[0m \u001b[1;34m\"python\"\u001b[0m\u001b[1;33m:\u001b[0m\u001b[1;33m\u001b[0m\u001b[0m\n",
            "\u001b[1;32mc:\\program files\\python36\\lib\\site-packages\\pandas\\io\\parsers.py\u001b[0m in \u001b[0;36m__init__\u001b[1;34m(self, src, **kwds)\u001b[0m\n\u001b[0;32m   1915\u001b[0m         \u001b[0mkwds\u001b[0m\u001b[1;33m[\u001b[0m\u001b[1;34m\"usecols\"\u001b[0m\u001b[1;33m]\u001b[0m \u001b[1;33m\u003d\u001b[0m \u001b[0mself\u001b[0m\u001b[1;33m.\u001b[0m\u001b[0musecols\u001b[0m\u001b[1;33m\u001b[0m\u001b[0m\n\u001b[0;32m   1916\u001b[0m \u001b[1;33m\u001b[0m\u001b[0m\n\u001b[1;32m-\u003e 1917\u001b[1;33m         \u001b[0mself\u001b[0m\u001b[1;33m.\u001b[0m\u001b[0m_reader\u001b[0m \u001b[1;33m\u003d\u001b[0m \u001b[0mparsers\u001b[0m\u001b[1;33m.\u001b[0m\u001b[0mTextReader\u001b[0m\u001b[1;33m(\u001b[0m\u001b[0msrc\u001b[0m\u001b[1;33m,\u001b[0m \u001b[1;33m**\u001b[0m\u001b[0mkwds\u001b[0m\u001b[1;33m)\u001b[0m\u001b[1;33m\u001b[0m\u001b[0m\n\u001b[0m\u001b[0;32m   1918\u001b[0m         \u001b[0mself\u001b[0m\u001b[1;33m.\u001b[0m\u001b[0munnamed_cols\u001b[0m \u001b[1;33m\u003d\u001b[0m \u001b[0mself\u001b[0m\u001b[1;33m.\u001b[0m\u001b[0m_reader\u001b[0m\u001b[1;33m.\u001b[0m\u001b[0munnamed_cols\u001b[0m\u001b[1;33m\u001b[0m\u001b[0m\n\u001b[0;32m   1919\u001b[0m \u001b[1;33m\u001b[0m\u001b[0m\n",
            "\u001b[1;32mpandas\\_libs\\parsers.pyx\u001b[0m in \u001b[0;36mpandas._libs.parsers.TextReader.__cinit__\u001b[1;34m()\u001b[0m\n",
            "\u001b[1;32mpandas\\_libs\\parsers.pyx\u001b[0m in \u001b[0;36mpandas._libs.parsers.TextReader._setup_parser_source\u001b[1;34m()\u001b[0m\n",
            "\u001b[1;31mFileNotFoundError\u001b[0m: [Errno 2] File b\u0027subset_train.csv\u0027 does not exist: b\u0027subset_train.csv\u0027"
          ],
          "ename": "FileNotFoundError",
          "evalue": "[Errno 2] File b\u0027subset_train.csv\u0027 does not exist: b\u0027subset_train.csv\u0027",
          "output_type": "error"
        }
      ],
      "source": [
        "# \u003e\u003e\u003e\u003e\u003e填写\u003c\u003c\u003c\u003c 利用pandas的load_csv函数，读取我们的train 和 test数据集合 变量已经给出 \u003e\u003e\u003e\u003e\u003e填写\u003c\u003c\u003c\u003c ######\n",
        "train \u003d pd.read_csv(\"subset_train.csv\")\n",
        "test \u003d pd.read_csv(\"Small_test.csv\")\n",
        "#####train validation test(完全独立的，与训练过程无关的)"
      ]
    },
    {
      "cell_type": "code",
      "execution_count": 162,
      "metadata": {
        "_cell_guid": "86570a36-5c20-460a-9dfd-2070548532a7",
        "_execution_state": "idle",
        "_uuid": "1213b979d5ed3e0d13824d17d694c79d2ece92fa",
        "pycharm": {}
      },
      "outputs": [
        {
          "data": {
            "image/png": "iVBORw0KGgoAAAANSUhEUgAAAYcAAAEJCAYAAAB/pOvWAAAABHNCSVQICAgIfAhkiAAAAAlwSFlzAAALEgAACxIB0t1+/AAAADh0RVh0U29mdHdhcmUAbWF0cGxvdGxpYiB2ZXJzaW9uMy4xLjEsIGh0dHA6Ly9tYXRwbG90bGliLm9yZy8QZhcZAAAZTklEQVR4nO3df1TW9f3/8ccVv9R5lqNdF3rM2TmuxlELm5WxCmZNUJFQ5CzSRVS6fjjdyGMxxFpupRGL8pSd1sdjJ+f0oKUZI3TT6XcI/eJslGU/VVIiLkBRAbm4uHh///B4Tfcyoeb7fRHcb395vd4XPB/gkYfv6837dbksy7IEAMBpLgh1AABA70M5AAAMlAMAwEA5AAAMlAMAwBAe6gD/q/b2du3Zs0dut1thYWGhjgMA3wqBQEANDQ0aO3asBgwYYBz/1pfDnj17NHv27FDHAIBvpbVr1+qqq64y1m0th6ysLDU1NSk8/OSYpUuX6vPPP9dzzz0nv9+v7Ozs4A/2iooKLVu2TD6fT1OmTFFOTk6PZrjdbkknv8ChQ4fa84UAQB/z5Zdfavbs2cGfof/NtnKwLEv79u3Tzp07g+VQX1+vnJwcvfLKK4qMjFRmZqYmTJigiy++WHl5eVqzZo2GDRumu+++W7t27VJiYmK3c069lDR06FBdfPHFdn05ANAnfdXL8baVw759++RyuTR37lw1NTXp5z//ub7zne/o2muv1ZAhQyRJycnJKisr0zXXXKORI0dqxIgRkqTU1FSVlZX1qBwAAOefbb+tdOzYMcXHx+vZZ5/Viy++qPXr1+uLL7444xTG4/Govr5eXq/3rOsAgNCwrRyuvPJKFRQUaNCgQYqOjlZGRoZWrFhhPM/lculs2zu5XC67ogEAumFbObzzzjuqrKwMPrYsS8OHD1djY2Nwzev1yuPxKCYm5qzrAIDQsK0cjh8/roKCAvl8PrW0tGjTpk164oknVFlZqcOHD+vEiRPatm2bEhISFBcXp/3796umpkaBQEAlJSVKSEiwKxoAoBu2XZCeOHGiqqurNX36dHV1dWnWrFkaP368cnJylJWVJb/fr4yMDF1xxRWSpOXLl2v+/Pny+XxKTEzU5MmT7YoGAOiG69v+fg6HDh3STTfdpO3bt/OrrADQQ9397GRvJZt0+Tv65CwA/cO3fvuM3uqCiEhVFcxxZNb4B/7PkTkA+g/OHAAABsoBAGCgHAAABsoBAGCgHAAABsoBAGCgHAAABsoBAGCgHACERGdnZ5+c1VdwhzSAkAgPD9cf//hHR2YtXLjQkTl9CWcOAAAD5QAAMFAOAAAD5QAAMFAOAAAD5QAAMFAOfVxHpzPvEufUHADO4D6HPi4yPFLZq39t+5wX73ja9hkAnMOZAwDAQDkAAAyUAwDAQDnAdoEO5y5WOzkL6Mu4IA3bhUVGqjTrDkdmTX1ptSNzgL6OMwcAgIFyAAAYKAcAgIFyAAAYKAcAgIFyAAAYKAcAgKFPlkOHv7NPzQEAp/XJm+AiI8I164G1ts/5S8Fs22cAQCjYfubw+OOPKzc3V5K0d+9ezZw5U8nJyVq8eLE6O0/+z/uLL77Q7NmzNXnyZN17771qbW21OxYA4BxsLYfKykpt2rQp+HjRokVasmSJtm7dKsuyVFxcLEl65JFHNGvWLJWVlWns2LFauXKlnbEAAN2wrRyam5tVVFSke+65R5JUW1ur9vZ2jRs3TpKUnp6usrIy+f1+vf3220pOTj5jHQD6C38g0Otm2XbN4aGHHlJOTo7q6uokSV6vV263O3jc7Xarvr5eR44c0eDBgxUeHn7GOgD0FxFhYbp/0y5HZj05I7FHz7PlzGHDhg0aNmyY4uPjg2uWZRnPc7lcX7kOAHYLBPx9ctb5YMuZQ2lpqRoaGpSWlqajR4+qra1NLpdLjY2Nwec0NDTI4/EoOjpaLS0tCgQCCgsLC64DgN3CwiL0/0p+58ishGnOzDlfbDlzWL16tUpKSvTqq69qwYIFuvHGG7Vs2TJFRUWpqqpKkrR582YlJCQoIiJCV111lUpLS89YB84nv9/B13QdnAXYxdH7HAoLC5Wfn6/W1laNHj1aWVlZkqSHH35Yubm5eu655zRs2DA9+eSTTsZCPxAREabHFm90ZFbeoxmOzPmmujoDuiA8rM/Nwvllezmkp6crPT1dkhQbG6uNG81/oMOHD9eaNWvsjgJA0gXhYapeudORWXH3/dSROTj/+uT2GQCA/w3lAAAwUA4AAAPlAAAwUA4AAAPlAAAwUA4AAAPlAAAwUA4AAAPlADio09/RJ2eh7+mT7yEN9FbhEZF68rd3OzLr/mXPOzIHfRNnDgAAA+UAADBQDgAAA+UAADBQDgAAA+UAADBQDgAAA+UAADBQDgAAA+UAADBQDgAAA+UAADBQDgAAA+UAADBQDgAAA+UAADBQDgAAA+UAADBQDgAAA+UAADBQDgAAA+UAADDYWg5PP/20pk6dqpSUFK1evVqSVFFRodTUVCUlJamoqCj43L1792rmzJlKTk7W4sWL1dnZaWc0AMA52FYOb731lt544w1t2bJFL7/8stasWaMPP/xQeXl5WrlypUpLS7Vnzx7t2rVLkrRo0SItWbJEW7dulWVZKi4utisaAKAbtpXDNddco5deeknh4eFqampSIBDQsWPHNHLkSI0YMULh4eFKTU1VWVmZamtr1d7ernHjxkmS0tPTVVZWZlc0AEA3bH1ZKSIiQitWrFBKSori4+Pl9XrldruDxz0ej+rr6411t9ut+vp6O6MBAM7B9gvSCxYsUGVlperq6nTgwAHjuMvlkmVZZ10HAISGbeXw2Wefae/evZKkgQMHKikpSW+++aYaGxuDz/F6vfJ4PIqJiTljvaGhQR6Px65oAIBu2FYOhw4dUn5+vjo6OtTR0aHt27crMzNT+/fvV01NjQKBgEpKSpSQkKDhw4crKipKVVVVkqTNmzcrISHBrmgAgG6E2/WJExMTVV1drenTpyssLExJSUlKSUlRdHS05s+fL5/Pp8TERE2ePFmSVFhYqPz8fLW2tmr06NHKysqyKxoAoBu2lYN08nrDggULzliLj4/Xli1bjOfGxsZq48aNdsYBAPQQd0gDAAw9Koez/Vrpp59+et7DAAB6h3OWQ3Nzs5qbmzV37lwdPXo0+LixsVH33XefUxkBAA475zWHhQsXavfu3ZKkCRMm/OeDwsP1s5/9zN5kAICQOWc5rFq1SpL029/+VsuWLXMkEAAg9Hr020rLli1TbW2tjh49esbdzGPGjLEtGAAgdHpUDoWFhVqzZo0uuuii4JrL5dL27dttCwYACJ0elUNpaam2bdummJgYu/MAAHqBHv0q67BhwygGAOhHenTmEB8fr4KCAt10000aMGBAcJ1rDgDQN/WoHF555RVJOuMNeLjmAAB9V4/KYceOHXbnAAD0Ij0qh9WrV591/Y477jivYQAAvUOPyuHjjz8O/rmjo0NVVVVn3DENAOhbenwT3OkOHz6sBx54wJZAAIDQ+0ZbdkdHR6u2tvZ8ZwEA9BJf+5qDZVnas2fPGXdLAwD6lq99zUE6eVMcLysBQN/1ta451NbWqrOzUyNHjrQ1FAAgtHpUDjU1Nbrvvvvk9XrV1dWl733ve3r++ec1atQou/MBAEKgRxekly5dqjlz5ujtt99WVVWV7r33Xj3yyCN2ZwMAhEiPyqGpqUkzZswIPp45c6aOHDliWygAQGj1qBwCgYCam5uDjw8fPmxbIABA6PXomsMvfvEL3XLLLZoyZYok6fXXX9ftt99uazAAQOj06MwhMTFRkuT3+7Vv3z7V19dr0qRJtgYDAIROj84ccnNzNXv2bGVlZcnn82ndunXKy8vTCy+8YHc+AEAI9OjM4ciRI8rKypIkRUVFKTs7Ww0NDbYGAwCETo8vSNfX1wcfNzY2yrIs20IBAEKrRy8rZWdna/r06brhhhvkcrlUUVHB9hkA0If1qBwyMjI0duxYvfHGGwoLC9Ndd92lyy67zO5sAIAQ6VE5SFJsbKxiY2PtzAIA6CW+0fs5AAD6NsoBAGCgHAAABlvL4ZlnnlFKSopSUlJUUFAgSaqoqFBqaqqSkpJUVFQUfO7evXs1c+ZMJScna/Hixers7LQzGgDgHGwrh4qKCpWXl2vTpk3avHmz3n//fZWUlCgvL08rV65UaWmp9uzZo127dkmSFi1apCVLlmjr1q2yLEvFxcV2RQMAdMO2cnC73crNzVVkZKQiIiI0atQoHThwQCNHjtSIESMUHh6u1NRUlZWVqba2Vu3t7Ro3bpwkKT09XWVlZXZFAwB0w7ZyuPTSS4M/7A8cOKDS0lK5XC653e7gczwej+rr6+X1es9Yd7vdZ9yRDQBwlu0XpD/55BPdeeedevDBB/WDH/zAOO5yuc66FYfL5bI7GgDgK9haDlVVVcrOztbChQs1Y8YMxcTEqLGxMXjc6/XK4/EY6w0NDfJ4PHZGAwCcg23lUFdXp3nz5qmwsFApKSmSpLi4OO3fv181NTUKBAIqKSlRQkKChg8frqioKFVVVUmSNm/erISEBLuiAQC60ePtM76uVatWyefzafny5cG1zMxMLV++XPPnz5fP51NiYqImT54sSSosLFR+fr5aW1s1evTo4BbhAADn2VYO+fn5ys/PP+uxLVu2GGuxsbHauHGjXXEAAF8Dd0gDAAyUAwDAQDkAAAyUAwDAQDkAAAyUAwDAQDkAAAyUAwDAQDkAAAyUAwDAQDkAAAyUAwDAQDkAAAyUAwDAQDkAAAyUAwDAQDkAAAyUAwDAQDkAAAyUAwDAQDkAAAyUAwDAQDkAAAyUAwDAQDkAAAyUAwDAQDkAAAyUAwDAQDkAAAyUAwDAQDkAAAyUAwDAQDkAAAy2l0NLS4umTZumQ4cOSZIqKiqUmpqqpKQkFRUVBZ+3d+9ezZw5U8nJyVq8eLE6OzvtjgYA+Aq2lkN1dbVuvfVWHThwQJLU3t6uvLw8rVy5UqWlpdqzZ4927dolSVq0aJGWLFmirVu3yrIsFRcX2xkNAHAOtpZDcXGxHn74YXk8HknSu+++q5EjR2rEiBEKDw9XamqqysrKVFtbq/b2do0bN06SlJ6errKyMjujAQDOIdzOT/7oo4+e8djr9crtdgcfezwe1dfXG+tut1v19fV2RgMAnIOjF6QtyzLWXC7XV64DAELD0XKIiYlRY2Nj8LHX65XH4zHWGxoagi9FAQCc52g5xMXFaf/+/aqpqVEgEFBJSYkSEhI0fPhwRUVFqaqqSpK0efNmJSQkOBkNAHAaW685/LeoqCgtX75c8+fPl8/nU2JioiZPnixJKiwsVH5+vlpbWzV69GhlZWU5GQ0AcBpHymHHjh3BP8fHx2vLli3Gc2JjY7Vx40Yn4gAAusEd0gAAA+UAADBQDgAAA+UAADBQDgAAA+UAADBQDgAAA+UAADBQDgAAA+UAADBQDgAAA+UAADBQDgAAA+UAADBQDgAAA+UAADBQDgAAA+UAADBQDgAAA+UAADBQDgAAA+UAADBQDgAAA+UAADBQDgAAA+UAADBQDgAAA+UAADBQDgAAA+UAADBQDgAAA+UAADBQDgAAA+UAADD0qnJ47bXXNHXqVE2aNElr164NdRwA6LfCQx3glPr6ehUVFemVV15RZGSkMjMzNWHCBP3whz8MdTQA6Hd6TTlUVFTo2muv1ZAhQyRJycnJKisr069+9atzflwgEJAkffnll2es+9qa7Ql6mkOHDp3zeMPxdtsz9CRHe3NbyDMc9oX+e9HSeiTkGSTpeOuJkOfwHmsMeQZJOn78eMhzNB5uCXkGSWo77Ozfyamfmad+hv43l2VZliOJuvH888+rra1NOTk5kqQNGzbo3Xff1e9///tzftw777yj2bNnOxERAPqctWvX6qqrrjLWe82Zw9k6yuVydftxY8eO1dq1a+V2uxUWFmZHNADocwKBgBoaGjR27NizHu815RATE6N33nkn+Njr9crj8XT7cQMGDDhr6wEAzm3kyJFfeazX/LbST37yE1VWVurw4cM6ceKEtm3bpoSEhFDHAoB+qVedOeTk5CgrK0t+v18ZGRm64oorQh0LAPqlXnNBGgDQe/Sal5UAAL0H5QAAMFAOAAAD5QAAMPT7cuhNm/21tLRo2rRp3d5mb5dnnnlGKSkpSklJUUFBQUgySNLTTz+tqVOnKiUlRatXrw5ZDkl6/PHHlZubG7L5WVlZSklJUVpamtLS0lRdXe14hh07dig9PV2TJ0/WH/7wB8fnSyd3TDj1PUhLS9P48eO1dOlSx3O8+uqrwX8jjz/+uOPzT/nTn/6k5ORkpaam6rnnnrNniNWPffnll9bEiROtI0eOWK2trVZqaqr1ySefhCTLv//9b2vatGnWmDFjrIMHDzo+f/fu3dYtt9xi+Xw+q6Ojw8rKyrK2bdvmeI4333zTyszMtPx+v3XixAlr4sSJ1meffeZ4DsuyrIqKCmvChAnWgw8+GJL5XV1d1nXXXWf5/f6QzLcsy/r888+t66+/3qqrq7M6OjqsW2+91dq5c2fI8liWZX388cfWpEmTrKamJkfntrW1WVdffbXV1NRk+f1+KyMjw9q9e7ejGSzr5L/VadOmWcePH7c6Ozutu+++29q6det5n9OvzxxO3+xv0KBBwc3+QqG4uFgPP/xwj+4Kt4Pb7VZubq4iIyMVERGhUaNG6YsvvnA8xzXXXKOXXnpJ4eHhampqUiAQ0KBBgxzP0dzcrKKiIt1zzz2Ozz5l3759crlcmjt3rm6++Wb9+c9/djzD3/72N02dOlVDhw5VRESEioqKFBcX53iO0/3ud79TTk6OoqOjHZ0bCATU1dWlEydOqLOzU52dnYqKinI0gyR98MEHuv766zV48GCFhYXphhtu0N///vfzPqdfl4PX65Xb7Q4+9ng8qq+vD0mWRx99NKTbgFx66aUaN26cJOnAgQMqLS1VYmJiSLJERERoxYoVSklJUXx8vGJiYhzP8NBDDyknJ0ff/e53HZ99yrFjxxQfH69nn31WL774otavX6/du3c7mqGmpkaBQEB33XWXbr75Zv3lL3/RhRde6GiG01VUVKi9vV1TpkxxfPbgwYP161//WlOmTFFCQoKGDx+uH//4x47nGDNmjMrLy9Xc3Cyfz6cdO3aosfH87+jar8vB+oab/fVln3zyie688049+OCDuuSSS0KWY8GCBaqsrFRdXZ2Ki4sdnb1hwwYNGzZM8fHxjs79b1deeaUKCgo0aNAgRUdHKyMjQ7t27XI0QyAQUGVlpZ544gkVFxfrvffe06ZNmxzNcLr169frjjvuCMnsDz/8UC+//LL+8Y9/qLy8XBdccIFWrVrleI74+Hilp6frtttu05w5czR+/HhFRESc9zn9uhxiYmLOaNyebvbXV1VVVSk7O1sLFy7UjBkzQpLhs88+0969eyVJAwcOVFJSkj766CNHM5SWlmr37t1KS0vTihUrtGPHDj322GOOZpBObkdfWVkZfGxZlsLDnd3x5vvf/77i4+MVHR2tAQMG6KabbtK7777raIZTOjo69Pbbb+vGG28Myfzy8nLFx8froosuUmRkpNLT0/XWW285nqOlpUWTJk3Sa6+9pjVr1mjgwIEaMWLEeZ/Tr8uBzf7+o66uTvPmzVNhYaFSUlJCluPQoUPKz89XR0eHOjo6tH37do0fP97RDKtXr1ZJSYleffVVLViwQDfeeKPy8vIczSCdfCOcgoIC+Xw+tbS0aNOmTZo0aZKjGSZOnKjy8nIdO3ZMgUBA//znPzVmzBhHM5zy0Ucf6ZJLLgnJNShJio2NVUVFhdra2mRZlnbs2KHLL7/c8RyHDh3SvHnz1NnZqePHj2vDhg22vMzWazbeCwU2+/uPVatWyefzafny5cG1zMxM3XrrrY7mSExMVHV1taZPn66wsDAlJSWFtKxCaeLEicHvRVdXl2bNmqUrr7zS0QxxcXGaM2eOZs2aJb/fr+uuu04zZ850NMMpBw8e1NChQ0MyW5Kuv/56ffDBB0pPT1dERIQuv/xy/fKXv3Q8R2xsrJKSknTzzTcrEAgoOzvblv9AsfEeAMDQr19WAgCcHeUAADBQDgAAA+UAADBQDgAAA+UAfE1vvvmmpk2bds7n/OhHP9Lhw4e/1ufNzc0NyR23wNlQDgAAQ7++CQ74X+zfv19Lly5VW1ubvF6vYmNj9dRTTwV36nzqqaf03nvvqaurS7/5zW80ceJESSf3blq3bp26uro0ZMgQLVmyRKNGjQrllwIYKAfgGyouLtb06dOVlpYmv9+v9PR07dy5U8nJyZKkiy++WEuXLtXHH3+s2267Ta+//ro+/fRTbd68WWvXrtXAgQNVXl6u+fPnq7S0NMRfDXAmygH4hhYtWqTdu3frhRde0IEDB+T1etXW1hY8fmrrkcsuu0yjRo3Sv/71L1VVVammpkaZmZnB5x09elTNzc2O5wfOhXIAvqH7779fgUBAU6ZM0U9/+lPV1dWdsQ38BRf855LeqR1Vu7q6lJaWpkWLFkmSurq65PV6Q/oeCcDZcEEa+IbKy8s1b948TZ06VS6XS9XV1QoEAsHjp9734P3331dNTY3i4uJ03XXX6a9//au8Xq8kad26dbr99ttDkh84F84cgG8oJydH8+bN04UXXqiBAwfq6quv1ueffx48fvDgQU2fPl0ul0tPPvmkhgwZohtuuEFz587VnXfeKZfLpcGDB+uZZ57p928yhd6HXVkBAAZeVgIAGCgHAICBcgAAGCgHAICBcgAAGCgHAICBcgAAGCgHAIDh/wM1TII6JGVglAAAAABJRU5ErkJggg\u003d\u003d\n",
            "text/plain": [
              "\u003cFigure size 432x288 with 1 Axes\u003e"
            ]
          },
          "metadata": {},
          "output_type": "display_data"
        }
      ],
      "source": [
        "# \u003e\u003e\u003e\u003e\u003e填写\u003c\u003c\u003c\u003c 利用pandas的header选择，将label列传递给Y_train \u003e\u003e\u003e\u003e\u003e填写\u003c\u003c\u003c\u003c \n",
        "Y_train \u003d train[\"label\"]\n",
        "\n",
        "Y_test \u003d test[\u0027label\u0027]\n",
        "# 因为train.csv中，第一列label在上述代码已经传递给Y_label，这里对于x_train 我们不需要训练集的第一列 #####\n",
        "X_train \u003d train.drop(labels \u003d [\"label\"],axis \u003d 1) \n",
        "X_test \u003d test.drop(labels \u003d [\"label\"],axis \u003d 1)\n",
        "# 释放内存\n",
        "\n",
        "\n",
        "g \u003d sns.countplot(Y_train)\n",
        "\n",
        "Y_train.value_counts()\n",
        "Y_train\n",
        "Y_test.value_counts()\n",
        "g \u003d sns.countplot(Y_train)"
      ]
    },
    {
      "cell_type": "markdown",
      "metadata": {
        "_cell_guid": "5aea4062-1790-4987-b739-c4bebd79030f",
        "_uuid": "b7b1b1d36243c885e57374c8b60c5a7e10abe922",
        "pycharm": {}
      },
      "source": [
        "## We have similar counts for the 10 digits."
      ]
    },
    {
      "cell_type": "markdown",
      "metadata": {
        "_cell_guid": "5b7d4b66-a140-4fcc-a889-bcef007c880a",
        "_uuid": "5d77934302869925c19128c77e247b3c8ca84d71",
        "pycharm": {}
      },
      "source": [
        "## 2.2 Check for null and missing values"
      ]
    },
    {
      "cell_type": "code",
      "execution_count": 143,
      "metadata": {
        "_cell_guid": "ececaa00-2ae3-4d13-b631-438df085b030",
        "_execution_state": "idle",
        "_uuid": "cdf27c27e2a5b15e6d7bfc70de7a18c08f3feb7a",
        "pycharm": {}
      },
      "outputs": [
        {
          "data": {
            "text/plain": [
              "count       784\n",
              "unique        1\n",
              "top       False\n",
              "freq        784\n",
              "dtype: object"
            ]
          },
          "execution_count": 143,
          "metadata": {},
          "output_type": "execute_result"
        }
      ],
      "source": [
        "# 检查训练数据是否有空值\n",
        "X_train.isnull().any().describe() "
      ]
    },
    {
      "cell_type": "code",
      "execution_count": 144,
      "metadata": {
        "_cell_guid": "92572e80-8543-4e72-8767-5c9be8381b04",
        "_execution_state": "idle",
        "_uuid": "a0089bb7ec9aec76373db475399aea24699ae989",
        "pycharm": {}
      },
      "outputs": [
        {
          "data": {
            "text/plain": [
              "count       784\n",
              "unique        1\n",
              "top       False\n",
              "freq        784\n",
              "dtype: object"
            ]
          },
          "execution_count": 144,
          "metadata": {},
          "output_type": "execute_result"
        }
      ],
      "source": [
        "# \u003e\u003e\u003e\u003e填写\u003c\u003c\u003c\u003c 检查训练数据是否有空值 \u003e\u003e\u003e\u003e填写\u003c\u003c\u003c\u003c ###\n",
        "X_test.isnull().any().describe()"
      ]
    },
    {
      "cell_type": "markdown",
      "metadata": {
        "_cell_guid": "09d04cae-4245-4659-85dd-ef48531da295",
        "_uuid": "c0bee59691c2df0b275c78e38e7f9907d02ac038",
        "pycharm": {}
      },
      "source": [
        "I check for corrupted images (missing values inside).\n",
        "\n",
        "There is no missing values in the train and test dataset. So we can safely go ahead."
      ]
    },
    {
      "cell_type": "markdown",
      "metadata": {
        "_cell_guid": "6812040d-80ad-43d2-a571-275f4f20067b",
        "_uuid": "2954681f25f0dcbe986e6914396cdbce61db591f",
        "pycharm": {}
      },
      "source": [
        "## 2.3 Normalization"
      ]
    },
    {
      "cell_type": "markdown",
      "metadata": {
        "_cell_guid": "159d5854-437a-4d0f-bc1e-fc3f7e43d178",
        "_uuid": "0ecf4b52510ab7957d0d4eb646c0aa1ba5986273",
        "pycharm": {}
      },
      "source": [
        "We perform a grayscale normalization to reduce the effect of illumination\u0027s differences. \n",
        "\n",
        "Moreover the CNN converg faster on [0..1] data than on [0..255].\n",
        "标准化，将灰度值 0-255 映射到0 - 1区间"
      ]
    },
    {
      "cell_type": "code",
      "execution_count": 165,
      "metadata": {
        "_cell_guid": "cdc4340b-6e24-4e12-be99-ac806098ff17",
        "_execution_state": "idle",
        "_uuid": "b5d4f8fcf2a967e2c7d57daedf95aa8c5ab7f8cb",
        "pycharm": {}
      },
      "outputs": [],
      "source": [
        "# Normalize the data\n",
        "X_train \u003d X_train / 255.0\n",
        "###### \u003e\u003e\u003e填写\u003c\u003c\u003c 标准化测试集合 #######\n",
        "X_test \u003d X_test / 255.0"
      ]
    },
    {
      "cell_type": "markdown",
      "metadata": {
        "_cell_guid": "7413df94-bcb9-4f75-b174-c127d4445766",
        "_uuid": "a66741bf1ac597094f3a3166877008feef27c519",
        "pycharm": {}
      },
      "source": [
        "## 2.3 Reshape"
      ]
    },
    {
      "cell_type": "code",
      "execution_count": 166,
      "metadata": {
        "_cell_guid": "34b6a5f7-8fd2-4387-8ef4-c9dc19584fed",
        "_execution_state": "idle",
        "_uuid": "f0a6ad80dab8e0f2c2e46165ccd9cd82dd162bc3",
        "pycharm": {}
      },
      "outputs": [],
      "source": [
        "# \u003e\u003e\u003e\u003e填写\u003c\u003c\u003c\u003c\u003c 利用 reshape 函数， 将X_train变换成 (height \u003d 28px, width \u003d 28px , canal \u003d 1)\u003e\u003e\u003e\u003e填写\u003c\u003c\u003c\u003c\u003c ######\n",
        "X_train \u003d X_train.values.reshape(-1,28,28,1)\n",
        "X_test \u003d X_test.values.reshape(-1,28,28,1) \n"
      ]
    },
    {
      "cell_type": "markdown",
      "metadata": {
        "_cell_guid": "8decd1ce-7b7e-431d-8458-eaca18e0e1f7",
        "_uuid": "f4fb5553e188d9956f5d8b3a5d275ab00ea667ce",
        "pycharm": {}
      },
      "source": [
        "Train and test images (28px x 28px) has been stock into pandas.Dataframe as 1D vectors of 784 values. We reshape all data to 28x28x1 3D matrices. \n",
        "\n",
        "Keras requires an extra dimension in the end which correspond to channels. MNIST images are gray scaled so it use only one channel. For RGB images, there is 3 channels, we would have reshaped 784px vectors to 28x28x3 3D matrices. "
      ]
    },
    {
      "cell_type": "markdown",
      "metadata": {
        "_cell_guid": "bdb422e2-bdec-444f-97a5-283a1e54bf2c",
        "_uuid": "39b7a31e843bac6b705461bcce89da216b91799e",
        "pycharm": {}
      },
      "source": [
        "## 2.5 Label encoding"
      ]
    },
    {
      "cell_type": "code",
      "execution_count": 167,
      "metadata": {
        "_cell_guid": "4b7f3e78-44dc-4561-b1f0-9429ee024cf4",
        "_execution_state": "idle",
        "_uuid": "cabefd1478d5c1bdfe57fd6a34395340916a854c",
        "pycharm": {}
      },
      "outputs": [],
      "source": [
        "# 利用0 1编码 将0-9数字标签编码成10维向量 (ex : 9 -\u003e [0,0,0,0,0,0,0,0,0,1])\n",
        "##\n",
        "Y_train \u003d to_categorical(Y_train, num_classes \u003d 10)\n",
        "Y_test \u003d to_categorical(Y_test, num_classes \u003d 10)\n",
        "## one-hot encoding"
      ]
    },
    {
      "cell_type": "markdown",
      "metadata": {
        "_cell_guid": "ae068bd8-b12e-4768-8a7e-0fc865dd7562",
        "_uuid": "dcfb688587dfc6feafd27442a3505e35dc01b82d",
        "pycharm": {}
      },
      "source": [
        "Labels are 10 digits numbers from 0 to 9. We need to encode these lables to one hot vectors (ex : 2 -\u003e [0,0,1,0,0,0,0,0,0,0])."
      ]
    },
    {
      "cell_type": "markdown",
      "metadata": {
        "_cell_guid": "32152fc3-a570-4d64-8a7d-6c689a4acd33",
        "_uuid": "d8abbbf31483b94e1b29d07c4c8253d1311648a7",
        "pycharm": {}
      },
      "source": [
        "## 2.6 Split training and valdiation set "
      ]
    },
    {
      "cell_type": "code",
      "execution_count": 168,
      "metadata": {
        "_cell_guid": "3a698301-9759-4279-ae48-fd980f89ea53",
        "_execution_state": "idle",
        "_uuid": "6e51c925c6e0f1b936679c9649fef345c853555f",
        "pycharm": {}
      },
      "outputs": [],
      "source": [
        "# Set the random seed\n",
        "random_seed \u003d 2"
      ]
    },
    {
      "cell_type": "code",
      "execution_count": 169,
      "metadata": {
        "_cell_guid": "dcd25ebb-d845-4d32-9867-082e352b1396",
        "_execution_state": "idle",
        "_uuid": "b779ac76d8317647db92d5a88b4098d212d72884",
        "pycharm": {}
      },
      "outputs": [],
      "source": [
        "# 将训练集合按照9:1 分成训练集合 和验证集合 validation 10折交叉验证 10-fold validation  ####\n",
        "X_train, X_val, Y_train, Y_val \u003d train_test_split(X_train, Y_train, test_size \u003d 0.1, random_state\u003drandom_seed)"
      ]
    },
    {
      "cell_type": "markdown",
      "metadata": {
        "_cell_guid": "adbeacf0-0dc0-4675-b2df-9c9663750f32",
        "_uuid": "60eed15ec5bc0d354385301789ecb8538fc02267",
        "pycharm": {}
      },
      "source": [
        "We can get a better sense for one of these examples by visualising the image and looking at the label."
      ]
    },
    {
      "cell_type": "code",
      "execution_count": 170,
      "metadata": {
        "_cell_guid": "5f76131b-4ba0-45f1-a98c-bd4e7d561793",
        "_execution_state": "idle",
        "_uuid": "e0dae8943d3d35f075dba3d7ba31bde1d4bf2ff4",
        "pycharm": {}
      },
      "outputs": [
        {
          "data": {
            "image/png": "iVBORw0KGgoAAAANSUhEUgAAAP0AAAD7CAYAAAChbJLhAAAABHNCSVQICAgIfAhkiAAAAAlwSFlzAAALEgAACxIB0t1+/AAAADh0RVh0U29mdHdhcmUAbWF0cGxvdGxpYiB2ZXJzaW9uMy4xLjEsIGh0dHA6Ly9tYXRwbG90bGliLm9yZy8QZhcZAAAQkUlEQVR4nO3df0jU9x8H8OfVZRmM9Z27k42ZlBmxtcwhS4ty/uEVu7ssEqY1D5HyHwuKxtJIio1EJJBFNlgEEQbzFjNKzApajjr/UZbt9kcTTKvpPO2HZeXt1M/3j9gxy/ucnp/73OXr+QChz7363D15w9PPeZ/P3RkURVFARGLMinQAItIXS08kDEtPJAxLTyQMS08kjFHvBxweHobb7YbJZMLs2bP1fniiGW90dBT9/f1Yvnw55s2b99p8WqW/cOECvv/+e/h8PhQWFmLbtm1B93G73ZP6f0Q0PWfOnEFaWtprt4dc+r6+PlRXV+Pnn39GTEwM8vLysGrVKixZskR1P5PJBAC4e/cuRkZGQn14IgrAaDRi4cKF/q69Ng/1jl0uF9LT07FgwQIAwPr169HU1ISdO3eq7vfvU/qRkRGWniiMAv35HPILeR6PZ9xvErPZjL6+vlDvjoh0EnLpJ7p612AwTCsMEYVfyKWPj4/HwMCAf9vj8cBsNmsSiojCJ+TSr169Gi0tLXj48CFevHiBy5cvY926dVpmI6IwCPmFvPj4eOzZswcOhwM+nw+5ublYsWKFltmIKAymdZ7ebrfDbrdrlYWIdMDLcImEYemJhGHpiYRh6YmEYemJhGHpiYRh6YmEYemJhGHpiYRh6YmEYemJhGHpiYRh6YmEYemJhGHpiYRh6YmEYemJhGHpiYRh6YmEYemJhGHpiYRh6YmEYemJhGHpiYRh6YmEYemJhGHpiYRh6YmEYemJhGHpiYSZ1ldVOxwOPHjwAEbjy7v55ptvkJKSokkwIgqPkEuvKAo6Oztx7do1f+mJKPqF/PS+s7MTBoMBO3bswMaNG1FbW6tlLiIKk5AP0U+ePEFGRgYOHTqE4eFhOBwOLFq0CGvWrNEyHxFpLOTSp6amIjU1FQAwf/585Obmorm5maUninIhP71vbW1FS0uLf1tRFP5tT/QGCLn0T58+RVVVFbxeL4aGhlBfX4/s7GwtsxFRGIR8aM7KykJ7ezs2bdqEsbExbN261f90n6LPe++9pzr/8MMPdUryul9//VV17vP5dEoiw7Sej+/evRu7d+/WKgsR6YBX5BEJw9ITCcPSEwnD0hMJw9ITCcOrad4gmzZtUp1/+umnAWcff/yx6r42my2kTFqIi4tTnT98+FCnJDLwSE8kDEtPJAxLTyQMS08kDEtPJAxLTyQMS08kDM/Tv2LevHmq81mzAv+eLCkpUd13y5YtIWX616JFi1TnZrN5WvcfKcnJyarz7777TnVeVlamOr927VrAmaIoqvvORDzSEwnD0hMJw9ITCcPSEwnD0hMJw9ITCcPSEwkz487Tv/vuu6rzjIwM1fmRI0dU50uXLp1yJr388ssvAWfPnj3TMcnUrFu3TnW+atUq1fnVq1dV57GxsQFnw8PDqvvORDzSEwnD0hMJw9ITCcPSEwnD0hMJw9ITCcPSEwkz487Tp6SkqM7Pnz+vUxLt/fTTT6rz4uLigLPHjx9rHWecNWvWqM5zc3MDzr799lut45CKSR3ph4aGYLPZcP/+fQCAy+WC3W6HxWJBdXV1WAMSkbaClr69vR35+fno6uoC8PIKpv379+P48eNobGyE2+1Gc3NzuHMSkUaClt7pdOLgwYP+j2K6desWEhMTkZCQAKPRCLvdjqamprAHJSJtBP2b/vDhw+O2PR4PTCaTf9tsNqOvr0/7ZEQUFlN+9X6iDxI0GAyahCGi8Jty6ePj4zEwMODf9ng8b+ynsBJJNOXSp6Sk4M6dO+ju7sbo6CgaGhqCvjWSiKLHlM/Tz507F5WVldi1axe8Xi8yMzOxYcOGcGSLSj6fL+DsyZMnqvtu375ddd7Z2ak6/+uvv1Tn4TwXv2LFCtW50+lUnb///vtaxpmSEydOBJwVFBTomCQ6TLr0//2ggoyMjDf6IhciyXgZLpEwLD2RMCw9kTAsPZEwLD2RMDPurbWfffZZWO//999/DzjLz89X3ffPP//UOo5mgn3M9MWLF1Xn//vf/7SMo6mkpKRIR4gqPNITCcPSEwnD0hMJw9ITCcPSEwnD0hMJw9ITCTPjztO/9dZbYb3/Tz75JODs1KlTqvuqneOPtKysLNV5NJ+Hp6nhkZ5IGJaeSBiWnkgYlp5IGJaeSBiWnkgYlp5ImBl3nv7s2bOq86KiItX5dM7zZ2RkTGsezXp7e1Xno6OjqvNDhw4FnJWWlqruu2TJEtV5MHPnzg04e/vtt1X3HRwcnNZjRyMe6YmEYemJhGHpiYRh6YmEYemJhGHpiYRh6YmEmXHn6a9fv646D3aePicnR3X+5ZdfTjmTXurr6wPOgn2NdjB79uxRnT969Cjk+25ra1Od//bbbyHfN6D+GQhfffWV6r7l5eXTeuxoNOkj/dDQEGw2G+7fvw8AKCsrg8ViQU5ODnJycnDlypWwhSQi7UzqSN/e3o4DBw6gq6vLf5vb7UZtbS3MZnO4shFRGEzqSO90OnHw4EF/wZ8/f46enh6Ul5fDbrfj6NGjGBsbC2tQItLGpEp/+PBhpKWl+bcfPHiA9PR0VFRUwOl0orW1Neg170QUHUJ69T4hIQE1NTWIi4tDbGwsCgoK0NzcrHU2IgqDkEp/+/ZtXLp0yb+tKAqMxhl3IoBoRgqp9IqioKKiAoODg/D5fKirq0N2drbW2YgoDEI6PC9btgzFxcXIz8/HyMgILBYLbDab1tnCIthrD+fOnVOdR/OpSbXs0z1PTzPHlEp/9epV/7+3bduGbdu2aR6IiMKLl+ESCcPSEwnD0hMJw9ITCcPSEwnDK2peMTIyojo/ffq0TkmIwoNHeiJhWHoiYVh6ImFYeiJhWHoiYVh6ImFYeiJhWHoiYVh6ImFYeiJhWHoiYVh6ImFYeiJhWHoiYVh6ImH4fnqKuP9+MepEgn2GgcPhCPmxc3NzVed1dXWqc7fbHfJjRwqP9ETCsPREwrD0RMKw9ETCsPREwrD0RMKw9ETC8Dw9Rdzjx49V57du3QrbYy9btkx1npGRoTqfsefpjx07BqvVCqvViqqqKgCAy+WC3W6HxWJBdXV1WEMSkXaClt7lcuH69euor6/HuXPn8Mcff6ChoQH79+/H8ePH0djYCLfbjebmZj3yEtE0BS29yWRCaWkpYmJiMGfOHCQlJaGrqwuJiYlISEiA0WiE3W5HU1OTHnmJaJqClj45ORkrV64E8PIa6cbGRhgMBphMJv//MZvN6OvrC19KItLMpF+97+joQFFREfbt24eFCxe+NjcYDJoGI6LwmFTp29raUFhYiL1792Lz5s2Ij4/HwMCAf+7xeGA2m8MWkoi0E/SUXW9vL0pKSlBdXe0/fZGSkoI7d+6gu7sbH3zwARoaGrBly5awhyXS2w8//KA6P3HihE5JtBO09CdPnoTX60VlZaX/try8PFRWVmLXrl3wer3IzMzEhg0bwhqUiLQRtPQHDhzAgQMHJpydP39e80BEFF68DJdIGJaeSBiWnkgYlp5IGJaeSBi+tZaiXn19veo8Ly9PdZ6WlqZlnDcej/REwrD0RMKw9ETCsPREwrD0RMKw9ETCsPREwvA8PUW9zs5O1bnH49EpyczAIz2RMCw9kTAsPZEwLD2RMCw9kTAsPZEwLD2RMDxPT2+8uro61fn69esDzmbPnq26b21tbUiZohmP9ETCsPREwrD0RMKw9ETCsPREwrD0RMKw9ETCTOo8/bFjx3Dx4kUAQGZmJr7++muUlZWhra0NsbGxAICdO3ciOzs7fEmJAjh9+rTqvLu7O+Bs1iz1497NmzdDyhTNgpbe5XLh+vXrqK+vh8FgwPbt23HlyhW43W7U1tbCbDbrkZOINBL06b3JZEJpaSliYmIwZ84cJCUloaenBz09PSgvL4fdbsfRo0cxNjamR14imqagpU9OTsbKlSsBAF1dXWhsbMTatWuRnp6OiooKOJ1OtLa24uzZs2EPS0TTN+kX8jo6OlBUVIR9+/Zh8eLFqKmpQVxcHGJjY1FQUIDm5uZw5iQijUyq9G1tbSgsLMTevXuxefNm3L59G5cuXfLPFUWB0cj37hC9CYKWvre3FyUlJThy5AisViuAlyWvqKjA4OAgfD4f6urq+Mo90Rsi6OH55MmT8Hq9qKys9N+Wl5eH4uJi5OfnY2RkBBaLBTabLaxBiULFPz1foejs3r17ytKlSxWj0agA4A9/+KPxj9FoVJYuXarcu3dvwg7yijwiYVh6ImFYeiJhWHoiYVh6ImFYeiJhWHoiYVh6ImFYeiJhWHoiYVh6ImFYeiJhWHoiYXT/5IvR0dGXD8wP3SAKi3+79W/XXpvrGQYA+vv7AQALFy7U+6GJROnv70diYuJrtxsURVH0DDI8PAy32w2TyRT0u8GJaOpGR0fR39+P5cuXY968ea/NdS89EUUWX8gjEoalJxKGpScShqUnEoalJxKGpScShqUnEiaipb9w4QI+//xzZGdn48yZM5GM8hqHwwGr1YqcnBzk5OSgvb090pEwNDQEm82G+/fvAwBcLhfsdjssFguqq6ujJldZWRksFot/7a5cuRKRXMeOHYPVaoXVakVVVRWA6FmzibLptm46frnNOH///beSlZWlPHr0SHn27Jlit9uVjo6OSMUZZ2xsTFmzZo3i8/kiHcXv5s2bis1mUz766CPl3r17yosXL5TMzEzl7t27is/nU4qKipRr165FPJeiKIrNZlP6+vp0z/JfN27cUL744gvF6/Uq//zzj+JwOJQLFy5ExZpNlO3y5cu6rVvEjvQulwvp6elYsGAB5s+fj/Xr16OpqSlSccbp7OyEwWDAjh07sHHjRtTW1kY6EpxOJw4ePAiz2QwAuHXrFhITE5GQkACj0Qi73R6R9Xs11/Pnz9HT04Py8nLY7XYcPXoUY2NjuucymUwoLS1FTEwM5syZg6SkJHR1dUXFmk2UraenR7d1i1jpPR4PTCaTf9tsNqOvry9SccZ58uQJMjIyUFNTg1OnTuHHH3/EjRs3Iprp8OHDSEtL829Hy/q9muvBgwdIT09HRUUFnE4nWltbcfbsWd1zJScnY+XKlQCArq4uNDY2wmAwRMWaTZRt7dq1uq1bxEqvTHDJv8FgiECS16WmpqKqqgrz58/HO++8g9zc3Kj75tNoXb+EhATU1NQgLi4OsbGxKCgoiOjadXR0oKioCPv27ZvwnZ2RXLP/Zlu8eLFu6xax0sfHx2NgYMC/7fF4/E8RI621tRUtLS3+bUVRou79/9G6frdv38alS5f825Fcu7a2NhQWFmLv3r3YvHlzVK3Zq9n0XLeIlX716tVoaWnBw4cP8eLFC1y+fBnr1q2LVJxxnj59iqqqKni9XgwNDaG+vh7Z2dmRjjVOSkoK7ty5g+7uboyOjqKhoSEq1k9RFFRUVGBwcBA+nw91dXURWbve3l6UlJTgyJEjsFqtAKJnzSbKpue6RezwFR8fjz179sDhcMDn8yE3NxcrVqyIVJxxsrKy0N7ejk2bNmFsbAxbt25FampqpGONM3fuXFRWVmLXrl3wer3IzMzEhg0bIh0Ly5YtQ3FxMfLz8zEyMgKLxQKbzaZ7jpMnT8Lr9aKystJ/W15eXlSsWaBseq0b309PJAyvyCMShqUnEoalJxKGpScShqUnEoalJxKGpScShqUnEub/YBfbuJqDRD0AAAAASUVORK5CYII\u003d\n",
            "text/plain": [
              "\u003cFigure size 432x288 with 1 Axes\u003e"
            ]
          },
          "metadata": {},
          "output_type": "display_data"
        }
      ],
      "source": [
        "# Some examples #x-train里面第一个sample的 0:最大 0:最大 0 [:,:,0] \n",
        "g \u003d plt.imshow(X_train[0][:,:,0],cmap\u003d\u0027gray\u0027) #plt为什么把灰度可以生"
      ]
    },
    {
      "cell_type": "markdown",
      "metadata": {
        "_cell_guid": "d5265777-aeb3-449d-b171-d88cad74c0a4",
        "_uuid": "5fa18b37a9acd9e098bac1d12264b0dd4310fdd3",
        "pycharm": {}
      },
      "source": [
        "# 3. CNN\n",
        "## 3.1 Define the model"
      ]
    },
    {
      "cell_type": "markdown",
      "metadata": {
        "_cell_guid": "504fa00e-148c-4364-9b68-218b3aaedfdb",
        "_uuid": "7697570491420f957f6e4d3569d51410b5277250",
        "pycharm": {}
      },
      "source": []
    },
    {
      "cell_type": "code",
      "execution_count": 171,
      "metadata": {
        "pycharm": {}
      },
      "outputs": [],
      "source": "\nbatch_size \u003d 40\nnum_classes \u003d 10\nepochs \u003d 20\n\ninput_shape \u003d (28,28,1)\n\n###  构建CNN 模型 这里我们利用Sequential 序列累加 ######\nmodel \u003d Sequential()\n### 第一个 卷积层 32个kernel kernel大小3*3 输出的激活函数relu kernel利用 He-正态分布 生成  ####\nmodel.add(Conv2D(32, kernel_size\u003d(3, 3),activation\u003d\u0027relu\u0027,kernel_initializer\u003d\u0027he_normal\u0027,input_shape\u003dinput_shape))\n\n###  请自行构建第二个卷积层，此时kernel的初始尝试用全零初始/全1初始/正态初始\nmodel.add(Conv2D(32, kernel_size\u003d(3, 3),activation\u003d\u0027relu\u0027,kernel_initializer\u003d\u0027he_normal\u0027))\n### 构建一个最大池化层 \nmodel.add(MaxPool2D((2, 2),strides\u003d2))\n\nmodel.add(Dropout(0.20))\n###  在下述卷积层内 构建一个padding, 在之后构建一个kernel size \u003d 2 *2 的池化层 \nmodel.add(Conv2D(64, (3, 3), activation\u003d\u0027relu\u0027,padding\u003d\u0027same\u0027,kernel_initializer\u003d\u0027he_normal\u0027))\nmodel.add(MaxPool2D(pool_size\u003d(2, 2)))\n\nmodel.add(Dropout(0.25))\nmodel.add(Flatten())\n###  构建一个全联接 其中包含128个神经元 并使用relu激活函数\n\n\nmodel.add(Dense(128, activation\u003d\u0027relu\u0027))\nmodel.add(BatchNormalization())\n\nmodel.add(Dropout(0.25))\n\n###  \u003e\u003e\u003e 填写\u003c\u003c\u003c\u003c构建一个全联接，该全联接需要用特定的激活函数和适当的神经元个数 来实现我们的分类目标  提示：我们有多少个标签？什么激活适合最后的输出？\nmodel.add(Dense(num_classes, activation\u003d\u0027softmax\u0027))\n"
    },
    {
      "cell_type": "code",
      "execution_count": 183,
      "metadata": {
        "pycharm": {}
      },
      "outputs": [],
      "source": "\nfrom keras.layers import LSTM\ndata_dim \u003d 16\ntimesteps \u003d 8\nnum_classes \u003d 10\nmodel \u003d Sequential()\nmodel.add(LSTM(32, return_sequences\u003dTrue,\n               input_shape\u003d(timesteps, data_dim)))  # returns a sequence of vectors of dimension 32\nmodel.add(LSTM(32, return_sequences\u003dTrue))  # returns a sequence of vectors of dimension 32\nmodel.add(LSTM(32))  # return a single vector of dimension 32\nmodel.add(Dense(10, activation\u003d\u0027softmax\u0027))"
    },
    {
      "cell_type": "code",
      "execution_count": null,
      "outputs": [],
      "source": "X_train.shape",
      "metadata": {
        "pycharm": {
          "metadata": false,
          "name": "#%%\n"
        }
      }
    },
    {
      "cell_type": "code",
      "execution_count": 184,
      "metadata": {
        "_cell_guid": "a4c55409-6a65-400a-b5e8-a1dc535429c0",
        "_execution_state": "idle",
        "_uuid": "420c704367b397b8255fefe9d882b35ac8929b95",
        "pycharm": {}
      },
      "outputs": [
        {
          "name": "stdout",
          "output_type": "stream",
          "text": [
            "Model: \"sequential_10\"\n",
            "_________________________________________________________________\n",
            "Layer (type)                 Output Shape              Param #   \n",
            "\u003d\u003d\u003d\u003d\u003d\u003d\u003d\u003d\u003d\u003d\u003d\u003d\u003d\u003d\u003d\u003d\u003d\u003d\u003d\u003d\u003d\u003d\u003d\u003d\u003d\u003d\u003d\u003d\u003d\u003d\u003d\u003d\u003d\u003d\u003d\u003d\u003d\u003d\u003d\u003d\u003d\u003d\u003d\u003d\u003d\u003d\u003d\u003d\u003d\u003d\u003d\u003d\u003d\u003d\u003d\u003d\u003d\u003d\u003d\u003d\u003d\u003d\u003d\u003d\u003d\n",
            "lstm_4 (LSTM)                (None, 8, 32)             6272      \n",
            "_________________________________________________________________\n",
            "lstm_5 (LSTM)                (None, 8, 32)             8320      \n",
            "_________________________________________________________________\n",
            "lstm_6 (LSTM)                (None, 32)                8320      \n",
            "_________________________________________________________________\n",
            "dense_10 (Dense)             (None, 10)                330       \n",
            "\u003d\u003d\u003d\u003d\u003d\u003d\u003d\u003d\u003d\u003d\u003d\u003d\u003d\u003d\u003d\u003d\u003d\u003d\u003d\u003d\u003d\u003d\u003d\u003d\u003d\u003d\u003d\u003d\u003d\u003d\u003d\u003d\u003d\u003d\u003d\u003d\u003d\u003d\u003d\u003d\u003d\u003d\u003d\u003d\u003d\u003d\u003d\u003d\u003d\u003d\u003d\u003d\u003d\u003d\u003d\u003d\u003d\u003d\u003d\u003d\u003d\u003d\u003d\u003d\u003d\n",
            "Total params: 23,242\n",
            "Trainable params: 23,242\n",
            "Non-trainable params: 0\n",
            "_________________________________________________________________\n"
          ]
        }
      ],
      "source": "model.summary()"
    },
    {
      "cell_type": "code",
      "execution_count": 173,
      "metadata": {
        "pycharm": {}
      },
      "outputs": [],
      "source": [
        "#优化器  尝试使用不同的优化器 至少以下三种 在DL 一个调节的点\n",
        "## 中文参考 https://keras.io/zh/optimizers/\n",
        "\n",
        "## SGD(lr\u003d0.01, momentum\u003d0.0, decay\u003d0.0, nesterov\u003dFalse)\n",
        "## RMSprop(lr\u003d0.001, rho\u003d0.9, epsilon\u003dNone, decay\u003d0.0)\n",
        "## Adam(lr\u003d0.001, beta_1\u003d0.9, beta_2\u003d0.999, epsilon\u003dNone, decay\u003d0.0, amsgrad\u003dFalse)\n",
        "\n",
        "optimizer \u003d RMSprop(lr\u003d0.01, rho\u003d0.9, epsilon\u003d1e-08, decay\u003d0.0)\n",
        "\n",
        "### 将模型compile 编译\n",
        "### 调节loss 参数，即loss function\n",
        "### mean_squared_error\n",
        "### categorical_crossentropy/为什么不用binary_crossentropy\n",
        "### \n",
        "### mean_absolute_error \n",
        "model.compile(optimizer \u003d optimizer , loss \u003d \"categorical_crossentropy\", metrics\u003d[\"accuracy\"])\n",
        "\n",
        "### training 过程中的 自动调节函数\n",
        "### Reduce LR On Plateau \u003d 减少学习率，当某一个参数达到一个平台期 自动的 把上面优化器中的 lr 减小\n",
        "\n",
        "learning_rate_reduction \u003d ReduceLROnPlateau(monitor\u003d\u0027val_accuracy\u0027, \n",
        "                                            patience\u003d3, \n",
        "                                            verbose\u003d1, \n",
        "                                            factor\u003d0.5, \n",
        "                                            min_lr\u003d0.00001)"
      ]
    },
    {
      "cell_type": "code",
      "execution_count": 174,
      "metadata": {
        "pycharm": {}
      },
      "outputs": [
        {
          "name": "stdout",
          "output_type": "stream",
          "text": [
            "Train on 3780 samples, validate on 420 samples\n",
            "Epoch 1/20\n",
            "3780/3780 [\u003d\u003d\u003d\u003d\u003d\u003d\u003d\u003d\u003d\u003d\u003d\u003d\u003d\u003d\u003d\u003d\u003d\u003d\u003d\u003d\u003d\u003d\u003d\u003d\u003d\u003d\u003d\u003d\u003d\u003d] - 7s 2ms/step - loss: 0.5342 - accuracy: 0.8331 - val_loss: 0.7477 - val_accuracy: 0.8048\n",
            "Epoch 2/20\n",
            " 120/3780 [..............................] - ETA: 5s - loss: 0.2013 - accuracy: 0.9583"
          ]
        },
        {
          "name": "stderr",
          "output_type": "stream",
          "text": [
            "//miniconda3/lib/python3.7/site-packages/keras/callbacks/callbacks.py:1042: RuntimeWarning: Reduce LR on plateau conditioned on metric `val_acc` which is not available. Available metrics are: val_loss,val_accuracy,loss,accuracy,lr\n",
            "  (self.monitor, \u0027,\u0027.join(list(logs.keys()))), RuntimeWarning\n"
          ]
        },
        {
          "name": "stdout",
          "output_type": "stream",
          "text": [
            "3780/3780 [\u003d\u003d\u003d\u003d\u003d\u003d\u003d\u003d\u003d\u003d\u003d\u003d\u003d\u003d\u003d\u003d\u003d\u003d\u003d\u003d\u003d\u003d\u003d\u003d\u003d\u003d\u003d\u003d\u003d\u003d] - 6s 2ms/step - loss: 0.1931 - accuracy: 0.9386 - val_loss: 1.1983 - val_accuracy: 0.7405\n",
            "Epoch 3/20\n",
            "3780/3780 [\u003d\u003d\u003d\u003d\u003d\u003d\u003d\u003d\u003d\u003d\u003d\u003d\u003d\u003d\u003d\u003d\u003d\u003d\u003d\u003d\u003d\u003d\u003d\u003d\u003d\u003d\u003d\u003d\u003d\u003d] - 6s 2ms/step - loss: 0.1306 - accuracy: 0.9624 - val_loss: 0.2645 - val_accuracy: 0.9310\n",
            "Epoch 4/20\n",
            "3780/3780 [\u003d\u003d\u003d\u003d\u003d\u003d\u003d\u003d\u003d\u003d\u003d\u003d\u003d\u003d\u003d\u003d\u003d\u003d\u003d\u003d\u003d\u003d\u003d\u003d\u003d\u003d\u003d\u003d\u003d\u003d] - 6s 2ms/step - loss: 0.0955 - accuracy: 0.9704 - val_loss: 0.2036 - val_accuracy: 0.9381\n",
            "Epoch 5/20\n",
            "3780/3780 [\u003d\u003d\u003d\u003d\u003d\u003d\u003d\u003d\u003d\u003d\u003d\u003d\u003d\u003d\u003d\u003d\u003d\u003d\u003d\u003d\u003d\u003d\u003d\u003d\u003d\u003d\u003d\u003d\u003d\u003d] - 6s 2ms/step - loss: 0.0869 - accuracy: 0.9720 - val_loss: 0.1302 - val_accuracy: 0.9571\n",
            "Epoch 6/20\n",
            "3780/3780 [\u003d\u003d\u003d\u003d\u003d\u003d\u003d\u003d\u003d\u003d\u003d\u003d\u003d\u003d\u003d\u003d\u003d\u003d\u003d\u003d\u003d\u003d\u003d\u003d\u003d\u003d\u003d\u003d\u003d\u003d] - 7s 2ms/step - loss: 0.0728 - accuracy: 0.9757 - val_loss: 0.1172 - val_accuracy: 0.9714\n",
            "Epoch 7/20\n",
            "3780/3780 [\u003d\u003d\u003d\u003d\u003d\u003d\u003d\u003d\u003d\u003d\u003d\u003d\u003d\u003d\u003d\u003d\u003d\u003d\u003d\u003d\u003d\u003d\u003d\u003d\u003d\u003d\u003d\u003d\u003d\u003d] - 7s 2ms/step - loss: 0.0748 - accuracy: 0.9765 - val_loss: 0.2004 - val_accuracy: 0.9500\n",
            "Epoch 8/20\n",
            "3780/3780 [\u003d\u003d\u003d\u003d\u003d\u003d\u003d\u003d\u003d\u003d\u003d\u003d\u003d\u003d\u003d\u003d\u003d\u003d\u003d\u003d\u003d\u003d\u003d\u003d\u003d\u003d\u003d\u003d\u003d\u003d] - 6s 2ms/step - loss: 0.0590 - accuracy: 0.9831 - val_loss: 0.1869 - val_accuracy: 0.9571\n",
            "Epoch 9/20\n",
            "3780/3780 [\u003d\u003d\u003d\u003d\u003d\u003d\u003d\u003d\u003d\u003d\u003d\u003d\u003d\u003d\u003d\u003d\u003d\u003d\u003d\u003d\u003d\u003d\u003d\u003d\u003d\u003d\u003d\u003d\u003d\u003d] - 7s 2ms/step - loss: 0.0453 - accuracy: 0.9862 - val_loss: 0.1489 - val_accuracy: 0.9643\n",
            "Epoch 10/20\n",
            "3780/3780 [\u003d\u003d\u003d\u003d\u003d\u003d\u003d\u003d\u003d\u003d\u003d\u003d\u003d\u003d\u003d\u003d\u003d\u003d\u003d\u003d\u003d\u003d\u003d\u003d\u003d\u003d\u003d\u003d\u003d\u003d] - 7s 2ms/step - loss: 0.0505 - accuracy: 0.9849 - val_loss: 0.1828 - val_accuracy: 0.9619\n",
            "Epoch 11/20\n",
            "3780/3780 [\u003d\u003d\u003d\u003d\u003d\u003d\u003d\u003d\u003d\u003d\u003d\u003d\u003d\u003d\u003d\u003d\u003d\u003d\u003d\u003d\u003d\u003d\u003d\u003d\u003d\u003d\u003d\u003d\u003d\u003d] - 7s 2ms/step - loss: 0.0501 - accuracy: 0.9849 - val_loss: 0.1502 - val_accuracy: 0.9595\n",
            "Epoch 12/20\n",
            "3780/3780 [\u003d\u003d\u003d\u003d\u003d\u003d\u003d\u003d\u003d\u003d\u003d\u003d\u003d\u003d\u003d\u003d\u003d\u003d\u003d\u003d\u003d\u003d\u003d\u003d\u003d\u003d\u003d\u003d\u003d\u003d] - 7s 2ms/step - loss: 0.0416 - accuracy: 0.9854 - val_loss: 0.1640 - val_accuracy: 0.9762\n",
            "Epoch 13/20\n",
            "3780/3780 [\u003d\u003d\u003d\u003d\u003d\u003d\u003d\u003d\u003d\u003d\u003d\u003d\u003d\u003d\u003d\u003d\u003d\u003d\u003d\u003d\u003d\u003d\u003d\u003d\u003d\u003d\u003d\u003d\u003d\u003d] - 7s 2ms/step - loss: 0.0272 - accuracy: 0.9913 - val_loss: 0.1351 - val_accuracy: 0.9762\n",
            "Epoch 14/20\n",
            "3780/3780 [\u003d\u003d\u003d\u003d\u003d\u003d\u003d\u003d\u003d\u003d\u003d\u003d\u003d\u003d\u003d\u003d\u003d\u003d\u003d\u003d\u003d\u003d\u003d\u003d\u003d\u003d\u003d\u003d\u003d\u003d] - 7s 2ms/step - loss: 0.0468 - accuracy: 0.9847 - val_loss: 0.2044 - val_accuracy: 0.9619\n",
            "Epoch 15/20\n",
            "3780/3780 [\u003d\u003d\u003d\u003d\u003d\u003d\u003d\u003d\u003d\u003d\u003d\u003d\u003d\u003d\u003d\u003d\u003d\u003d\u003d\u003d\u003d\u003d\u003d\u003d\u003d\u003d\u003d\u003d\u003d\u003d] - 7s 2ms/step - loss: 0.0381 - accuracy: 0.9873 - val_loss: 0.1530 - val_accuracy: 0.9714\n",
            "Epoch 16/20\n",
            "3780/3780 [\u003d\u003d\u003d\u003d\u003d\u003d\u003d\u003d\u003d\u003d\u003d\u003d\u003d\u003d\u003d\u003d\u003d\u003d\u003d\u003d\u003d\u003d\u003d\u003d\u003d\u003d\u003d\u003d\u003d\u003d] - 7s 2ms/step - loss: 0.0342 - accuracy: 0.9889 - val_loss: 0.1911 - val_accuracy: 0.9595\n",
            "Epoch 17/20\n",
            "3780/3780 [\u003d\u003d\u003d\u003d\u003d\u003d\u003d\u003d\u003d\u003d\u003d\u003d\u003d\u003d\u003d\u003d\u003d\u003d\u003d\u003d\u003d\u003d\u003d\u003d\u003d\u003d\u003d\u003d\u003d\u003d] - 7s 2ms/step - loss: 0.0301 - accuracy: 0.9894 - val_loss: 0.1955 - val_accuracy: 0.9643\n",
            "Epoch 18/20\n",
            "3780/3780 [\u003d\u003d\u003d\u003d\u003d\u003d\u003d\u003d\u003d\u003d\u003d\u003d\u003d\u003d\u003d\u003d\u003d\u003d\u003d\u003d\u003d\u003d\u003d\u003d\u003d\u003d\u003d\u003d\u003d\u003d] - 8s 2ms/step - loss: 0.0297 - accuracy: 0.9899 - val_loss: 0.2046 - val_accuracy: 0.9738\n",
            "Epoch 19/20\n",
            "3780/3780 [\u003d\u003d\u003d\u003d\u003d\u003d\u003d\u003d\u003d\u003d\u003d\u003d\u003d\u003d\u003d\u003d\u003d\u003d\u003d\u003d\u003d\u003d\u003d\u003d\u003d\u003d\u003d\u003d\u003d\u003d] - 7s 2ms/step - loss: 0.0287 - accuracy: 0.9913 - val_loss: 0.1766 - val_accuracy: 0.9786\n",
            "Epoch 20/20\n",
            "3780/3780 [\u003d\u003d\u003d\u003d\u003d\u003d\u003d\u003d\u003d\u003d\u003d\u003d\u003d\u003d\u003d\u003d\u003d\u003d\u003d\u003d\u003d\u003d\u003d\u003d\u003d\u003d\u003d\u003d\u003d\u003d] - 9s 2ms/step - loss: 0.0311 - accuracy: 0.9897 - val_loss: 0.2022 - val_accuracy: 0.9690\n"
          ]
        }
      ],
      "source": [
        "history \u003d model.fit(X_train,Y_train, batch_size\u003dbatch_size,\n",
        "                              epochs \u003d epochs, validation_data \u003d (X_val,Y_val),callbacks\u003d[learning_rate_reduction])\n",
        "\n"
      ]
    },
    {
      "cell_type": "code",
      "execution_count": 179,
      "metadata": {
        "pycharm": {}
      },
      "outputs": [
        {
          "data": {
            "image/png": "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\u003d\n",
            "text/plain": [
              "\u003cFigure size 432x288 with 2 Axes\u003e"
            ]
          },
          "metadata": {},
          "output_type": "display_data"
        }
      ],
      "source": [
        "# 生成学习曲线 和损失函数 随着epoch的变化曲线\n",
        "# 模型的学习效果怎么样？ 能找到适合的epoch吗？\n",
        "# 简单的评价标准应该用什么？\n",
        "# 尝试改变模型参数 生成不同的学习曲线 比较\n",
        "# 提示 从epoch\u003e 优化器\u003e 损失函数\u003e 学习率\u003e dropout有无 依次调试 \n",
        "\n",
        "fig, ax \u003d plt.subplots(2,1)\n",
        "\n",
        "ax[0].plot(history.history[\u0027loss\u0027], color\u003d\u0027b\u0027, label\u003d\"Training loss\")\n",
        "ax[0].plot(history.history[\u0027val_loss\u0027], color\u003d\u0027r\u0027, label\u003d\"validation loss\",axes \u003dax[0])\n",
        "legend \u003d ax[0].legend(loc\u003d\u0027best\u0027, shadow\u003dTrue)\n",
        "\n",
        "ax[1].plot(history.history[\u0027accuracy\u0027], color\u003d\u0027b\u0027, label\u003d\"Training accuracy\")\n",
        "ax[1].plot(history.history[\u0027val_accuracy\u0027], color\u003d\u0027r\u0027,label\u003d\"Validation accuracy\")\n",
        "legend \u003d ax[1].legend(loc\u003d\u0027best\u0027, shadow\u003dTrue)"
      ]
    },
    {
      "cell_type": "code",
      "execution_count": 176,
      "metadata": {
        "pycharm": {}
      },
      "outputs": [
        {
          "data": {
            "image/png": "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\u003d\u003d\n",
            "text/plain": [
              "\u003cFigure size 432x288 with 2 Axes\u003e"
            ]
          },
          "metadata": {},
          "output_type": "display_data"
        }
      ],
      "source": [
        "# 生成10标签混淆矩阵\n",
        "\n",
        "def plot_confusion_matrix(cm, classes,\n",
        "                          normalize\u003dFalse,\n",
        "                          title\u003d\u0027Confusion matrix\u0027,\n",
        "                          cmap\u003dplt.cm.Blues):\n",
        "    \"\"\"\n",
        "    This function prints and plots the confusion matrix.\n",
        "    Normalization can be applied by setting `normalize\u003dTrue`.\n",
        "    \"\"\"\n",
        "    plt.imshow(cm, interpolation\u003d\u0027nearest\u0027, cmap\u003dcmap)\n",
        "    plt.title(title)\n",
        "    plt.colorbar()\n",
        "    tick_marks \u003d np.arange(len(classes))\n",
        "    plt.xticks(tick_marks, classes, rotation\u003d45)\n",
        "    plt.yticks(tick_marks, classes)\n",
        "\n",
        "    if normalize:\n",
        "        cm \u003d cm.astype(\u0027float\u0027) / cm.sum(axis\u003d1)[:, np.newaxis]\n",
        "\n",
        "    thresh \u003d cm.max() / 2.\n",
        "    for i, j in itertools.product(range(cm.shape[0]), range(cm.shape[1])):\n",
        "        plt.text(j, i, cm[i, j],\n",
        "                 horizontalalignment\u003d\"center\",\n",
        "                 color\u003d\"white\" if cm[i, j] \u003e thresh else \"black\")\n",
        "\n",
        "    plt.tight_layout()\n",
        "    plt.ylabel(\u0027True label\u0027)\n",
        "    plt.xlabel(\u0027Predicted label\u0027)\n",
        "\n",
        "# Predict the values from the validation dataset\n",
        "Y_pred \u003d model.predict(X_val)\n",
        "# Convert predictions classes to one hot vectors \n",
        "Y_pred_classes \u003d np.argmax(Y_pred,axis \u003d 1) \n",
        "# Convert validation observations to one hot vectors\n",
        "Y_true \u003d np.argmax(Y_val,axis \u003d 1) \n",
        "# compute the confusion matrix\n",
        "confusion_mtx \u003d confusion_matrix(Y_true, Y_pred_classes) \n",
        "# plot the confusion matrix\n",
        "plot_confusion_matrix(confusion_mtx, classes \u003d range(10)) "
      ]
    },
    {
      "cell_type": "code",
      "execution_count": 177,
      "metadata": {
        "pycharm": {}
      },
      "outputs": [
        {
          "data": {
            "image/png": "[encoded data removed]",
            "text/plain": [
              "\u003cFigure size 432x288 with 9 Axes\u003e"
            ]
          },
          "metadata": {},
          "output_type": "display_data"
        }
      ],
      "source": [
        "### 打印出认错的数字\n",
        "\n",
        "errors \u003d (Y_pred_classes - Y_true !\u003d 0)\n",
        "\n",
        "Y_pred_classes_errors \u003d Y_pred_classes[errors]\n",
        "Y_pred_errors \u003d Y_pred[errors]\n",
        "Y_true_errors \u003d Y_true[errors]\n",
        "X_val_errors \u003d X_val[errors]\n",
        "\n",
        "def display_errors(errors_index,img_errors,pred_errors, obs_errors):\n",
        "    \"\"\" This function shows 6 images with their predicted and real labels\"\"\"\n",
        "    n \u003d 0\n",
        "    nrows \u003d 3\n",
        "    ncols \u003d 3\n",
        "    fig, ax \u003d plt.subplots(nrows,ncols,sharex\u003dTrue,sharey\u003dTrue)\n",
        "    for row in range(nrows):\n",
        "        for col in range(ncols):\n",
        "            error \u003d errors_index[n]\n",
        "            ax[row,col].imshow((img_errors[error]).reshape((28,28)))\n",
        "            ax[row,col].set_title(\"Predicted label :{}\\nTrue label :{}\".format(pred_errors[error],obs_errors[error]))\n",
        "            n +\u003d 1\n",
        "\n",
        "# Probabilities of the wrong predicted numbers\n",
        "Y_pred_errors_prob \u003d np.max(Y_pred_errors,axis \u003d 1)\n",
        "\n",
        "# Predicted probabilities of the true values in the error set\n",
        "true_prob_errors \u003d np.diagonal(np.take(Y_pred_errors, Y_true_errors, axis\u003d1))\n",
        "\n",
        "# Difference between the probability of the predicted label and the true label\n",
        "delta_pred_true_errors \u003d Y_pred_errors_prob - true_prob_errors\n",
        "\n",
        "# Sorted list of the delta prob errors\n",
        "sorted_dela_errors \u003d np.argsort(delta_pred_true_errors)\n",
        "\n",
        "# Top 9 errors \n",
        "most_important_errors \u003d sorted_dela_errors[-9:]\n",
        "\n",
        "# Show the top 9 errors\n",
        "display_errors(most_important_errors, X_val_errors, Y_pred_classes_errors, Y_true_errors)"
      ]
    },
    {
      "cell_type": "code",
      "execution_count": 178,
      "metadata": {
        "pycharm": {}
      },
      "outputs": [],
      "source": [
        "#optional 画出roc\n",
        "from sklearn.metrics import roc_curve, auc\n",
        "fpr \u003d dict()\n",
        "tpr \u003d dict()\n",
        "roc_auc \u003d dict()\n",
        "y_score \u003d model.predict(X_test)\n",
        "# 在前天的作业中 y_test Pandas下的DataFrame类型：y_test\n",
        "# 让数据为 Pandas DataFrame类型的话 调用/使用他 第i行第j列的数据:\n",
        "#  y_test.iloc[i,j]\n",
        "\n",
        "# 在今天的作业中，y_test是 numpy的 numarry数据类型\n",
        "# 让数据为numarray 类型的话 调用/使用他 第i行第j列的数据:\n",
        "# y_test[i,j]\n",
        "for i in range(num_classes):\n",
        "     fpr[i], tpr[i], _ \u003d roc_curve(Y_test[:,i], y_score[:,i]) #\n",
        "    # AUC Area Under the Curve\n",
        "     roc_auc[i] \u003d auc(fpr[i], tpr[i])\n",
        "#y_pred_keras \u003d model.predict(X_test).ravel()\n",
        "##fpr_keras, tpr_keras, thresholds_keras \u003d roc_curve(Y_test, y_pred_keras)\n",
        "#y_pred_keras"
      ]
    },
    {
      "cell_type": "code",
      "execution_count": 152,
      "metadata": {
        "pycharm": {}
      },
      "outputs": [
        {
          "data": {
            "text/plain": [
              "{0: array([0.00000000e+00, 0.00000000e+00, 0.00000000e+00, 0.00000000e+00,\n",
              "        0.00000000e+00, 0.00000000e+00, 0.00000000e+00, 5.26038927e-04,\n",
              "        5.26038927e-04, 1.05207785e-03, 1.05207785e-03, 8.47974750e-01,\n",
              "        8.49026828e-01, 1.00000000e+00]),\n",
              " 1: array([0.00000000e+00, 0.00000000e+00, 0.00000000e+00, 0.00000000e+00,\n",
              "        0.00000000e+00, 0.00000000e+00, 0.00000000e+00, 0.00000000e+00,\n",
              "        0.00000000e+00, 0.00000000e+00, 0.00000000e+00, 0.00000000e+00,\n",
              "        0.00000000e+00, 0.00000000e+00, 0.00000000e+00, 0.00000000e+00,\n",
              "        0.00000000e+00, 0.00000000e+00, 0.00000000e+00, 0.00000000e+00,\n",
              "        0.00000000e+00, 0.00000000e+00, 5.31349628e-04, 5.31349628e-04,\n",
              "        5.84484591e-03, 5.84484591e-03, 6.90754516e-03, 6.90754516e-03,\n",
              "        1.85972370e-02, 1.85972370e-02, 1.00000000e+00]),\n",
              " 2: array([0.        , 0.        , 0.        , 0.        , 0.        ,\n",
              "        0.        , 0.        , 0.        , 0.        , 0.        ,\n",
              "        0.        , 0.        , 0.00106383, 0.00106383, 0.00159574,\n",
              "        0.00159574, 0.00212766, 0.00212766, 0.00265957, 0.00265957,\n",
              "        0.00319149, 0.00319149, 0.0037234 , 0.0037234 , 0.00425532,\n",
              "        0.00425532, 0.00531915, 0.00531915, 0.80212766, 0.80319149,\n",
              "        1.        ]),\n",
              " 3: array([0.00000000e+00, 0.00000000e+00, 0.00000000e+00, 0.00000000e+00,\n",
              "        0.00000000e+00, 0.00000000e+00, 0.00000000e+00, 0.00000000e+00,\n",
              "        0.00000000e+00, 0.00000000e+00, 0.00000000e+00, 0.00000000e+00,\n",
              "        0.00000000e+00, 0.00000000e+00, 0.00000000e+00, 0.00000000e+00,\n",
              "        0.00000000e+00, 0.00000000e+00, 5.33902830e-04, 5.33902830e-04,\n",
              "        1.06780566e-03, 1.06780566e-03, 2.13561132e-03, 2.13561132e-03,\n",
              "        4.27122264e-03, 4.27122264e-03, 6.24666311e-01, 6.25734116e-01,\n",
              "        1.00000000e+00]),\n",
              " 4: array([0.00000000e+00, 0.00000000e+00, 0.00000000e+00, 0.00000000e+00,\n",
              "        0.00000000e+00, 0.00000000e+00, 0.00000000e+00, 5.28820730e-04,\n",
              "        5.28820730e-04, 1.05764146e-03, 1.05764146e-03, 2.64410365e-03,\n",
              "        2.64410365e-03, 1.00000000e+00]),\n",
              " 5: array([0.        , 0.        , 0.        , 0.        , 0.        ,\n",
              "        0.        , 0.        , 0.        , 0.        , 0.        ,\n",
              "        0.00263296, 0.00263296, 1.        ]),\n",
              " 6: array([0.00000000e+00, 0.00000000e+00, 0.00000000e+00, 0.00000000e+00,\n",
              "        0.00000000e+00, 0.00000000e+00, 0.00000000e+00, 0.00000000e+00,\n",
              "        0.00000000e+00, 5.30222694e-04, 5.30222694e-04, 2.12089077e-03,\n",
              "        2.12089077e-03, 1.00000000e+00]),\n",
              " 7: array([0.00000000e+00, 0.00000000e+00, 0.00000000e+00, 0.00000000e+00,\n",
              "        0.00000000e+00, 5.31914894e-04, 5.31914894e-04, 1.06382979e-03,\n",
              "        1.06382979e-03, 1.59574468e-03, 1.59574468e-03, 1.00000000e+00]),\n",
              " 8: array([0.        , 0.        , 0.        , 0.        , 0.        ,\n",
              "        0.        , 0.        , 0.        , 0.        , 0.        ,\n",
              "        0.00156495, 0.00156495, 0.00260824, 0.00260824, 0.00521648,\n",
              "        0.00521648, 0.02399583, 0.02399583, 1.        ]),\n",
              " 9: array([0.00000000e+00, 0.00000000e+00, 0.00000000e+00, 0.00000000e+00,\n",
              "        0.00000000e+00, 0.00000000e+00, 0.00000000e+00, 0.00000000e+00,\n",
              "        0.00000000e+00, 0.00000000e+00, 0.00000000e+00, 0.00000000e+00,\n",
              "        0.00000000e+00, 5.28820730e-04, 5.28820730e-04, 1.05764146e-03,\n",
              "        1.05764146e-03, 2.11528292e-03, 2.11528292e-03, 7.40349022e-03,\n",
              "        7.40349022e-03, 2.37969328e-02, 2.37969328e-02, 1.57588577e-01,\n",
              "        1.57588577e-01, 1.00000000e+00])}"
            ]
          },
          "execution_count": 152,
          "metadata": {},
          "output_type": "execute_result"
        }
      ],
      "source": []
    },
    {
      "cell_type": "code",
      "execution_count": 154,
      "metadata": {
        "pycharm": {}
      },
      "outputs": [
        {
          "data": {
            "image/png": "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\u003d\u003d\n",
            "text/plain": [
              "\u003cFigure size 432x288 with 1 Axes\u003e"
            ]
          },
          "metadata": {},
          "output_type": "display_data"
        }
      ],
      "source": "for i in range(num_classes):\n    plt.plot(fpr[i], tpr[i], lw\u003d2, label\u003d\u0027ROC curve of class {0} (area \u003d {1:0.2f})\u0027\n             \u0027\u0027.format(i, roc_auc[i]))\n\nplt.plot([0, 1], [0, 1], \u0027k--\u0027, lw\u003d2)\nplt.xlim([0.0, 1.0])\nplt.ylim([0.0, 1.05])\nplt.xlabel(\u0027False Positive Rate\u0027)\nplt.ylabel(\u0027True Positive Rate\u0027)\nplt.title(\u0027Some extension of Receiver operating characteristic to multi-class\u0027)\nplt.legend(loc\u003d\"lower right\")\nplt.show()\n\n\n\n### 真标签 Y_score\n    # 1     .99\n    # 1     .98\n    # 1     .97\n    # 1     .96\n    # 1     .98\n    # 1     .000000001"
    },
    {
      "cell_type": "code",
      "execution_count": 1,
      "metadata": {
        "pycharm": {
          "is_executing": false
        }
      },
      "outputs": [
        {
          "name": "stderr",
          "text": [
            "Using TensorFlow backend.\n"
          ],
          "output_type": "stream"
        },
        {
          "traceback": [
            "\u001b[1;31m---------------------------------------------------------------------------\u001b[0m",
            "\u001b[1;31mNameError\u001b[0m                                 Traceback (most recent call last)",
            "\u001b[1;32m\u003cipython-input-1-537f16390a4e\u003e\u001b[0m in \u001b[0;36m\u003cmodule\u003e\u001b[1;34m\u001b[0m\n\u001b[0;32m      1\u001b[0m \u001b[1;32mfrom\u001b[0m \u001b[0mkeras\u001b[0m\u001b[1;33m.\u001b[0m\u001b[0mutils\u001b[0m \u001b[1;32mimport\u001b[0m \u001b[0mplot_model\u001b[0m\u001b[1;33m\u001b[0m\u001b[0m\n\u001b[1;32m----\u003e 2\u001b[1;33m \u001b[0mplot_model\u001b[0m\u001b[1;33m(\u001b[0m\u001b[0mmodel\u001b[0m\u001b[1;33m,\u001b[0m \u001b[0mto_file\u001b[0m\u001b[1;33m\u003d\u001b[0m\u001b[1;34m\u0027model.png\u0027\u001b[0m\u001b[1;33m,\u001b[0m \u001b[0mshow_shapes\u001b[0m\u001b[1;33m\u003d\u001b[0m\u001b[1;32mTrue\u001b[0m\u001b[1;33m)\u001b[0m\u001b[1;33m\u001b[0m\u001b[0m\n\u001b[0m",
            "\u001b[1;31mNameError\u001b[0m: name \u0027model\u0027 is not defined"
          ],
          "ename": "NameError",
          "evalue": "name \u0027model\u0027 is not defined",
          "output_type": "error"
        }
      ],
      "source": "from keras.utils import plot_model\nplot_model(model, to_file\u003d\u0027model.png\u0027, show_shapes\u003dTrue)\n"
    },
    {
      "cell_type": "code",
      "execution_count": null,
      "outputs": [],
      "source": "y_score.shape",
      "metadata": {
        "pycharm": {
          "metadata": false,
          "name": "#%%\n"
        }
      }
    },
    {
      "cell_type": "code",
      "execution_count": 3,
      "metadata": {
        "pycharm": {
          "is_executing": false
        }
      },
      "outputs": [
        {
          "traceback": [
            "\u001b[1;31m---------------------------------------------------------------------------\u001b[0m",
            "\u001b[1;31mNameError\u001b[0m                                 Traceback (most recent call last)",
            "\u001b[1;32m\u003cipython-input-3-4505fa6c9a0b\u003e\u001b[0m in \u001b[0;36m\u003cmodule\u003e\u001b[1;34m\u001b[0m\n\u001b[0;32m     12\u001b[0m \u001b[1;33m\u001b[0m\u001b[0m\n\u001b[0;32m     13\u001b[0m \u001b[0mmodel\u001b[0m \u001b[1;33m\u003d\u001b[0m \u001b[0mSequential\u001b[0m\u001b[1;33m(\u001b[0m\u001b[1;33m)\u001b[0m\u001b[1;33m\u001b[0m\u001b[0m\n\u001b[1;32m---\u003e 14\u001b[1;33m \u001b[0mmodel\u001b[0m\u001b[1;33m.\u001b[0m\u001b[0madd\u001b[0m\u001b[1;33m(\u001b[0m\u001b[0mSimpleRNN\u001b[0m\u001b[1;33m(\u001b[0m\u001b[1;36m128\u001b[0m\u001b[1;33m,\u001b[0m \u001b[0minput_shape\u001b[0m \u001b[1;33m\u003d\u001b[0m \u001b[0minput_shape\u001b[0m\u001b[1;33m,\u001b[0m \u001b[0mreturn_sequences\u001b[0m\u001b[1;33m\u003d\u001b[0m\u001b[1;32mTrue\u001b[0m\u001b[1;33m)\u001b[0m \u001b[1;33m)\u001b[0m\u001b[1;33m\u001b[0m\u001b[0m\n\u001b[0m\u001b[0;32m     15\u001b[0m \u001b[1;31m# 思考 simpleRNN 里面的input shaple中 time_step 和 dim 以及 feature_nm跟我们的图像怎么对应起来\u001b[0m\u001b[1;33m\u001b[0m\u001b[1;33m\u001b[0m\u001b[0m\n\u001b[0;32m     16\u001b[0m \u001b[0mmodel\u001b[0m\u001b[1;33m.\u001b[0m\u001b[0madd\u001b[0m\u001b[1;33m(\u001b[0m\u001b[0mDropout\u001b[0m\u001b[1;33m(\u001b[0m\u001b[1;36m0.3\u001b[0m\u001b[1;33m)\u001b[0m\u001b[1;33m)\u001b[0m\u001b[1;33m\u001b[0m\u001b[0m\n",
            "\u001b[1;31mNameError\u001b[0m: name \u0027input_shape\u0027 is not defined"
          ],
          "ename": "NameError",
          "evalue": "name \u0027input_shape\u0027 is not defined",
          "output_type": "error"
        }
      ],
      "source": "from keras.layers import SimpleRNN\n# 利用RNN 实现上述图片分类 该模型有2层RNN 回馈网络,输出维度选择128\n\n# https://keras-zh.readthedocs.io/layers/recurrent/\n\n# keras.layers.SimpleRNN(units, activation\u003d\u0027tanh\u0027, use_bias\u003dTrue, kernel_initializer\u003d\u0027glorot_uniform\u0027, \n# recurrent_initializer\u003d\u0027orthogonal\u0027, bias_initializer\u003d\u0027zeros\u0027, kernel_regularizer\u003dNone, recurrent_regularizer\u003dNone,\n# bias_regularizer\u003dNone, activity_regularizer\u003dNone, kernel_constraint\u003dNone, recurrent_constraint\u003dNone,\n# bias_constraint\u003dNone, dropout\u003d0.0, recurrent_dropout\u003d0.0, return_sequences\u003dFalse, return_state\u003dFalse, \n# go_backwards\u003dFalse, stateful\u003dFalse, unroll\u003dFalse)\n\n\nmodel \u003d Sequential()                                 \nmodel.add(SimpleRNN(128, input_shape \u003d input_shape, return_sequences\u003dTrue) ) \n# 思考 simpleRNN 里面的input shaple中 time_step 和 dim 以及 feature_nm跟我们的图像怎么对应起来\nmodel.add(Dropout(0.3))            \nmodel.add(SimpleRNN(128))\nmodel.add(Dropout(0.2))\nmodel.add(Dense(10,activation\u003d\u0027softmax\u0027))\n\n\n#将模型构建好以后 放回最上面的模型构建区域，或者重命名模型，执行训练和评估\n#RNN 和 CNN哪个更好？\n# 较难：思考一下model.summary（）下 参数数量的计算\n\n"
    },
    {
      "cell_type": "code",
      "execution_count": 194,
      "metadata": {
        "pycharm": {}
      },
      "outputs": [
        {
          "name": "stdout",
          "output_type": "stream",
          "text": [
            "Model: \"sequential_17\"\n",
            "_________________________________________________________________\n",
            "Layer (type)                 Output Shape              Param #   \n",
            "\u003d\u003d\u003d\u003d\u003d\u003d\u003d\u003d\u003d\u003d\u003d\u003d\u003d\u003d\u003d\u003d\u003d\u003d\u003d\u003d\u003d\u003d\u003d\u003d\u003d\u003d\u003d\u003d\u003d\u003d\u003d\u003d\u003d\u003d\u003d\u003d\u003d\u003d\u003d\u003d\u003d\u003d\u003d\u003d\u003d\u003d\u003d\u003d\u003d\u003d\u003d\u003d\u003d\u003d\u003d\u003d\u003d\u003d\u003d\u003d\u003d\u003d\u003d\u003d\u003d\n",
            "simple_rnn_3 (SimpleRNN)     (None, 28, 128)           20096     \n",
            "_________________________________________________________________\n",
            "dropout_21 (Dropout)         (None, 28, 128)           0         \n",
            "_________________________________________________________________\n",
            "simple_rnn_4 (SimpleRNN)     (None, 128)               32896     \n",
            "_________________________________________________________________\n",
            "dropout_22 (Dropout)         (None, 128)               0         \n",
            "_________________________________________________________________\n",
            "dense_14 (Dense)             (None, 10)                1290      \n",
            "\u003d\u003d\u003d\u003d\u003d\u003d\u003d\u003d\u003d\u003d\u003d\u003d\u003d\u003d\u003d\u003d\u003d\u003d\u003d\u003d\u003d\u003d\u003d\u003d\u003d\u003d\u003d\u003d\u003d\u003d\u003d\u003d\u003d\u003d\u003d\u003d\u003d\u003d\u003d\u003d\u003d\u003d\u003d\u003d\u003d\u003d\u003d\u003d\u003d\u003d\u003d\u003d\u003d\u003d\u003d\u003d\u003d\u003d\u003d\u003d\u003d\u003d\u003d\u003d\u003d\n",
            "Total params: 54,282\n",
            "Trainable params: 54,282\n",
            "Non-trainable params: 0\n",
            "_________________________________________________________________\n"
          ]
        }
      ],
      "source": [
        "model.summary()"
      ]
    },
    {
      "cell_type": "code",
      "execution_count": null,
      "metadata": {
        "pycharm": {}
      },
      "outputs": [],
      "source": []
    }
  ],
  "metadata": {
    "kernelspec": {
      "display_name": "Python 3",
      "language": "python",
      "name": "python3"
    },
    "language_info": {
      "codemirror_mode": {
        "name": "ipython",
        "version": 3
      },
      "file_extension": ".py",
      "mimetype": "text/x-python",
      "name": "python",
      "nbconvert_exporter": "python",
      "pygments_lexer": "ipython3",
      "version": "3.7.3"
    }
  },
  "nbformat": 4,
  "nbformat_minor": 2
}