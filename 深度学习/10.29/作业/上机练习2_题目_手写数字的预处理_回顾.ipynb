{
  "cells": [
    {
      "cell_type": "markdown",
      "metadata": {
        "_cell_guid": "d4c08f48-fe23-4ddb-ac46-d97f05397514",
        "_uuid": "f2156d1dd26a1243e18512002e10872c5bd7271e",
        "pycharm": {}
      },
      "source": [
        "* **1. Introduction**\n",
        "* **2. Data preparation**\n",
        "    * 2.1 Load data\n",
        "    * 2.2 Check for null and missing values\n",
        "    * 2.3 Normalization\n",
        "    * 2.4 Reshape\n",
        "    * 2.5 Label encoding\n",
        "    * 2.6 Split training and valdiation set\n",
        "* **3. CNN**\n",
        "\n",
        "* **4. Evaluate the model**\n",
        "\n",
        "* **5. Prediction and submition**\n"
      ]
    },
    {
      "cell_type": "code",
      "execution_count": 0,
      "metadata": {
        "pycharm": {
          "is_executing": false
        }
      },
      "outputs": [],
      "source": []
    },
    {
      "cell_type": "markdown",
      "metadata": {
        "_cell_guid": "eb88b372-a6e5-40c8-a1c6-c03799165490",
        "_uuid": "e9aff3cf1bb8daa73bec67b970d12195677679f3",
        "pycharm": {}
      },
      "source": [
        "# 1. Introduction\n"
      ]
    },
    {
      "cell_type": "code",
      "execution_count": 1,
      "metadata": {
        "_cell_guid": "f67b9393-8ea1-4e23-b856-2ce149cfe421",
        "_execution_state": "idle",
        "_uuid": "72334cb006d02a4bcfc2a2fe622524eba824c6f8",
        "pycharm": {
          "is_executing": false
        }
      },
      "outputs": [
        {
          "name": "stderr",
          "text": [
            "Using TensorFlow backend.\n"
          ],
          "output_type": "stream"
        }
      ],
      "source": [
        "import pandas as pd\n",
        "import numpy as np\n",
        "import matplotlib.pyplot as plt\n",
        "import matplotlib.image as mpimg\n",
        "import seaborn as sns\n",
        "%matplotlib inline\n",
        "\n",
        "\n",
        "from sklearn.model_selection import train_test_split\n",
        "from sklearn.metrics import confusion_matrix\n",
        "import itertools\n",
        "\n",
        "from keras.utils.np_utils import to_categorical # convert to one-hot-encoding\n",
        "from keras.models import Sequential\n",
        "from keras.layers import Dense, Dropout, Flatten, Conv2D, MaxPool2D\n",
        "from keras.optimizers import RMSprop\n",
        "from keras.preprocessing.image import ImageDataGenerator\n",
        "from keras.callbacks import ReduceLROnPlateau\n",
        "\n",
        "sns.set(style\u003d\u0027white\u0027, context\u003d\u0027notebook\u0027, palette\u003d\u0027deep\u0027)"
      ]
    },
    {
      "cell_type": "markdown",
      "metadata": {
        "_cell_guid": "6d2fb3e6-ab71-4974-b5a2-4af1ebdb99f4",
        "_execution_state": "idle",
        "_uuid": "86061d98eccaa02efe0dab0fa3884e71fcf4c310",
        "pycharm": {}
      },
      "source": [
        "# 2. Data preparation\n",
        "## 2.1 Load data"
      ]
    },
    {
      "cell_type": "code",
      "execution_count": 4,
      "metadata": {
        "_cell_guid": "5e51d00e-62fd-4141-bf73-50ac4f2da7d0",
        "_execution_state": "idle",
        "_uuid": "84bbd5ab8d7895bd430d5ecfe2f7ddf77baa7b74",
        "pycharm": {
          "is_executing": false
        }
      },
      "outputs": [],
      "source": "# \u003e\u003e\u003e\u003e\u003e填写\u003c\u003c\u003c\u003c 利用pandas的load_csv函数，读取我们的train.csv 和 test.csv 数据集合 变量已经给出 \u003e\u003e\u003e\u003e\u003e填写\u003c\u003c\u003c\u003c ######\ntrain \u003dpd.read_csv(\"train.csv\") \ntest \u003d pd.read_csv(\"test.csv\")\n"
    },
    {
      "cell_type": "code",
      "execution_count": 5,
      "metadata": {
        "_cell_guid": "86570a36-5c20-460a-9dfd-2070548532a7",
        "_execution_state": "idle",
        "_uuid": "1213b979d5ed3e0d13824d17d694c79d2ece92fa",
        "pycharm": {
          "is_executing": false
        }
      },
      "outputs": [
        {
          "data": {
            "text/plain": "1    4684\n7    4401\n3    4351\n9    4188\n2    4177\n6    4137\n0    4132\n4    4072\n8    4063\n5    3795\nName: label, dtype: int64"
          },
          "metadata": {},
          "output_type": "execute_result",
          "execution_count": 5
        },
        {
          "data": {
            "text/plain": "\u003cFigure size 432x288 with 1 Axes\u003e",
            "image/png": "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\u003d\u003d\n"
          },
          "metadata": {
            "needs_background": "light"
          },
          "output_type": "display_data"
        }
      ],
      "source": "# \u003e\u003e\u003e\u003e\u003e填写\u003c\u003c\u003c\u003c 利用pandas的header选择，将label列传递给Y_train \u003e\u003e\u003e\u003e\u003e填写\u003c\u003c\u003c\u003c \nY_train \u003dtrain[\"label\"] \n\n# 因为train.csv中，第一列label在上述代码已经传递给Y_label，这里对于x_train 我们不需要训练集的第一列 #####\nX_train \u003d train.drop(labels \u003d [\"label\"],axis \u003d 1) \n\n# 释放内存\ndel train \n\ng \u003d sns.countplot(Y_train)#以条形统计Y_train中每个类别的数量\n\nY_train.value_counts()#对Y_train里面的每个值进行计数并且排序，默认由大到小排列"
    },
    {
      "cell_type": "markdown",
      "metadata": {
        "_cell_guid": "5aea4062-1790-4987-b739-c4bebd79030f",
        "_uuid": "b7b1b1d36243c885e57374c8b60c5a7e10abe922",
        "pycharm": {}
      },
      "source": [
        "We have similar counts for the 10 digits."
      ]
    },
    {
      "cell_type": "markdown",
      "metadata": {
        "_cell_guid": "5b7d4b66-a140-4fcc-a889-bcef007c880a",
        "_uuid": "5d77934302869925c19128c77e247b3c8ca84d71",
        "pycharm": {}
      },
      "source": [
        "## 2.2 Check for null and missing values"
      ]
    },
    {
      "cell_type": "code",
      "execution_count": 6,
      "metadata": {
        "_cell_guid": "ececaa00-2ae3-4d13-b631-438df085b030",
        "_execution_state": "idle",
        "_uuid": "cdf27c27e2a5b15e6d7bfc70de7a18c08f3feb7a",
        "pycharm": {
          "is_executing": false
        }
      },
      "outputs": [
        {
          "data": {
            "text/plain": "count       784\nunique        1\ntop       False\nfreq        784\ndtype: object"
          },
          "metadata": {},
          "output_type": "execute_result",
          "execution_count": 6
        }
      ],
      "source": [
        "# 检查训练数据是否有空值\n",
        "X_train.isnull().any().describe()"
      ]
    },
    {
      "cell_type": "code",
      "execution_count": 7,
      "metadata": {
        "_cell_guid": "92572e80-8543-4e72-8767-5c9be8381b04",
        "_execution_state": "idle",
        "_uuid": "a0089bb7ec9aec76373db475399aea24699ae989",
        "pycharm": {
          "is_executing": false
        }
      },
      "outputs": [
        {
          "data": {
            "text/plain": "count       784\nunique        1\ntop       False\nfreq        784\ndtype: object"
          },
          "metadata": {},
          "output_type": "execute_result",
          "execution_count": 7
        }
      ],
      "source": "# \u003e\u003e\u003e\u003e填写\u003c\u003c\u003c\u003c 检查训练数据是否有空值 \u003e\u003e\u003e\u003e填写\u003c\u003c\u003c\u003c ###\ntest.isnull().any().describe()\n"
    },
    {
      "cell_type": "markdown",
      "metadata": {
        "_cell_guid": "09d04cae-4245-4659-85dd-ef48531da295",
        "_uuid": "c0bee59691c2df0b275c78e38e7f9907d02ac038",
        "pycharm": {}
      },
      "source": [
        "I check for corrupted images (missing values inside).\n",
        "\n",
        "There is no missing values in the train and test dataset. So we can safely go ahead."
      ]
    },
    {
      "cell_type": "markdown",
      "metadata": {
        "_cell_guid": "6812040d-80ad-43d2-a571-275f4f20067b",
        "_uuid": "2954681f25f0dcbe986e6914396cdbce61db591f",
        "pycharm": {}
      },
      "source": [
        "## 2.3 Normalization"
      ]
    },
    {
      "cell_type": "markdown",
      "metadata": {
        "_cell_guid": "159d5854-437a-4d0f-bc1e-fc3f7e43d178",
        "_uuid": "0ecf4b52510ab7957d0d4eb646c0aa1ba5986273",
        "pycharm": {}
      },
      "source": "We perform a grayscale normalization to reduce the effect of illumination\u0027s differences. \n我们执行灰度归一化来减少光照差异的影响。\nMoreover the CNN converg faster on [0..1] data than on [0..255].\n标准化，将灰度值 0-255 映射到0 - 1区间"
    },
    {
      "cell_type": "code",
      "execution_count": 8,
      "metadata": {
        "_cell_guid": "cdc4340b-6e24-4e12-be99-ac806098ff17",
        "_execution_state": "idle",
        "_uuid": "b5d4f8fcf2a967e2c7d57daedf95aa8c5ab7f8cb",
        "pycharm": {
          "is_executing": false
        }
      },
      "outputs": [],
      "source": "# 标准化训练集合，将图像像素转化为0到1之间的实数\nX_train \u003d X_train / 255.0\n###### \u003e\u003e\u003e填写\u003c\u003c\u003c 标准化测试集合 #######\ntest \u003d test/255.0"
    },
    {
      "cell_type": "markdown",
      "metadata": {
        "_cell_guid": "7413df94-bcb9-4f75-b174-c127d4445766",
        "_uuid": "a66741bf1ac597094f3a3166877008feef27c519",
        "pycharm": {}
      },
      "source": [
        "## 2.3 Reshape"
      ]
    },
    {
      "cell_type": "code",
      "execution_count": 10,
      "metadata": {
        "_cell_guid": "34b6a5f7-8fd2-4387-8ef4-c9dc19584fed",
        "_execution_state": "idle",
        "_uuid": "f0a6ad80dab8e0f2c2e46165ccd9cd82dd162bc3",
        "pycharm": {
          "is_executing": false
        }
      },
      "outputs": [],
      "source": "# \u003e\u003e\u003e\u003e填写\u003c\u003c\u003c\u003c\u003c 利用 reshape 函数， 将X_train变换成 (height \u003d 28px, width \u003d 28px , canal \u003d 1)\u003e\u003e\u003e\u003e填写\u003c\u003c\u003c\u003c\u003c ######\nX_train \u003d X_train.values.reshape(-1,28,28,1)\n\ntest \u003d test.values.reshape(-1,28,28,1)"
    },
    {
      "cell_type": "markdown",
      "metadata": {
        "_cell_guid": "8decd1ce-7b7e-431d-8458-eaca18e0e1f7",
        "_uuid": "f4fb5553e188d9956f5d8b3a5d275ab00ea667ce",
        "pycharm": {}
      },
      "source": "Train and test images (28px x 28px) has been stock into pandas.Dataframe as 1D vectors of 784 values. We reshape all data to 28x28x1 3D matrices. \n训练和测试图像(28px x 28px)已经存入pandas。Dataframe是值为784的一维向量\nKeras requires an extra dimension in the end which correspond to channels. MNIST images are gray scaled so it use only one channel. For RGB images, there is 3 channels, we would have reshaped 784px vectors to 28x28x3 3D matrices. \nKeras在最后需要一个额外的维度来对应通道。MNIST图像是灰度的，所以它只使用一个通道。对于RGB图像，有3个通道，我们将把784px的向量重塑为28x28x3的3D矩阵。"
    },
    {
      "cell_type": "markdown",
      "metadata": {
        "_cell_guid": "bdb422e2-bdec-444f-97a5-283a1e54bf2c",
        "_uuid": "39b7a31e843bac6b705461bcce89da216b91799e",
        "pycharm": {}
      },
      "source": [
        "## 2.5 Label encoding"
      ]
    },
    {
      "cell_type": "code",
      "execution_count": 13,
      "metadata": {
        "_cell_guid": "4b7f3e78-44dc-4561-b1f0-9429ee024cf4",
        "_execution_state": "idle",
        "_uuid": "cabefd1478d5c1bdfe57fd6a34395340916a854c",
        "pycharm": {
          "is_executing": false
        }
      },
      "outputs": [],
      "source": "# 利用0 1编码 将0-9数字标签编码成10维向量 (ex : 2 -\u003e [0,0,1,0,0,0,0,0,0,0]) one-hot 编码\nY_train \u003d to_categorical(Y_train, num_classes \u003d 10)"
    },
    {
      "cell_type": "markdown",
      "metadata": {
        "_cell_guid": "ae068bd8-b12e-4768-8a7e-0fc865dd7562",
        "_uuid": "dcfb688587dfc6feafd27442a3505e35dc01b82d",
        "pycharm": {}
      },
      "source": [
        "Labels are 10 digits numbers from 0 to 9. We need to encode these lables to one hot vectors (ex : 2 -\u003e [0,0,1,0,0,0,0,0,0,0])."
      ]
    },
    {
      "cell_type": "markdown",
      "metadata": {
        "_cell_guid": "32152fc3-a570-4d64-8a7d-6c689a4acd33",
        "_uuid": "d8abbbf31483b94e1b29d07c4c8253d1311648a7",
        "pycharm": {}
      },
      "source": [
        "## 2.6 Split training and valdiation set "
      ]
    },
    {
      "cell_type": "code",
      "execution_count": 14,
      "metadata": {
        "_cell_guid": "3a698301-9759-4279-ae48-fd980f89ea53",
        "_execution_state": "idle",
        "_uuid": "6e51c925c6e0f1b936679c9649fef345c853555f",
        "pycharm": {
          "is_executing": false
        }
      },
      "outputs": [],
      "source": [
        "# Set the random seed\n",
        "random_seed \u003d 2"
      ]
    },
    {
      "cell_type": "code",
      "execution_count": 15,
      "metadata": {
        "_cell_guid": "dcd25ebb-d845-4d32-9867-082e352b1396",
        "_execution_state": "idle",
        "_uuid": "b779ac76d8317647db92d5a88b4098d212d72884",
        "pycharm": {
          "is_executing": false
        }
      },
      "outputs": [],
      "source": "# 将训练集合按照9:1 分成训练集合 和验证集合 validation  10折交叉验证 ####\nX_train, X_val, Y_train, Y_val \u003d train_test_split(X_train, Y_train, test_size \u003d 0.1, random_state\u003drandom_seed)"
    },
    {
      "cell_type": "markdown",
      "metadata": {
        "_cell_guid": "adbeacf0-0dc0-4675-b2df-9c9663750f32",
        "_uuid": "60eed15ec5bc0d354385301789ecb8538fc02267",
        "pycharm": {}
      },
      "source": "We can get a better sense for one of these examples by visualising the image and looking at the label.\n我们可以通过可视化图像和查看标签来更好地理解这些例子。"
    },
    {
      "cell_type": "code",
      "execution_count": 16,
      "metadata": {
        "_cell_guid": "5f76131b-4ba0-45f1-a98c-bd4e7d561793",
        "_execution_state": "idle",
        "_uuid": "e0dae8943d3d35f075dba3d7ba31bde1d4bf2ff4",
        "pycharm": {
          "is_executing": false
        }
      },
      "outputs": [
        {
          "data": {
            "text/plain": "\u003cFigure size 432x288 with 1 Axes\u003e",
            "image/png": "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\u003d\u003d\n"
          },
          "metadata": {
            "needs_background": "light"
          },
          "output_type": "display_data"
        }
      ],
      "source": "# Some examples\ng \u003d plt.imshow(X_train[0][:,:,0])#调用imshow()函数实现热图绘制"
    },
    {
      "cell_type": "markdown",
      "metadata": {
        "_cell_guid": "d5265777-aeb3-449d-b171-d88cad74c0a4",
        "_uuid": "5fa18b37a9acd9e098bac1d12264b0dd4310fdd3",
        "pycharm": {}
      },
      "source": [
        "# 3. CNN\n",
        "## 3.1 Define the model"
      ]
    },
    {
      "cell_type": "markdown",
      "metadata": {
        "_cell_guid": "504fa00e-148c-4364-9b68-218b3aaedfdb",
        "_uuid": "7697570491420f957f6e4d3569d51410b5277250",
        "pycharm": {}
      },
      "source": []
    },
    {
      "cell_type": "code",
      "execution_count": null,
      "metadata": {
        "_cell_guid": "1e0f3f88-2ad7-459e-8e02-aecc5f3511ae",
        "_execution_state": "idle",
        "_uuid": "f7991ef6871a26f9fa57acdcd460a69bab53e804",
        "collapsed": true,
        "pycharm": {}
      },
      "outputs": [],
      "source": []
    },
    {
      "cell_type": "code",
      "execution_count": null,
      "metadata": {
        "_cell_guid": "0e26b6a3-ef9d-4ae5-9d79-d5e4b073251a",
        "_uuid": "7065512cf892ba49f0c06e239e3a20ff13667ef2",
        "pycharm": {}
      },
      "outputs": [],
      "source": []
    },
    {
      "cell_type": "code",
      "execution_count": null,
      "metadata": {
        "_cell_guid": "a4c55409-6a65-400a-b5e8-a1dc535429c0",
        "_execution_state": "idle",
        "_uuid": "420c704367b397b8255fefe9d882b35ac8929b95",
        "collapsed": true,
        "pycharm": {}
      },
      "outputs": [],
      "source": []
    },
    {
      "cell_type": "code",
      "execution_count": null,
      "metadata": {
        "_cell_guid": "0bd89b79-1a74-40da-af9a-7a76a8b96ff2",
        "_execution_state": "idle",
        "_uuid": "b4c0288622227a3cd05479aa765e324dbb852f34",
        "collapsed": true,
        "pycharm": {}
      },
      "outputs": [],
      "source": []
    },
    {
      "cell_type": "markdown",
      "metadata": {
        "_cell_guid": "6bc49be3-11e5-48fb-b70f-601aec0f0c86",
        "_uuid": "f4d89b29d55b328e8c446880505c54e674eeec38",
        "pycharm": {}
      },
      "source": []
    },
    {
      "cell_type": "markdown",
      "metadata": {
        "_cell_guid": "35b826b6-c516-47d0-8469-f8d04a102118",
        "_uuid": "bb90d48f4426d1baeb0404f2431e04e3cade59df",
        "pycharm": {}
      },
      "source": []
    },
    {
      "cell_type": "code",
      "execution_count": null,
      "metadata": {
        "_cell_guid": "b5987a18-6bbe-42a2-9d31-333ebc4f7af1",
        "_execution_state": "idle",
        "_uuid": "c4a5b4e462ec5362c47eef4fcc7956fd4e203307",
        "collapsed": true,
        "pycharm": {}
      },
      "outputs": [],
      "source": []
    },
    {
      "cell_type": "code",
      "execution_count": null,
      "metadata": {
        "_cell_guid": "970db455-b393-4b25-806d-92c6766c12c0",
        "_execution_state": "idle",
        "_uuid": "26b0647c46efdb6b1096cf7335a7bf2a3417543a",
        "collapsed": true,
        "pycharm": {}
      },
      "outputs": [],
      "source": []
    },
    {
      "cell_type": "markdown",
      "metadata": {
        "_cell_guid": "241a0f4f-13f5-4b13-be1e-4e3e4a714c06",
        "_uuid": "f24df64b223e0177c94025b6767ab19b722c5386",
        "pycharm": {}
      },
      "source": []
    },
    {
      "cell_type": "markdown",
      "metadata": {
        "_cell_guid": "e2d41e30-0724-40fb-a901-750e514ba9f9",
        "_uuid": "9e498b91419439f0fa791e595f202d9a0d56ad6b",
        "pycharm": {}
      },
      "source": []
    },
    {
      "cell_type": "code",
      "execution_count": null,
      "metadata": {
        "_cell_guid": "ade93d2d-90c6-4401-af95-f7d65f8c0a20",
        "_execution_state": "idle",
        "_uuid": "d4e9e1ade3c04f9ca4d8cd44e799f9e09524d5a1",
        "collapsed": true,
        "pycharm": {}
      },
      "outputs": [],
      "source": []
    },
    {
      "cell_type": "code",
      "execution_count": null,
      "metadata": {
        "_cell_guid": "b342befe-1a6f-44bf-8dab-28033a729122",
        "_execution_state": "idle",
        "_uuid": "21d6192c87d92d497c797656474bccd9cefc5647",
        "collapsed": true,
        "pycharm": {}
      },
      "outputs": [],
      "source": []
    },
    {
      "cell_type": "markdown",
      "metadata": {
        "_cell_guid": "22f80b8a-d4f6-4a34-b33d-ff7334f45d94",
        "_uuid": "51f16d0a5b9d9373438474e7defa7348359d7c18",
        "pycharm": {}
      },
      "source": []
    },
    {
      "cell_type": "code",
      "execution_count": null,
      "metadata": {
        "_cell_guid": "b453af8d-9736-43e3-b486-7a1cd7dd8909",
        "_execution_state": "idle",
        "_uuid": "cf36b3d029f95b553be02d612e097a9769ee8252",
        "collapsed": true,
        "pycharm": {}
      },
      "outputs": [],
      "source": []
    },
    {
      "cell_type": "markdown",
      "metadata": {
        "_cell_guid": "e758621d-b27b-40ff-a93f-bebd2e0e5243",
        "_uuid": "0a1834f2a9f2db15dcaba4a84004b9627d714469",
        "pycharm": {}
      },
      "source": []
    },
    {
      "cell_type": "code",
      "execution_count": null,
      "metadata": {
        "_cell_guid": "eb4b1b73-cbd4-40e8-9790-066fcef4c4c0",
        "_execution_state": "idle",
        "_uuid": "3a831860dd5bb65c8ead1ddcf4ae18ae20dd7f3e",
        "pycharm": {}
      },
      "outputs": [],
      "source": []
    },
    {
      "cell_type": "markdown",
      "metadata": {
        "_cell_guid": "69df90d7-f2fd-497d-a0b2-57c497a3e645",
        "_uuid": "ba77212f82b781b0e5a4e494897b18c31c5e30a3",
        "pycharm": {}
      },
      "source": []
    },
    {
      "cell_type": "markdown",
      "metadata": {
        "_cell_guid": "bacff684-79bb-4ede-83c1-ccb7cf92df77",
        "_uuid": "9f2920cbbfb6f1f566fac4afdd4030c75ee5bf66",
        "pycharm": {}
      },
      "source": []
    },
    {
      "cell_type": "markdown",
      "metadata": {
        "_cell_guid": "de1c65bd-4a88-4351-9f4b-562e72e7e0fd",
        "_uuid": "63698d7d51381b33892ce164b0f21930abb3e937",
        "pycharm": {}
      },
      "source": []
    },
    {
      "cell_type": "markdown",
      "metadata": {
        "_cell_guid": "5688faa0-b33b-4e92-b125-7fa0b37e7df3",
        "_uuid": "3306d29b732341663e50866140dc569360701a81",
        "pycharm": {}
      },
      "source": []
    },
    {
      "cell_type": "code",
      "execution_count": null,
      "metadata": {
        "_cell_guid": "11361e73-8250-4bf5-a353-b0f8ea83e659",
        "_execution_state": "idle",
        "_uuid": "16e161179bf1b51ba66c39b2cead883f1db3a9c7",
        "collapsed": true,
        "pycharm": {}
      },
      "outputs": [],
      "source": []
    },
    {
      "cell_type": "markdown",
      "metadata": {
        "_cell_guid": "1b8a5cdc-9122-4e31-b9fa-0f6b57d33fc8",
        "_uuid": "ecb928433299b163ecc1f6c4e66d4ddcf38fe898",
        "pycharm": {}
      },
      "source": []
    },
    {
      "cell_type": "markdown",
      "metadata": {
        "_cell_guid": "ef54d686-6f79-4d96-a5a0-a64657bd742e",
        "_execution_state": "idle",
        "_uuid": "afd59cae1115188b77abd3471e5e89790cef80a0",
        "pycharm": {}
      },
      "source": []
    },
    {
      "cell_type": "code",
      "execution_count": null,
      "metadata": {
        "_cell_guid": "7b0f31b8-c18b-4529-b0d8-eb4c31e30bbf",
        "_execution_state": "idle",
        "_uuid": "e7a3d6449b499a29db224e42e950f21ca1ec4e36",
        "collapsed": true,
        "pycharm": {}
      },
      "outputs": [],
      "source": []
    },
    {
      "cell_type": "markdown",
      "metadata": {
        "_cell_guid": "d21c4caf-e699-4647-8ef4-e60e868607ae",
        "_execution_state": "idle",
        "_uuid": "afc408bd5545a6a2b2d4e04989890546263cb642",
        "pycharm": {}
      },
      "source": []
    },
    {
      "cell_type": "code",
      "execution_count": null,
      "metadata": {
        "_cell_guid": "05ff3b9f-c3bb-4cec-a8c2-2c128e8f15b3",
        "_execution_state": "idle",
        "_uuid": "7f17e7bf0a54a01a52fef2d554780f6bc6580dc6",
        "collapsed": true,
        "pycharm": {}
      },
      "outputs": [],
      "source": []
    },
    {
      "cell_type": "code",
      "execution_count": null,
      "metadata": {
        "_cell_guid": "b5f1f39f-13b8-439a-8913-0f120e3d47a9",
        "_execution_state": "idle",
        "_uuid": "369dfaab09240f3f12bcff91953ffd315ab84985",
        "collapsed": true,
        "pycharm": {}
      },
      "outputs": [],
      "source": []
    },
    {
      "cell_type": "markdown",
      "metadata": {
        "_cell_guid": "b1c2790e-4313-4b47-937a-b4eaaae6d845",
        "_uuid": "0ec3bcf47cd49afea61aa9ed60ced64de8fc2d3d",
        "pycharm": {}
      },
      "source": []
    }
  ],
  "metadata": {
    "kernelspec": {
      "display_name": "Python 3",
      "language": "python",
      "name": "python3"
    },
    "language_info": {
      "codemirror_mode": {
        "name": "ipython",
        "version": 3
      },
      "file_extension": ".py",
      "mimetype": "text/x-python",
      "name": "python",
      "nbconvert_exporter": "python",
      "pygments_lexer": "ipython3",
      "version": "3.7.3"
    }
  },
  "nbformat": 4,
  "nbformat_minor": 2
}