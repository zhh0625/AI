{
  "cells": [
    {
      "cell_type": "code",
      "execution_count": 1,
      "metadata": {
        "pycharm": {
          "is_executing": false
        }
      },
      "outputs": [],
      "source": "import matplotlib.pyplot as plt\nimport tensorflow as tf\n%matplotlib inline"
    },
    {
      "cell_type": "code",
      "execution_count": 2,
      "metadata": {
        "pycharm": {
          "is_executing": false
        }
      },
      "outputs": [
        {
          "data": {
            "text/plain": "\u003cmatplotlib.collections.PathCollection at 0x25b1d6b4f98\u003e"
          },
          "metadata": {},
          "output_type": "execute_result",
          "execution_count": 2
        },
        {
          "data": {
            "text/plain": "\u003cFigure size 432x288 with 1 Axes\u003e",
            "image/png": "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\u003d\u003d\n"
          },
          "metadata": {
            "needs_background": "light"
          },
          "output_type": "display_data"
        }
      ],
      "source": "####### \u003e\u003e\u003e\u003e\u003e填写\u003c\u003c\u003c\u003c\u003c   设置你想要的真实斜率和截距， 以及数据点(50-200) \u003e\u003e\u003e\u003e\u003e填写\u003c\u003c\u003c\u003c\u003c ############\ntrue_w \u003d4\ntrue_b \u003d6\nnum_samples \u003d150\n\n############################################################################################\n\n\n# 初始化随机数据\nX \u003d tf.random.normal(shape\u003d[num_samples, 1]).numpy()\nnoise \u003d tf.random.normal(shape\u003d[num_samples, 1]).numpy()\n\n####### \u003e\u003e\u003e\u003e\u003e填写\u003c\u003c\u003c\u003c\u003c 在下述函数尾端，添加噪音项, 注意删除下划线 \u003e\u003e\u003e\u003e\u003e填写\u003c\u003c\u003c\u003c\u003c  ################################\ny \u003d X * true_w + true_b + noise\n#######################################\n\nplt.scatter(X, y)"
    },
    {
      "cell_type": "code",
      "execution_count": 3,
      "metadata": {
        "pycharm": {
          "is_executing": false
        }
      },
      "outputs": [],
      "source": "\nW \u003d tf.Variable(tf.random.uniform([1]))  # 随机初始化参数\nb \u003d tf.Variable(tf.random.uniform([1]))\n\n# \u003e\u003e\u003e\u003e\u003e填写\u003c\u003c\u003c\u003c\u003c  定义一个随机一元一次线性函数  y \u003d W * x + b   \u003e\u003e\u003e\u003e\u003e填写\u003c\u003c\u003c\u003c\u003c  ##\n# 思考 这里的x为什么是小写？ #\ndef random_line(x):\n    y\u003dW*x+b\n    return y\n"
    },
    {
      "cell_type": "code",
      "execution_count": 4,
      "metadata": {
        "pycharm": {
          "is_executing": false
        }
      },
      "outputs": [
        {
          "data": {
            "text/plain": "[\u003cmatplotlib.lines.Line2D at 0x25b18175128\u003e]"
          },
          "metadata": {},
          "output_type": "execute_result",
          "execution_count": 4
        },
        {
          "data": {
            "text/plain": "\u003cFigure size 432x288 with 1 Axes\u003e",
            "image/png": "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\u003d\u003d\n"
          },
          "metadata": {
            "needs_background": "light"
          },
          "output_type": "display_data"
        }
      ],
      "source": [
        "plt.scatter(X, y)\n",
        "plt.plot(X, random_line(X), c\u003d\u0027r\u0027)"
      ]
    },
    {
      "cell_type": "code",
      "execution_count": 5,
      "metadata": {
        "pycharm": {
          "is_executing": false
        }
      },
      "outputs": [],
      "source": [
        "def loss_fn( x, y):\n",
        "    y_ \u003d random_line(x)\n",
        "    return tf.reduce_mean(tf.square(y_ - y))"
      ]
    },
    {
      "cell_type": "code",
      "execution_count": 6,
      "metadata": {
        "pycharm": {
          "is_executing": false
        }
      },
      "outputs": [
        {
          "name": "stdout",
          "text": [
            "Epoch [0/30], loss [41.547], W is [0.959], b is [0.550]\nEpoch [1/30], loss [39.966], W is [1.019], b is [0.658]\nEpoch [2/30], loss [38.448], W is [1.078], b is [0.764]\nEpoch [3/30], loss [36.988], W is [1.136], b is [0.868]\nEpoch [4/30], loss [35.586], W is [1.193], b is [0.970]\nEpoch [5/30], loss [34.238], W is [1.249], b is [1.070]\nEpoch [6/30], loss [32.943], W is [1.304], b is [1.167]\nEpoch [7/30], loss [31.698], W is [1.357], b is [1.263]\nEpoch [8/30], loss [30.502], W is [1.410], b is [1.358]\nEpoch [9/30], loss [29.353], W is [1.461], b is [1.450]\nEpoch [10/30], loss [28.248], W is [1.512], b is [1.540]\nEpoch [11/30], loss [27.187], W is [1.561], b is [1.629]\nEpoch [12/30], loss [26.167], W is [1.609], b is [1.716]\nEpoch [13/30], loss [25.187], W is [1.657], b is [1.801]\nEpoch [14/30], loss [24.245], W is [1.704], b is [1.884]\nEpoch [15/30], loss [23.339], W is [1.749], b is [1.966]\nEpoch [16/30], loss [22.470], W is [1.794], b is [2.046]\nEpoch [17/30], loss [21.634], W is [1.838], b is [2.125]\nEpoch [18/30], loss [20.830], W is [1.881], b is [2.202]\nEpoch [19/30], loss [20.058], W is [1.923], b is [2.278]\nEpoch [20/30], loss [19.316], W is [1.965], b is [2.352]\nEpoch [21/30], loss [18.603], W is [2.005], b is [2.424]\nEpoch [22/30], loss [17.918], W is [2.045], b is [2.496]\nEpoch [23/30], loss [17.260], W is [2.084], b is [2.565]\nEpoch [24/30], loss [16.627], W is [2.122], b is [2.634]\nEpoch [25/30], loss [16.019], W is [2.160], b is [2.701]\nEpoch [26/30], loss [15.435], W is [2.196], b is [2.767]\nEpoch [27/30], loss [14.873], W is [2.232], b is [2.831]\nEpoch [28/30], loss [14.334], W is [2.268], b is [2.894]\nEpoch [29/30], loss [13.815], W is [2.302], b is [2.956]\n"
          ],
          "output_type": "stream"
        }
      ],
      "source": "### \u003e\u003e\u003e\u003e\u003e填写\u003c\u003c\u003c\u003c\u003c 通过改变epochs 的值，推荐起始10， 和learning rate 学习率 推荐0.1起始 观察梯度下降学习的线性函数w b的值，以及loss函数的变化\u003e\u003e\u003e\u003e\u003e填写\u003c\u003c\u003c\u003c\u003c  ######\n\nEPOCHS \u003d30\nLEARNING_RATE \u003d0.01\n#######################################################################################################################################\n\n\n\nfor epoch in range(EPOCHS):  # 迭代次数\n    with tf.GradientTape() as tape:  # 追踪梯度\n        loss \u003d loss_fn(X, y)  # 计算损失\n    dW, db \u003d tape.gradient(loss, [W, b])  # 计算梯度\n    W.assign_sub(LEARNING_RATE * dW)  # 更新梯度\n    b.assign_sub(LEARNING_RATE * db)\n    # 输出计算过程\n    print(\u0027Epoch [{}/{}], loss [{:.3f}], W is [{:.3f}], b is [{:.3f}]\u0027.format(epoch, EPOCHS, loss,\n                                                                     float(W.numpy()),\n                                                                     float(b.numpy())))"
    },
    {
      "cell_type": "code",
      "execution_count": null,
      "metadata": {
        "pycharm": {}
      },
      "outputs": [],
      "source": []
    }
  ],
  "metadata": {
    "kernelspec": {
      "display_name": "Python 3",
      "language": "python",
      "name": "python3"
    },
    "language_info": {
      "codemirror_mode": {
        "name": "ipython",
        "version": 3
      },
      "file_extension": ".py",
      "mimetype": "text/x-python",
      "name": "python",
      "nbconvert_exporter": "python",
      "pygments_lexer": "ipython3",
      "version": "3.7.3"
    }
  },
  "nbformat": 4,
  "nbformat_minor": 2
}